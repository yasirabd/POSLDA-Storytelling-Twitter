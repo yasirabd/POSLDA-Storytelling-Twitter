{
 "cells": [
  {
   "cell_type": "code",
   "execution_count": 1,
   "metadata": {},
   "outputs": [],
   "source": [
    "attractions = ['lawang sewu', 'kampung pelangi', 'puri maerakaca']"
   ]
  },
  {
   "cell_type": "code",
   "execution_count": 2,
   "metadata": {},
   "outputs": [
    {
     "data": {
      "text/plain": [
       "5"
      ]
     },
     "execution_count": 2,
     "metadata": {},
     "output_type": "execute_result"
    }
   ],
   "source": [
    "document = ['bangunan bersejarah lawang sewu',\n",
    "            'tempat favorit wisatawan kampung pelangi',\n",
    "            'kampung yang keren ya kampung pelangi',\n",
    "            'tempat keren adalah yang puri maerakaca',\n",
    "            'wisata favorit lawang sewu dan kampung pelangi']\n",
    "len(document)"
   ]
  },
  {
   "cell_type": "code",
   "execution_count": 3,
   "metadata": {},
   "outputs": [
    {
     "data": {
      "text/plain": [
       "'lawang-sewu'"
      ]
     },
     "execution_count": 3,
     "metadata": {},
     "output_type": "execute_result"
    }
   ],
   "source": [
    "a = 'lawang sewu'\n",
    "b = a.split()\n",
    "d = '-'.join(b)\n",
    "a.replace('lawang sewu', 'lawang-sewu')"
   ]
  },
  {
   "cell_type": "code",
   "execution_count": 4,
   "metadata": {},
   "outputs": [],
   "source": [
    "new_doc = []\n",
    "for doc in document:\n",
    "    for att in attractions:\n",
    "        if att in doc:\n",
    "            att_split = att.split()\n",
    "            att_strip = '-'.join(att_split)\n",
    "            doc = doc.replace(att, att_strip)\n",
    "    new_doc.append(doc)"
   ]
  },
  {
   "cell_type": "code",
   "execution_count": 5,
   "metadata": {},
   "outputs": [
    {
     "data": {
      "text/plain": [
       "['bangunan bersejarah lawang-sewu',\n",
       " 'tempat favorit wisatawan kampung-pelangi',\n",
       " 'kampung yang keren ya kampung-pelangi',\n",
       " 'tempat keren adalah yang puri-maerakaca',\n",
       " 'wisata favorit lawang-sewu dan kampung-pelangi']"
      ]
     },
     "execution_count": 5,
     "metadata": {},
     "output_type": "execute_result"
    }
   ],
   "source": [
    "new_doc"
   ]
  },
  {
   "cell_type": "code",
   "execution_count": null,
   "metadata": {},
   "outputs": [],
   "source": []
  }
 ],
 "metadata": {
  "kernelspec": {
   "display_name": "Python 3",
   "language": "python",
   "name": "python3"
  },
  "language_info": {
   "codemirror_mode": {
    "name": "ipython",
    "version": 3
   },
   "file_extension": ".py",
   "mimetype": "text/x-python",
   "name": "python",
   "nbconvert_exporter": "python",
   "pygments_lexer": "ipython3",
   "version": "3.6.1"
  }
 },
 "nbformat": 4,
 "nbformat_minor": 2
}
