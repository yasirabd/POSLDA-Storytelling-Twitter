{
 "cells": [
  {
   "cell_type": "code",
   "execution_count": 1,
   "metadata": {},
   "outputs": [
    {
     "name": "stdout",
     "output_type": "stream",
     "text": [
      "Loading dataset...\n",
      "done in 3.624s.\n",
      "Extracting tf-idf features for NMF...\n",
      "done in 0.804s.\n",
      "Extracting tf features for LDA...\n",
      "done in 1.009s.\n",
      "\n",
      "Fitting the NMF model (Frobenius norm) with tf-idf features, n_samples=2000 and n_features=1000...\n",
      "done in 0.518s.\n",
      "\n",
      "Topics in NMF model (Frobenius norm):\n",
      "Topic #0: just people don think like know time good make way really say right ve want did ll new use years\n",
      "Topic #1: windows use dos using window program os drivers application help software pc running ms screen files version card code work\n",
      "Topic #2: god jesus bible faith christian christ christians does heaven sin believe lord life church mary atheism belief human love religion\n",
      "Topic #3: thanks know does mail advance hi info interested email anybody looking card help like appreciated information send list video need\n",
      "Topic #4: car cars tires miles 00 new engine insurance price condition oil power speed good 000 brake year models used bought\n",
      "Topic #5: edu soon com send university internet mit ftp mail cc pub article information hope program mac email home contact blood\n",
      "Topic #6: file problem files format win sound ftp pub read save site help image available create copy running memory self version\n",
      "Topic #7: game team games year win play season players nhl runs goal hockey toronto division flyers player defense leafs bad teams\n",
      "Topic #8: drive drives hard disk floppy software card mac computer power scsi controller apple mb 00 pc rom sale problem internal\n",
      "Topic #9: key chip clipper keys encryption government public use secure enforcement phone nsa communications law encrypted security clinton used legal standard\n",
      "\n",
      "Fitting the NMF model (generalized Kullback-Leibler divergence) with tf-idf features, n_samples=2000 and n_features=1000...\n",
      "done in 3.151s.\n",
      "\n",
      "Topics in NMF model (generalized Kullback-Leibler divergence):\n",
      "Topic #0: people just like time don say really know way things make think right said did want ve probably work years\n",
      "Topic #1: windows thanks using help need hi work know use looking mail software does used pc video available running info advance\n",
      "Topic #2: god does true read know say believe subject says religion mean question point jesus people book christian mind understand matter\n",
      "Topic #3: thanks know like interested mail just want new send edu list does bike thing email reply post wondering hear heard\n",
      "Topic #4: time new 10 year sale old offer 20 16 15 great 30 weeks good test model condition 11 14 power\n",
      "Topic #5: use number com government new university data states information talk phone right including security provide control following long used research\n",
      "Topic #6: edu try file soon remember problem com program hope mike space article wrong library short include win little couldn sun\n",
      "Topic #7: year world team game play won win games season maybe case second does did series playing nhl fact said points\n",
      "Topic #8: think don drive need hard make people mac read going pretty try sure order means trying apple case bit drives\n",
      "Topic #9: just good use way got like ll doesn want sure don doing thought does wrong right better make stuff speed\n",
      "\n",
      "Fitting LDA models with tf features, n_samples=2000 and n_features=1000...\n",
      "done in 11.435s.\n",
      "\n",
      "Topics in LDA model:\n",
      "Topic #0: edu com mail send graphics ftp pub available contact university list faq ca information cs 1993 program sun uk mit\n",
      "Topic #1: don like just know think ve way use right good going make sure ll point got need really time doesn\n",
      "Topic #2: christian think atheism faith pittsburgh new bible radio games alt lot just religion like book read play time subject believe\n",
      "Topic #3: drive disk windows thanks use card drives hard version pc software file using scsi help does new dos controller 16\n",
      "Topic #4: hiv health aids disease april medical care research 1993 light information study national service test led 10 page new drug\n",
      "Topic #5: god people does just good don jesus say israel way life know true fact time law want believe make think\n",
      "Topic #6: 55 10 11 18 15 team game 19 period play 23 12 13 flyers 20 25 22 17 24 16\n",
      "Topic #7: car year just cars new engine like bike good oil insurance better tires 000 thing speed model brake driving performance\n",
      "Topic #8: people said did just didn know time like went think children came come don took years say dead told started\n",
      "Topic #9: key space law government public use encryption earth section security moon probe enforcement keys states lunar military crime surface technology\n",
      "\n"
     ]
    }
   ],
   "source": [
    "# Author: Olivier Grisel <olivier.grisel@ensta.org>\n",
    "#         Lars Buitinck\n",
    "#         Chyi-Kwei Yau <chyikwei.yau@gmail.com>\n",
    "# License: BSD 3 clause\n",
    "\n",
    "from __future__ import print_function\n",
    "from time import time\n",
    "\n",
    "from sklearn.feature_extraction.text import TfidfVectorizer, CountVectorizer\n",
    "from sklearn.decomposition import NMF, LatentDirichletAllocation\n",
    "from sklearn.datasets import fetch_20newsgroups\n",
    "\n",
    "n_samples = 2000\n",
    "n_features = 1000\n",
    "n_components = 10\n",
    "n_top_words = 20\n",
    "\n",
    "\n",
    "def print_top_words(model, feature_names, n_top_words):\n",
    "    for topic_idx, topic in enumerate(model.components_):\n",
    "        message = \"Topic #%d: \" % topic_idx\n",
    "        message += \" \".join([feature_names[i]\n",
    "                             for i in topic.argsort()[:-n_top_words - 1:-1]])\n",
    "        print(message)\n",
    "    print()\n",
    "\n",
    "\n",
    "# Load the 20 newsgroups dataset and vectorize it. We use a few heuristics\n",
    "# to filter out useless terms early on: the posts are stripped of headers,\n",
    "# footers and quoted replies, and common English words, words occurring in\n",
    "# only one document or in at least 95% of the documents are removed.\n",
    "\n",
    "print(\"Loading dataset...\")\n",
    "t0 = time()\n",
    "dataset = fetch_20newsgroups(shuffle=True, random_state=1,\n",
    "                             remove=('headers', 'footers', 'quotes'))\n",
    "data_samples = dataset.data[:n_samples]\n",
    "print(\"done in %0.3fs.\" % (time() - t0))\n",
    "\n",
    "# Use tf-idf features for NMF.\n",
    "print(\"Extracting tf-idf features for NMF...\")\n",
    "tfidf_vectorizer = TfidfVectorizer(max_df=0.95, min_df=2,\n",
    "                                   max_features=n_features,\n",
    "                                   stop_words='english')\n",
    "t0 = time()\n",
    "tfidf = tfidf_vectorizer.fit_transform(data_samples)\n",
    "print(\"done in %0.3fs.\" % (time() - t0))\n",
    "\n",
    "# Use tf (raw term count) features for LDA.\n",
    "print(\"Extracting tf features for LDA...\")\n",
    "tf_vectorizer = CountVectorizer(max_df=0.95, min_df=2,\n",
    "                                max_features=n_features,\n",
    "                                stop_words='english')\n",
    "t0 = time()\n",
    "tf = tf_vectorizer.fit_transform(data_samples)\n",
    "print(\"done in %0.3fs.\" % (time() - t0))\n",
    "print()\n",
    "\n",
    "# Fit the NMF model\n",
    "print(\"Fitting the NMF model (Frobenius norm) with tf-idf features, \"\n",
    "      \"n_samples=%d and n_features=%d...\"\n",
    "      % (n_samples, n_features))\n",
    "t0 = time()\n",
    "nmf = NMF(n_components=n_components, random_state=1,\n",
    "          alpha=.1, l1_ratio=.5).fit(tfidf)\n",
    "print(\"done in %0.3fs.\" % (time() - t0))\n",
    "\n",
    "print(\"\\nTopics in NMF model (Frobenius norm):\")\n",
    "tfidf_feature_names = tfidf_vectorizer.get_feature_names()\n",
    "print_top_words(nmf, tfidf_feature_names, n_top_words)\n",
    "\n",
    "# Fit the NMF model\n",
    "print(\"Fitting the NMF model (generalized Kullback-Leibler divergence) with \"\n",
    "      \"tf-idf features, n_samples=%d and n_features=%d...\"\n",
    "      % (n_samples, n_features))\n",
    "t0 = time()\n",
    "nmf = NMF(n_components=n_components, random_state=1,\n",
    "          beta_loss='kullback-leibler', solver='mu', max_iter=1000, alpha=.1,\n",
    "          l1_ratio=.5).fit(tfidf)\n",
    "print(\"done in %0.3fs.\" % (time() - t0))\n",
    "\n",
    "print(\"\\nTopics in NMF model (generalized Kullback-Leibler divergence):\")\n",
    "tfidf_feature_names = tfidf_vectorizer.get_feature_names()\n",
    "print_top_words(nmf, tfidf_feature_names, n_top_words)\n",
    "\n",
    "print(\"Fitting LDA models with tf features, \"\n",
    "      \"n_samples=%d and n_features=%d...\"\n",
    "      % (n_samples, n_features))\n",
    "lda = LatentDirichletAllocation(n_components=n_components, max_iter=5,\n",
    "                                learning_method='online',\n",
    "                                learning_offset=50.,\n",
    "                                random_state=0)\n",
    "t0 = time()\n",
    "lda.fit(tf)\n",
    "print(\"done in %0.3fs.\" % (time() - t0))\n",
    "\n",
    "print(\"\\nTopics in LDA model:\")\n",
    "tf_feature_names = tf_vectorizer.get_feature_names()\n",
    "print_top_words(lda, tf_feature_names, n_top_words)"
   ]
  },
  {
   "cell_type": "code",
   "execution_count": 2,
   "metadata": {},
   "outputs": [],
   "source": [
    "documents = [\n",
    "    [\"Hadoop\", \"Big Data\", \"HBase\", \"Java\", \"Spark\", \"Storm\", \"Cassandra\"],\n",
    "    [\"NoSQL\", \"MongoDB\", \"Cassandra\", \"HBase\", \"Postgres\"],\n",
    "    [\"Python\", \"scikit-learn\", \"scipy\", \"numpy\", \"statsmodels\", \"pandas\"],\n",
    "    [\"R\", \"Python\", \"statistics\", \"regression\", \"probability\"],\n",
    "    [\"machine learning\", \"regression\", \"decision trees\", \"libsvm\"],\n",
    "    [\"Python\", \"R\", \"Java\", \"C++\", \"Haskell\", \"programming languages\"],\n",
    "    [\"statistics\", \"probability\", \"mathematics\", \"theory\"],\n",
    "    [\"machine learning\", \"scikit-learn\", \"Mahout\", \"neural networks\"],\n",
    "    [\"neural networks\", \"deep learning\", \"Big Data\", \"artificial intelligence\"],\n",
    "    [\"Hadoop\", \"Java\", \"MapReduce\", \"Big Data\"],\n",
    "    [\"statistics\", \"R\", \"statsmodels\"],\n",
    "    [\"C++\", \"deep learning\", \"artificial intelligence\", \"probability\"],\n",
    "    [\"pandas\", \"R\", \"Python\"],\n",
    "    [\"databases\", \"HBase\", \"Postgres\", \"MySQL\", \"MongoDB\"],\n",
    "    [\"libsvm\", \"regression\", \"support vector machines\"]\n",
    "]"
   ]
  },
  {
   "cell_type": "code",
   "execution_count": 3,
   "metadata": {},
   "outputs": [
    {
     "name": "stdout",
     "output_type": "stream",
     "text": [
      "15\n",
      "[Counter(), Counter(), Counter(), Counter(), Counter(), Counter(), Counter(), Counter(), Counter(), Counter(), Counter(), Counter(), Counter(), Counter(), Counter()]\n"
     ]
    }
   ],
   "source": [
    "from collections import Counter\n",
    "\n",
    "print(len(documents))\n",
    "# a list of Counters, one for each document\n",
    "document_topic_counts = [Counter() for _ in documents]\n",
    "print(document_topic_counts)"
   ]
  },
  {
   "cell_type": "code",
   "execution_count": 4,
   "metadata": {},
   "outputs": [
    {
     "name": "stdout",
     "output_type": "stream",
     "text": [
      "[Counter(), Counter(), Counter()]\n"
     ]
    }
   ],
   "source": [
    "K = 3\n",
    "# a list of Counters, one for each topic\n",
    "topic_word_counts = [Counter() for _ in range(K)]\n",
    "print(topic_word_counts)"
   ]
  },
  {
   "cell_type": "code",
   "execution_count": 5,
   "metadata": {},
   "outputs": [
    {
     "name": "stdout",
     "output_type": "stream",
     "text": [
      "[0, 0, 0]\n"
     ]
    }
   ],
   "source": [
    "# a list of numbers, one for each topic\n",
    "topic_counts = [0 for _ in range(K)]\n",
    "print(topic_counts)"
   ]
  },
  {
   "cell_type": "code",
   "execution_count": 6,
   "metadata": {},
   "outputs": [
    {
     "name": "stdout",
     "output_type": "stream",
     "text": [
      "[7, 5, 6, 5, 4, 6, 4, 4, 4, 4, 3, 4, 3, 5, 3]\n"
     ]
    }
   ],
   "source": [
    "# a list of numbers, one for each document\n",
    "document_lengths = [len(d) for d in documents]\n",
    "print(document_lengths)"
   ]
  },
  {
   "cell_type": "code",
   "execution_count": 7,
   "metadata": {},
   "outputs": [
    {
     "name": "stdout",
     "output_type": "stream",
     "text": [
      "{'statistics', 'R', 'artificial intelligence', 'MongoDB', 'Spark', 'neural networks', 'machine learning', 'libsvm', 'Mahout', 'deep learning', 'Hadoop', 'Haskell', 'Postgres', 'Python', 'pandas', 'regression', 'mathematics', 'MapReduce', 'NoSQL', 'Big Data', 'statsmodels', 'MySQL', 'Java', 'Cassandra', 'probability', 'decision trees', 'C++', 'support vector machines', 'scikit-learn', 'databases', 'theory', 'scipy', 'programming languages', 'HBase', 'numpy', 'Storm'}\n",
      "36\n"
     ]
    }
   ],
   "source": [
    "distinct_words = set(word for document in documents for word in document)\n",
    "W = len(distinct_words)\n",
    "\n",
    "print(distinct_words)\n",
    "print(W)"
   ]
  },
  {
   "cell_type": "code",
   "execution_count": 8,
   "metadata": {},
   "outputs": [
    {
     "name": "stdout",
     "output_type": "stream",
     "text": [
      "15\n"
     ]
    }
   ],
   "source": [
    "D = len(documents)\n",
    "print(D)"
   ]
  },
  {
   "cell_type": "code",
   "execution_count": 9,
   "metadata": {},
   "outputs": [],
   "source": [
    "def p_topic_given_document(topic, d, alpha=0.1):\n",
    "    \"\"\"the fraction of words in document _d_\n",
    "    that are assigned to _topic_ (plus some smoothing)\"\"\"\n",
    "\n",
    "    return ((document_topic_counts[d][topic] + alpha) /\n",
    "            (document_lengths[d] + K * alpha))\n",
    "\n",
    "def p_word_given_topic(word, topic, beta=0.1):\n",
    "    \"\"\"the fraction of words assigned to _topic_\n",
    "    that equal _word_ (plus some smoothing)\"\"\"\n",
    "\n",
    "    return ((topic_word_counts[topic][word] + beta) /\n",
    "            (topic_counts[topic] + W * beta))"
   ]
  },
  {
   "cell_type": "code",
   "execution_count": 10,
   "metadata": {},
   "outputs": [],
   "source": [
    "def topic_weight(d, word, k):\n",
    "    \"\"\"given a document and a word in that document,\n",
    "    return the weight for the kth topic\"\"\"\n",
    "\n",
    "    return p_word_given_topic(word, k) * p_topic_given_document(k, d)\n",
    "\n",
    "def choose_new_topic(d, word):\n",
    "    return sample_from([topic_weight(d, word, k)\n",
    "                        for k in range(K)])"
   ]
  },
  {
   "cell_type": "code",
   "execution_count": 11,
   "metadata": {},
   "outputs": [
    {
     "name": "stdout",
     "output_type": "stream",
     "text": [
      "[[1, 1, 0, 1, 2, 1, 1], [1, 1, 1, 2, 0], [2, 0, 1, 0, 0, 2], [1, 2, 2, 2, 0], [1, 0, 2, 0], [2, 1, 1, 2, 0, 1], [1, 1, 2, 2], [0, 2, 1, 1], [2, 1, 0, 2], [0, 0, 2, 1], [2, 2, 2], [0, 2, 1, 1], [0, 2, 1], [2, 0, 0, 2, 0], [0, 0, 2]]\n",
      "\n",
      "[Counter({1: 5, 0: 1, 2: 1}), Counter({1: 3, 2: 1, 0: 1}), Counter({0: 3, 2: 2, 1: 1}), Counter({2: 3, 1: 1, 0: 1}), Counter({0: 2, 1: 1, 2: 1}), Counter({1: 3, 2: 2, 0: 1}), Counter({1: 2, 2: 2}), Counter({1: 2, 0: 1, 2: 1}), Counter({2: 2, 1: 1, 0: 1}), Counter({0: 2, 2: 1, 1: 1}), Counter({2: 3}), Counter({1: 2, 0: 1, 2: 1}), Counter({0: 1, 2: 1, 1: 1}), Counter({0: 3, 2: 2}), Counter({0: 2, 2: 1})]\n",
      "\n",
      "[Counter({'HBase': 2, 'Postgres': 2, 'regression': 2, 'libsvm': 2, 'scikit-learn': 1, 'numpy': 1, 'statsmodels': 1, 'probability': 1, 'Haskell': 1, 'machine learning': 1, 'Big Data': 1, 'Hadoop': 1, 'Java': 1, 'C++': 1, 'pandas': 1, 'MongoDB': 1}), Counter({'Big Data': 2, 'Java': 2, 'Cassandra': 2, 'R': 2, 'probability': 2, 'Hadoop': 1, 'Storm': 1, 'NoSQL': 1, 'MongoDB': 1, 'scipy': 1, 'machine learning': 1, 'programming languages': 1, 'statistics': 1, 'Mahout': 1, 'neural networks': 1, 'deep learning': 1, 'artificial intelligence': 1, 'Python': 1}), Counter({'Python': 3, 'statistics': 2, 'R': 2, 'Spark': 1, 'HBase': 1, 'pandas': 1, 'regression': 1, 'decision trees': 1, 'C++': 1, 'mathematics': 1, 'theory': 1, 'scikit-learn': 1, 'neural networks': 1, 'artificial intelligence': 1, 'MapReduce': 1, 'statsmodels': 1, 'deep learning': 1, 'databases': 1, 'MySQL': 1, 'support vector machines': 1})]\n",
      "\n",
      "[20, 23, 24]\n"
     ]
    }
   ],
   "source": [
    "import random\n",
    "\n",
    "random.seed(0)\n",
    "document_topics = [[random.randrange(K) for word in document]\n",
    "                   for document in documents]\n",
    "print(document_topics)\n",
    "\n",
    "for d in range(D):\n",
    "    for word, topic in zip(documents[d], document_topics[d]):\n",
    "        document_topic_counts[d][topic] += 1\n",
    "        topic_word_counts[topic][word] += 1\n",
    "        topic_counts[topic] += 1\n",
    "print()\n",
    "print(document_topic_counts)\n",
    "print()\n",
    "print(topic_word_counts)\n",
    "print()\n",
    "print(topic_counts)"
   ]
  },
  {
   "cell_type": "code",
   "execution_count": 12,
   "metadata": {},
   "outputs": [],
   "source": [
    "def sample_from(weights):\n",
    "    \"\"\"returns i with probability weights[i] / sum(weights)\"\"\"\n",
    "    total = sum(weights)\n",
    "    rnd = total * random.random()      # uniform between 0 and total\n",
    "    for i, w in enumerate(weights):\n",
    "        rnd -= w                       # return the smallest i such that\n",
    "        if rnd <= 0: return i          # weights[0] + ... + weights[i] >= rnd"
   ]
  },
  {
   "cell_type": "code",
   "execution_count": 13,
   "metadata": {},
   "outputs": [],
   "source": [
    "for iter in range(1000):\n",
    "    for d in range(D):\n",
    "        for i, (word, topic) in enumerate(zip(documents[d],\n",
    "                                              document_topics[d])):\n",
    "\n",
    "            # remove this word / topic from the counts\n",
    "            # so that it doesn't influence the weights\n",
    "#             print(i, word, topic)\n",
    "            document_topic_counts[d][topic] -= 1\n",
    "            topic_word_counts[topic][word] -= 1\n",
    "            topic_counts[topic] -= 1\n",
    "            document_lengths[d] -= 1\n",
    "\n",
    "            # choose a new topic based on the weights\n",
    "            new_topic = choose_new_topic(d, word)\n",
    "#             print(new_topic)\n",
    "            document_topics[d][i] = new_topic\n",
    "\n",
    "            # and now add it back to the counts\n",
    "            document_topic_counts[d][new_topic] += 1\n",
    "            topic_word_counts[new_topic][word] += 1\n",
    "            topic_counts[new_topic] += 1\n",
    "            document_lengths[d] += 1"
   ]
  },
  {
   "cell_type": "code",
   "execution_count": 26,
   "metadata": {},
   "outputs": [
    {
     "name": "stdout",
     "output_type": "stream",
     "text": [
      "Topic 1 from document 0 given 0.9726027397260274\n",
      "Topic 1 from document 0 given 0.9726027397260274\n",
      "Topic 1 from document 0 given 0.9726027397260274\n",
      "Topic 1 from document 0 given 0.9726027397260274\n",
      "Topic 1 from document 0 given 0.9726027397260274\n",
      "Topic 1 from document 0 given 0.9726027397260274\n",
      "Topic 1 from document 0 given 0.9726027397260274\n",
      "Topic 1 from document 1 given 0.9622641509433962\n",
      "Topic 1 from document 1 given 0.9622641509433962\n",
      "Topic 1 from document 1 given 0.9622641509433962\n",
      "Topic 1 from document 1 given 0.9622641509433962\n",
      "Topic 1 from document 1 given 0.9622641509433962\n",
      "Topic 0 from document 2 given 0.4920634920634921\n",
      "Topic 0 from document 2 given 0.4920634920634921\n",
      "Topic 2 from document 2 given 0.4920634920634921\n",
      "Topic 0 from document 2 given 0.4920634920634921\n",
      "Topic 2 from document 2 given 0.4920634920634921\n",
      "Topic 2 from document 2 given 0.4920634920634921\n",
      "Topic 2 from document 3 given 0.5849056603773585\n",
      "Topic 0 from document 3 given 0.39622641509433965\n",
      "Topic 2 from document 3 given 0.5849056603773585\n",
      "Topic 0 from document 3 given 0.39622641509433965\n",
      "Topic 2 from document 3 given 0.5849056603773585\n",
      "Topic 0 from document 4 given 0.9534883720930232\n",
      "Topic 0 from document 4 given 0.9534883720930232\n",
      "Topic 0 from document 4 given 0.9534883720930232\n",
      "Topic 0 from document 4 given 0.9534883720930232\n",
      "Topic 2 from document 5 given 0.4920634920634921\n",
      "Topic 2 from document 5 given 0.4920634920634921\n",
      "Topic 1 from document 5 given 0.17460317460317462\n",
      "Topic 0 from document 5 given 0.33333333333333337\n",
      "Topic 0 from document 5 given 0.33333333333333337\n",
      "Topic 2 from document 5 given 0.4920634920634921\n",
      "Topic 2 from document 6 given 0.9534883720930232\n",
      "Topic 2 from document 6 given 0.9534883720930232\n",
      "Topic 2 from document 6 given 0.9534883720930232\n",
      "Topic 2 from document 6 given 0.9534883720930232\n",
      "Topic 0 from document 7 given 0.9534883720930232\n",
      "Topic 0 from document 7 given 0.9534883720930232\n",
      "Topic 0 from document 7 given 0.9534883720930232\n",
      "Topic 0 from document 7 given 0.9534883720930232\n",
      "Topic 0 from document 8 given 0.7209302325581396\n",
      "Topic 0 from document 8 given 0.7209302325581396\n",
      "Topic 1 from document 8 given 0.2558139534883721\n",
      "Topic 0 from document 8 given 0.7209302325581396\n",
      "Topic 1 from document 9 given 0.9534883720930232\n",
      "Topic 1 from document 9 given 0.9534883720930232\n",
      "Topic 1 from document 9 given 0.9534883720930232\n",
      "Topic 1 from document 9 given 0.9534883720930232\n",
      "Topic 2 from document 10 given 0.9393939393939394\n",
      "Topic 2 from document 10 given 0.9393939393939394\n",
      "Topic 2 from document 10 given 0.9393939393939394\n",
      "Topic 0 from document 11 given 0.7209302325581396\n",
      "Topic 0 from document 11 given 0.7209302325581396\n",
      "Topic 0 from document 11 given 0.7209302325581396\n",
      "Topic 2 from document 11 given 0.2558139534883721\n",
      "Topic 2 from document 12 given 0.9393939393939394\n",
      "Topic 2 from document 12 given 0.9393939393939394\n",
      "Topic 2 from document 12 given 0.9393939393939394\n",
      "Topic 1 from document 13 given 0.9622641509433962\n",
      "Topic 1 from document 13 given 0.9622641509433962\n",
      "Topic 1 from document 13 given 0.9622641509433962\n",
      "Topic 1 from document 13 given 0.9622641509433962\n",
      "Topic 1 from document 13 given 0.9622641509433962\n",
      "Topic 0 from document 14 given 0.9393939393939394\n",
      "Topic 0 from document 14 given 0.9393939393939394\n",
      "Topic 0 from document 14 given 0.9393939393939394\n"
     ]
    }
   ],
   "source": [
    "for d in range(D):\n",
    "    for i, (word, topic) in enumerate(zip(documents[d], document_topics[d])):\n",
    "        # pwz\n",
    "        pwz = p_word_given_topic(word, topic)\n",
    "#         print('Word {} from topic {} given {}'.format(word, topic, pwz))\n",
    "        \n",
    "        # pzd\n",
    "        pzd = p_topic_given_document(topic, d)\n",
    "        print('Topic {} from document {} given {}'.format(topic, d, pzd))"
   ]
  },
  {
   "cell_type": "code",
   "execution_count": 15,
   "metadata": {},
   "outputs": [
    {
     "name": "stdout",
     "output_type": "stream",
     "text": [
      "0 regression 3\n",
      "0 scikit-learn 2\n",
      "0 libsvm 2\n",
      "0 machine learning 2\n",
      "0 C++ 2\n",
      "0 neural networks 2\n",
      "0 artificial intelligence 2\n",
      "0 deep learning 2\n",
      "0 Python 2\n",
      "0 numpy 1\n",
      "0 Haskell 1\n",
      "0 decision trees 1\n",
      "0 support vector machines 1\n",
      "0 Mahout 1\n",
      "1 Big Data 3\n",
      "1 Java 3\n",
      "1 HBase 3\n",
      "1 Hadoop 2\n",
      "1 Cassandra 2\n",
      "1 MongoDB 2\n",
      "1 Postgres 2\n",
      "1 Storm 1\n",
      "1 NoSQL 1\n",
      "1 Spark 1\n",
      "1 MapReduce 1\n",
      "1 databases 1\n",
      "1 MySQL 1\n",
      "2 R 4\n",
      "2 statistics 3\n",
      "2 probability 3\n",
      "2 Python 2\n",
      "2 pandas 2\n",
      "2 statsmodels 2\n",
      "2 mathematics 1\n",
      "2 theory 1\n",
      "2 scipy 1\n",
      "2 programming languages 1\n"
     ]
    }
   ],
   "source": [
    "for k, word_counts in enumerate(topic_word_counts):\n",
    "    for word, count in word_counts.most_common():\n",
    "        if count > 0: print(k, word, count)"
   ]
  },
  {
   "cell_type": "code",
   "execution_count": 16,
   "metadata": {},
   "outputs": [
    {
     "name": "stdout",
     "output_type": "stream",
     "text": [
      "['Hadoop', 'Big Data', 'HBase', 'Java', 'Spark', 'Storm', 'Cassandra']\n",
      "Topik 1:  7\n",
      "['NoSQL', 'MongoDB', 'Cassandra', 'HBase', 'Postgres']\n",
      "Topik 1:  5\n",
      "['Python', 'scikit-learn', 'scipy', 'numpy', 'statsmodels', 'pandas']\n",
      "Topik 2:  3\n",
      "Topik 0:  3\n",
      "['R', 'Python', 'statistics', 'regression', 'probability']\n",
      "Topik 2:  3\n",
      "Topik 0:  2\n",
      "['machine learning', 'regression', 'decision trees', 'libsvm']\n",
      "Topik 0:  4\n",
      "['Python', 'R', 'Java', 'C++', 'Haskell', 'programming languages']\n",
      "Topik 2:  3\n",
      "Topik 0:  2\n",
      "Topik 1:  1\n",
      "['statistics', 'probability', 'mathematics', 'theory']\n",
      "Topik 2:  4\n",
      "['machine learning', 'scikit-learn', 'Mahout', 'neural networks']\n",
      "Topik 0:  4\n",
      "['neural networks', 'deep learning', 'Big Data', 'artificial intelligence']\n",
      "Topik 0:  3\n",
      "Topik 1:  1\n",
      "['Hadoop', 'Java', 'MapReduce', 'Big Data']\n",
      "Topik 1:  4\n",
      "['statistics', 'R', 'statsmodels']\n",
      "Topik 2:  3\n",
      "['C++', 'deep learning', 'artificial intelligence', 'probability']\n",
      "Topik 0:  3\n",
      "Topik 2:  1\n",
      "['pandas', 'R', 'Python']\n",
      "Topik 2:  3\n",
      "['databases', 'HBase', 'Postgres', 'MySQL', 'MongoDB']\n",
      "Topik 1:  5\n",
      "['libsvm', 'regression', 'support vector machines']\n",
      "Topik 0:  3\n"
     ]
    }
   ],
   "source": [
    "topic_names = [\"Topik 0: \",\n",
    "               \"Topik 1: \",\n",
    "               \"Topik 2: \"]\n",
    "for document, topic_counts in zip(documents, document_topic_counts):\n",
    "    print(document)\n",
    "    for topic, count, in topic_counts.most_common():\n",
    "        if count > 0:\n",
    "            print(topic_names[topic], count)"
   ]
  },
  {
   "cell_type": "code",
   "execution_count": null,
   "metadata": {},
   "outputs": [],
   "source": []
  }
 ],
 "metadata": {
  "kernelspec": {
   "display_name": "Python 3",
   "language": "python",
   "name": "python3"
  },
  "language_info": {
   "codemirror_mode": {
    "name": "ipython",
    "version": 3
   },
   "file_extension": ".py",
   "mimetype": "text/x-python",
   "name": "python",
   "nbconvert_exporter": "python",
   "pygments_lexer": "ipython3",
   "version": "3.6.1"
  }
 },
 "nbformat": 4,
 "nbformat_minor": 2
}
