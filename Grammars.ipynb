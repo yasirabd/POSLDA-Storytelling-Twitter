{
 "cells": [
  {
   "cell_type": "code",
   "execution_count": 9,
   "metadata": {
    "collapsed": true
   },
   "outputs": [],
   "source": [
    "import math, random"
   ]
  },
  {
   "cell_type": "code",
   "execution_count": 10,
   "metadata": {
    "collapsed": true
   },
   "outputs": [],
   "source": [
    "grammar = {\n",
    "    \"_S\"  : [\"_NP _VP\"],\n",
    "    \"_NP\" : [\"_N\",\n",
    "             \"_A _NP _P _A _N\"],\n",
    "    \"_VP\" : [\"_V\",\n",
    "             \"_V _NP\"],\n",
    "    \"_N\"  : [\"data science\", \"Python\", \"regression\"],\n",
    "    \"_A\"  : [\"big\", \"linear\", \"logistic\"],\n",
    "    \"_P\"  : [\"about\", \"near\"],\n",
    "    \"_V\"  : [\"learns\", \"trains\", \"tests\", \"is\"]\n",
    "}"
   ]
  },
  {
   "cell_type": "code",
   "execution_count": 11,
   "metadata": {
    "collapsed": true
   },
   "outputs": [],
   "source": [
    "def is_terminal(token):\n",
    "    return token[0] != \"_\""
   ]
  },
  {
   "cell_type": "code",
   "execution_count": 12,
   "metadata": {
    "collapsed": true
   },
   "outputs": [],
   "source": [
    "def expand(grammar, tokens):\n",
    "    for i, token in enumerate(tokens):\n",
    "\n",
    "        # ignore terminals\n",
    "        if is_terminal(token): continue\n",
    "\n",
    "        # choose a replacement at random\n",
    "        replacement = random.choice(grammar[token])\n",
    "\n",
    "        if is_terminal(replacement):\n",
    "            tokens[i] = replacement\n",
    "        else:\n",
    "            tokens = tokens[:i] + replacement.split() + tokens[(i+1):]\n",
    "        return expand(grammar, tokens)\n",
    "\n",
    "    # if we get here we had all terminals and are done\n",
    "    return tokens"
   ]
  },
  {
   "cell_type": "code",
   "execution_count": 13,
   "metadata": {
    "collapsed": true
   },
   "outputs": [],
   "source": [
    "def generate_sentence(grammar):\n",
    "    return expand(grammar, [\"_S\"])"
   ]
  },
  {
   "cell_type": "code",
   "execution_count": 29,
   "metadata": {},
   "outputs": [
    {
     "data": {
      "text/plain": [
       "['linear', 'data science', 'near', 'logistic', 'Python', 'learns']"
      ]
     },
     "execution_count": 29,
     "metadata": {},
     "output_type": "execute_result"
    }
   ],
   "source": [
    "generate_sentence(grammar)"
   ]
  },
  {
   "cell_type": "markdown",
   "metadata": {},
   "source": [
    "# Menggunakan data sample"
   ]
  },
  {
   "cell_type": "code",
   "execution_count": 85,
   "metadata": {
    "collapsed": true
   },
   "outputs": [],
   "source": [
    "grammar_id = {\n",
    "    \"Ccon\" : {\n",
    "        \"topic 0\" : {\n",
    "            \"_VBT\" : [\"bernama\", \"memakan\", \"melihat\", \"menghabiskan\", \"meningkatkan\"],\n",
    "            \"_NN\" : [\"bagus\", \"waktu\", \"bisbol\", \"Flash\", \"latihan\", \"Pemain\", \"Ibuku\", \"brokoli\"],\n",
    "            \"_NNP\" : [\"adikku\"],\n",
    "            \"_VBI\" : [\"suka\"]\n",
    "        },\n",
    "        \"topic 1\" : {\n",
    "            \"_NN\" : [\"olahraga\", \"penonton\", \"darah\", \"tekanan\", \"kesehatan\", \"ahli\", \"ketegangan\"],\n",
    "            \"_VBT\" : [\"menyarankan\", \"memberikan\", \"mengemudi\", \"menyebabkan\"],\n",
    "            \"_VBI\" : [\"meningkat\", \"bertanding\"],\n",
    "            \"_JJ\" : [\"terkontrol\"]\n",
    "        },\n",
    "        \"topic 2\" : {\n",
    "            \"_NN\" : [\"berkeliling\", \"tekanan\", \"penumpangnya\", \"sekolah\", \"presentasi\", \"saat\", \"tampil\"],\n",
    "            \"_VBT\" : [\"merasakan\", \"mendapatkan\"],\n",
    "            \"_NNP\" : [\"Sopir\"],\n",
    "            \"_JJ\" : [\"sering\", \"banyak\"]\n",
    "        },\n",
    "        \"topic 3\" : {\n",
    "            \"_NN\" : [\"pernah\", \"seorang\", \"bisbol\", \"pemain\", \"Adikku\", \"juara\", \"ibuku\", \"kesehatan\", \"Teman\", \"brokoli\", \"Brokoli\"],\n",
    "            \"_VBI\" : [\"suka\", \"mengatakan\"],\n",
    "            \"_VBT\" : [\"mengemudi\", \"dimakan\", \"makan\"],\n",
    "            \"_NNP\" : [\"Profesional\"],\n",
    "            \"_JJ\" : [\"baik\"]\n",
    "        }\n",
    "    },\n",
    "    \"Cfunc\" : {\n",
    "        \"_IN\" : [\"untuk\", \"dari\", \"seperti\", \"agar\", \"di\"],\n",
    "        \"_.\" : [\".\"],\n",
    "        \"_,\" : [\",\"],\n",
    "        \"_CC\" : [\"tetapi\", \"dan\"],\n",
    "        \"_NEG\" : [\"taksi\", \"tidak\"],\n",
    "        \"_CDI\" : [\"Beberapa\"],\n",
    "        \"_SC\" : [\"Saat\", \"yang\", \"bahwa\"],\n",
    "        \"_MD\" : [\"dapat\", \"bisbol\"],\n",
    "        \"_PRP\" : [\"Saya\", \"saya\"],\n",
    "        \"_DT\" : [\"para\", \"itu\"],\n",
    "        \"_RB\" : [\"sangat\"]\n",
    "    },\n",
    "}"
   ]
  },
  {
   "cell_type": "code",
   "execution_count": 86,
   "metadata": {
    "collapsed": true
   },
   "outputs": [],
   "source": [
    "rules = {\n",
    "    \"_S\" : [\"_NP _VP\"],\n",
    "    \"_NP\" : [\"_NN\"],\n",
    "    \"_VP\" : [\"_VBT\",\n",
    "             \"_VBI _VBT _NP _JJ\"],\n",
    "}"
   ]
  },
  {
   "cell_type": "code",
   "execution_count": 94,
   "metadata": {},
   "outputs": [
    {
     "name": "stdout",
     "output_type": "stream",
     "text": [
      "\n",
      "\n",
      "\n",
      "\n"
     ]
    },
    {
     "data": {
      "text/plain": [
       "{'topic 0': ['brokoli', 'bernama'],\n",
       " 'topic 1': ['ketegangan', 'mengemudi'],\n",
       " 'topic 2': ['penumpangnya', 'merasakan'],\n",
       " 'topic 3': ['kesehatan', 'mengatakan', 'dimakan', 'kesehatan', 'baik']}"
      ]
     },
     "execution_count": 94,
     "metadata": {},
     "output_type": "execute_result"
    }
   ],
   "source": [
    "result = {}\n",
    "for keys, values in grammar_id[\"Ccon\"].items():\n",
    "#     print(keys)\n",
    "    temp = rules.copy()\n",
    "    temp.update(values)\n",
    "    result[keys] = generate_sentence(temp)\n",
    "    print()\n",
    "#     print(values)\n",
    "result"
   ]
  },
  {
   "cell_type": "code",
   "execution_count": null,
   "metadata": {
    "collapsed": true
   },
   "outputs": [],
   "source": []
  }
 ],
 "metadata": {
  "kernelspec": {
   "display_name": "Python 3",
   "language": "python",
   "name": "python3"
  },
  "language_info": {
   "codemirror_mode": {
    "name": "ipython",
    "version": 3
   },
   "file_extension": ".py",
   "mimetype": "text/x-python",
   "name": "python",
   "nbconvert_exporter": "python",
   "pygments_lexer": "ipython3",
   "version": "3.6.1"
  }
 },
 "nbformat": 4,
 "nbformat_minor": 2
}
