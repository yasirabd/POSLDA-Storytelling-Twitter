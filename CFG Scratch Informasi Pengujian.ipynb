{
 "cells": [
  {
   "cell_type": "code",
   "execution_count": 1,
   "metadata": {},
   "outputs": [],
   "source": [
    "import pandas as pd\n",
    "import numpy as np\n",
    "import numpy.random as nr\n",
    "import random"
   ]
  },
  {
   "cell_type": "code",
   "execution_count": 2,
   "metadata": {},
   "outputs": [
    {
     "data": {
      "text/plain": [
       "30"
      ]
     },
     "execution_count": 2,
     "metadata": {},
     "output_type": "execute_result"
    }
   ],
   "source": [
    "document = [\"Cukup lawang sewu aja yg pintunya banyak..ke hatiku cukup satu pintu aja kamu nyerah??? https://t.co/TqRRK6JOdJ\",\n",
    "            \"Mending ngitungin pintu lawang sewu, beneran seribu ga jumlahnya https://t.co/dfezeOQ6kg\",\n",
    "            \"He salamke penghuni bawah lawang sewu, aku kangen mlebu rono ?? https://t.co/WLO5JQwvlR\",\n",
    "            \"@asrulbonek Ya kalo Semarang sih yg pasti Lawang Sewu, Sam Poo Kong, Kampung Pelangi mas yg di pusat kota. Tp nek meh jauhan dikit mending ke Bandungan aja deh, ada Umbul Sidomukti, Pondok Kopi, Candi Gedong Songo, Taman Bunga Celosia mas hehe ??\",\n",
    "            \"Akhirnya kesampaian juga kesini?????? @ Lawang Sewu https://t.co/voBGc5uiOF\",\n",
    "            \"tuku tahu neng lawang sewu, opo mergo tumpakanku koe ninggalke aku ??\",\n",
    "            \"Jadi, gue ketilang nih kan di Semarang bawah di jalan sekitaran Pemuda sama lawang sewu. Itu tuh gara-gara gue nembus lampu merah.\",\n",
    "            \"Delapan tahun lalu... Giat pesiar siswa @123stuindra_P ke Lawang Sewu, Semarang, Jateng. *Silahkan cari tau sikon badan masing-masing saat ini. ?? #polri #polisiindonesia #ppss2010… https://t.co/utjsdYQ4MP\",\n",
    "            \"Hidup ini dapat menjadi petualangan yang menantang atau tidak berarti sama sekali. @ Lawang Sewu Semarang https://t.co/KRqoAxemKL\",\n",
    "            \"Semua pintu mempunyai 1 kunci untuk membuka dan menutupnya... kecuali pintu hati, dia punya 2 kunci: Pertama cinta untuk membuka dan kedua sakit hati untuk menutup . @ Lawang Sewu Semarang https://t.co/vVaOF5ZYpc\",\n",
    "            \"pap pemandangan sekitar dong... lg bosen pengen liat suasana yg beda — Senja di lawang sewu semarang https://t.co/YLqn0NAtTi\",\n",
    "            \"Ternyata asik naik BRT pas lg gak rame bgt, dan jalan gak macet2 bgt, lewat kota tua, lawang sewu malah jadi city tour di smg kan wkkwk, Alhamdulillah sampe sukun dapet bis yg terakhir, terakhir bgt nih gais, rame bgtt dan beli tiketnya tu on the spot di depan pintu bisnya\",\n",
    "            \"Dengerin Terus Pitaloka via https://t.co/1Za7yE8Nws NuDiputer : https://t.co/iw3ONAzkiU - Reza Lawang Sewu - Haruskah Berakhir - Dangdut Koplo [Karaoke]\",\n",
    "            \"Buka jendela View nya langsung lawang sewu ??\",\n",
    "            \"Mbukak jendela, pas view ne Lawang Sewu. Wis mbuh ah, padahal sesuk esih sewengi meneh.\",\n",
    "            \"Di lantai tiga #lawangsewu, ada ruangan besar berjendela yg dulu djadikan tmpt olahraga bgi pegawai NIS. Aula ini dilengkapi dengan toilet.\",\n",
    "            \"Di lantai dua trdpt aula bsar yg dlu dgnakan sbg ruang pesta. Di sudut aula trpasang wastafel yg sudah ada sjak prtma kali #lawangsewu dbgn.\",\n",
    "            \"Kaca jendela di lantai dua #lawangsewu dibuat terbalik untuk menghindari air hujan agar tidak masuk.\",\n",
    "            \"Selain berfungsi sebagai penjara, uap dari ruang bawah tanah #lawangsewu juga berguna untuk pendingin ruang di atasnya.\",\n",
    "            \"#LawangSewu sekarang dikelola oleh PT KAI (Kereta Api Indonesia) sebagai musium perkereta apiaan ke-2 di Semarang setelah Musium Ambarawa.\",\n",
    "            \"Ornamen kaca patri #lawangsewu adalah kaca patri termewah pada zaman dulu yang didisain khusus dengan filosofi kejayaan Kereta Api\",\n",
    "            \"Meskipun bangunan #lawangsewu tercatat dibangun pada tahun 1904, sebenarnya lawang sewu sudah direncanakan sejak tahun 1903.\",\n",
    "            \"#lawangsewu dibangun oleh arsitektur Belanda: Prof. Jacob F. Klinkhamer (TH Delft) dan B.J. Ouendag, proses perancangan dilakukan di Belanda\",\n",
    "            \"Bangunan #lawangsewu ini dilengkapi dgn ballroom, ruang makan, gdng serbaguna hngga gdng prtunjukan berbentuk bahtera terbalik dlantai atas.\",\n",
    "            \"#Lawangsewu merupakan salah satu dari 102 bagunan kuno atau bersejarah di Semarang yang patut dilindungi.\",\n",
    "            \"Terowongan bunker #lawangsewu yang menyambung ke SMANSA di duga terhubung juga ke bungker misterius yang berada di RS Kariadi.\",\n",
    "            \"#lawangsewu juga pernah sempat digunakan sebagai kantor pemerintahan pasca Indonesia merdeka.\",\n",
    "            \"#lawangsewu lah saksi bisu atas sejarah pertempuran 5 hari di Semarang.\",\n",
    "            \"#lawangsewu pernah digunakan sebagai penjara bawah tanah oleh serdadu Jepang.\",\n",
    "            \"#LawangSewu memiliki sistem pendingin air di bawah lantai, dan di atap. Itulah fungsi utama basement #lawangsewu https://t.co/ipAodzikgG\"]\n",
    "len(document)"
   ]
  },
  {
   "cell_type": "markdown",
   "metadata": {},
   "source": [
    "# Preprocessing"
   ]
  },
  {
   "cell_type": "code",
   "execution_count": 3,
   "metadata": {},
   "outputs": [],
   "source": [
    "# import\n",
    "from preprocess.normalize import Normalize\n",
    "from preprocess.tokenize import Tokenize\n",
    "from preprocess.symspell import SymSpell"
   ]
  },
  {
   "cell_type": "code",
   "execution_count": 4,
   "metadata": {},
   "outputs": [
    {
     "name": "stdout",
     "output_type": "stream",
     "text": [
      "Loading dictionary...\n",
      "Processing dictionary...\n",
      "Copied 94811 words to master dictionary...\n",
      "Copied 679534 hashes to master dictionary...\n"
     ]
    }
   ],
   "source": [
    "# initialize\n",
    "normalizer = Normalize()\n",
    "tokenizer = Tokenize()\n",
    "symspell = SymSpell(max_dictionary_edit_distance=3)\n",
    "symspell.load_complete_model_from_json('preprocess\\data\\corpus_complete_model.json', encoding=\"ISO-8859-1\")"
   ]
  },
  {
   "cell_type": "code",
   "execution_count": 5,
   "metadata": {},
   "outputs": [],
   "source": [
    "# do process\n",
    "doc_preprocessed = []\n",
    "\n",
    "for tweet in document:\n",
    "    # normalize\n",
    "    tweet_norm = normalizer.remove_ascii_unicode(tweet)\n",
    "    tweet_norm = normalizer.remove_rt_fav(tweet_norm)\n",
    "    tweet_norm = normalizer.lower_text(tweet_norm)\n",
    "    tweet_norm = normalizer.remove_newline(tweet_norm)\n",
    "    tweet_norm = normalizer.remove_url(tweet_norm)\n",
    "    tweet_norm = normalizer.remove_emoticon(tweet_norm)\n",
    "    tweet_norm = normalizer.remove_hashtag_mention(tweet_norm)\n",
    "    tweet_norm = normalizer.remove_punctuation(tweet_norm)\n",
    "    \n",
    "    # tokenize\n",
    "    tweet_tok = tokenizer.WordTokenize(tweet_norm, removepunct=True)\n",
    "    \n",
    "    # spell correction\n",
    "    temp = []\n",
    "    for token in tweet_tok:\n",
    "        suggestion = symspell.lookup(phrase=token, verbosity=1, max_edit_distance=3)\n",
    "\n",
    "        # option if there is no suggestion\n",
    "        if len(suggestion) > 0:\n",
    "            get_suggestion = str(suggestion[0]).split(':')[0]\n",
    "            temp.append(get_suggestion)\n",
    "        else:\n",
    "            temp.append(token)\n",
    "    tweet_prepared = ' '.join(temp)\n",
    "    \n",
    "    doc_preprocessed.append(tweet_prepared)"
   ]
  },
  {
   "cell_type": "code",
   "execution_count": 6,
   "metadata": {},
   "outputs": [
    {
     "data": {
      "text/plain": [
       "['cukup lawang sewu aja di pintunya banyak ke haiku cukup satu pintu aja kamu menyerah',\n",
       " 'mending hitungan pintu lawang sewu beneran seribu ga jumlahnya',\n",
       " 'he salam penghuni bawah lawang sewu aku kangen lembu rondo',\n",
       " 'ya kalo semarang sih di pasti lawang sewu sam poo kong kampung pelangi mas di di pusat kota tapi nek meh jatuhan dikit mending ke bendungan aja deh ada umbul sidomukti pondok kopi candi gedong santo taman bunga celana mas ke',\n",
       " 'akhirnya kesampaian juga kesini lawang sewu',\n",
       " 'tuku tahu neng lawang sewu kota merogoh makanku koe tinggal aku',\n",
       " 'jadi gue ketilang nih kan di semarang bawah di jalan sekitaran pemuda sama lawang sewu itu tuh gara-gara gue gembos lampu merah',\n",
       " 'delapan tahun lalu giat pesiar siswa ke lawang sewu semarang jateng silahkan cari tau ikon badan masing-masing saat ini',\n",
       " 'hidup ini dapat menjadi petualangan yang menantang atau tidak berarti sama sekali lawang sewu semarang',\n",
       " 'semua pintu mempunyai 1 kunci untuk membuka dan penuturnya kecuali pintu hati dia punya 2 kunci pertama cinta untuk membuka dan kedua sakit hati untuk menutup lawang sewu semarang',\n",
       " 'pap pemandangan sekitar dong di bosen pengen liat suasana di beda senja di lawang sewu semarang',\n",
       " 'ternyata asik naik brt pas di gak rame itu dan jalan gak macet itu lewat kota tua lawang sewu malah jadi city tour di meg kan wakwak alhamdulillah sampe sukun dapet bis di terakhir terakhir itu nih gadis rame ngotot dan beli tiketnya tu on the spot di depan pintu bisanya',\n",
       " 'dengerin terus ditalak via diputar - lezat lawang sewu - haruslah berakhir - dangdut koplo karaoke',\n",
       " 'buka jendela view nya langsung lawang sewu',\n",
       " 'menukak jendela pas view ne lawang sewu bisa ambul ah padahal sesuka lebih serengit mentah',\n",
       " 'di lantai tiga ada ruangan besar berjendela di dulu jadikan tempat olahraga bagi pegawai nis aula ini dilengkapi dengan toilet',\n",
       " 'di lantai dua terapit aula besar di dulu gunakan sibuk ruang pesta di sudut aula pasang wastafel di sudah ada sejak pertama kali udang',\n",
       " 'kaca jendela di lantai dua dibuat terbalik untuk menghindari air hujan agar tidak masuk',\n",
       " 'selain berfungsi sebagai penjara uap dari ruang bawah tanah juga berguna untuk pendingin ruang di atasnya',\n",
       " 'sekarang dikelola oleh pt kami kereta api indonesia sebagai musim berkereta tapaan ke-2 di semarang setelah musim ambarau',\n",
       " 'ornamen kaca patri adalah kaca patri termegah pada zaman dulu yang didisain khusus dengan filosofi kejayaan kereta api',\n",
       " 'meskipun bangunan tercatat dibangun pada tahun 1904 sebenarnya lawang sewu sudah direncanakan sejak tahun 1903',\n",
       " 'dibangun oleh arsitektur belanda prof jawab f klinkhamer th elf dan b j dendang proses perancangan dilakukan di belanda',\n",
       " 'bangunan ini dilengkapi aku ballroom ruang makan gini serbaguna hingga gini pertunjukan berbentuk bahtera terbalik lantai atas',\n",
       " 'merupakan salah satu dari 10 agunan kuno atau bersejarah di semarang yang patut dilindungi',\n",
       " 'terowongan bunker yang menyambung ke semasa di duga terhubung juga ke bungker misterius yang berada di rs daripada',\n",
       " 'juga pernah sempat digunakan sebagai kantor pemerintahan pasca indonesia merdeka',\n",
       " 'lah saksi bisu atas sejarah pertempuran 5 hari di semarang',\n",
       " 'pernah digunakan sebagai penjara bawah tanah oleh serdadu jepang',\n",
       " 'memiliki sistem pendingin air di bawah lantai dan di atap itulah fungsi utama basement']"
      ]
     },
     "execution_count": 6,
     "metadata": {},
     "output_type": "execute_result"
    }
   ],
   "source": [
    "doc_preprocessed"
   ]
  },
  {
   "cell_type": "markdown",
   "metadata": {},
   "source": [
    "# Join nama attraction dengan strip"
   ]
  },
  {
   "cell_type": "code",
   "execution_count": 7,
   "metadata": {},
   "outputs": [],
   "source": [
    "attractions = ['lawang sewu']\n",
    "\n",
    "def join_attraction(document, attractions):\n",
    "    new_doc = []\n",
    "    for doc in document:\n",
    "        for att in attractions:\n",
    "            if att in doc:\n",
    "                att_split = att.split()\n",
    "                att_strip = '-'.join(att_split)\n",
    "                doc = doc.replace(att, att_strip)\n",
    "        new_doc.append(doc)\n",
    "    return new_doc"
   ]
  },
  {
   "cell_type": "code",
   "execution_count": 8,
   "metadata": {},
   "outputs": [
    {
     "data": {
      "text/plain": [
       "['cukup lawang-sewu aja di pintunya banyak ke haiku cukup satu pintu aja kamu menyerah',\n",
       " 'mending hitungan pintu lawang-sewu beneran seribu ga jumlahnya',\n",
       " 'he salam penghuni bawah lawang-sewu aku kangen lembu rondo',\n",
       " 'ya kalo semarang sih di pasti lawang-sewu sam poo kong kampung pelangi mas di di pusat kota tapi nek meh jatuhan dikit mending ke bendungan aja deh ada umbul sidomukti pondok kopi candi gedong santo taman bunga celana mas ke',\n",
       " 'akhirnya kesampaian juga kesini lawang-sewu',\n",
       " 'tuku tahu neng lawang-sewu kota merogoh makanku koe tinggal aku',\n",
       " 'jadi gue ketilang nih kan di semarang bawah di jalan sekitaran pemuda sama lawang-sewu itu tuh gara-gara gue gembos lampu merah',\n",
       " 'delapan tahun lalu giat pesiar siswa ke lawang-sewu semarang jateng silahkan cari tau ikon badan masing-masing saat ini',\n",
       " 'hidup ini dapat menjadi petualangan yang menantang atau tidak berarti sama sekali lawang-sewu semarang',\n",
       " 'semua pintu mempunyai 1 kunci untuk membuka dan penuturnya kecuali pintu hati dia punya 2 kunci pertama cinta untuk membuka dan kedua sakit hati untuk menutup lawang-sewu semarang',\n",
       " 'pap pemandangan sekitar dong di bosen pengen liat suasana di beda senja di lawang-sewu semarang',\n",
       " 'ternyata asik naik brt pas di gak rame itu dan jalan gak macet itu lewat kota tua lawang-sewu malah jadi city tour di meg kan wakwak alhamdulillah sampe sukun dapet bis di terakhir terakhir itu nih gadis rame ngotot dan beli tiketnya tu on the spot di depan pintu bisanya',\n",
       " 'dengerin terus ditalak via diputar - lezat lawang-sewu - haruslah berakhir - dangdut koplo karaoke',\n",
       " 'buka jendela view nya langsung lawang-sewu',\n",
       " 'menukak jendela pas view ne lawang-sewu bisa ambul ah padahal sesuka lebih serengit mentah',\n",
       " 'di lantai tiga ada ruangan besar berjendela di dulu jadikan tempat olahraga bagi pegawai nis aula ini dilengkapi dengan toilet',\n",
       " 'di lantai dua terapit aula besar di dulu gunakan sibuk ruang pesta di sudut aula pasang wastafel di sudah ada sejak pertama kali udang',\n",
       " 'kaca jendela di lantai dua dibuat terbalik untuk menghindari air hujan agar tidak masuk',\n",
       " 'selain berfungsi sebagai penjara uap dari ruang bawah tanah juga berguna untuk pendingin ruang di atasnya',\n",
       " 'sekarang dikelola oleh pt kami kereta api indonesia sebagai musim berkereta tapaan ke-2 di semarang setelah musim ambarau',\n",
       " 'ornamen kaca patri adalah kaca patri termegah pada zaman dulu yang didisain khusus dengan filosofi kejayaan kereta api',\n",
       " 'meskipun bangunan tercatat dibangun pada tahun 1904 sebenarnya lawang-sewu sudah direncanakan sejak tahun 1903',\n",
       " 'dibangun oleh arsitektur belanda prof jawab f klinkhamer th elf dan b j dendang proses perancangan dilakukan di belanda',\n",
       " 'bangunan ini dilengkapi aku ballroom ruang makan gini serbaguna hingga gini pertunjukan berbentuk bahtera terbalik lantai atas',\n",
       " 'merupakan salah satu dari 10 agunan kuno atau bersejarah di semarang yang patut dilindungi',\n",
       " 'terowongan bunker yang menyambung ke semasa di duga terhubung juga ke bungker misterius yang berada di rs daripada',\n",
       " 'juga pernah sempat digunakan sebagai kantor pemerintahan pasca indonesia merdeka',\n",
       " 'lah saksi bisu atas sejarah pertempuran 5 hari di semarang',\n",
       " 'pernah digunakan sebagai penjara bawah tanah oleh serdadu jepang',\n",
       " 'memiliki sistem pendingin air di bawah lantai dan di atap itulah fungsi utama basement']"
      ]
     },
     "execution_count": 8,
     "metadata": {},
     "output_type": "execute_result"
    }
   ],
   "source": [
    "doc_preprocessed = join_attraction(doc_preprocessed, attractions)\n",
    "doc_preprocessed"
   ]
  },
  {
   "cell_type": "markdown",
   "metadata": {},
   "source": [
    "# POSLDA\n",
    "## HMM Tagger"
   ]
  },
  {
   "cell_type": "code",
   "execution_count": 9,
   "metadata": {},
   "outputs": [],
   "source": [
    "# import\n",
    "from hmmtagger.tagger import MainTagger\n",
    "from tokenization import *"
   ]
  },
  {
   "cell_type": "code",
   "execution_count": 10,
   "metadata": {},
   "outputs": [],
   "source": [
    "# initialize\n",
    "tagger = MainTagger(\"resource/Lexicon.trn\", \"resource/Ngram.trn\", 0, 3, 3, 0, 0, False, 0.2, 0, 500.0, 1)"
   ]
  },
  {
   "cell_type": "code",
   "execution_count": 11,
   "metadata": {},
   "outputs": [],
   "source": [
    "# do process\n",
    "doc_tagged = []\n",
    "\n",
    "for tweet in doc_preprocessed:\n",
    "    if len(tweet) == 0: continue\n",
    "    out = sentence_extraction(cleaning(tweet))\n",
    "\n",
    "    join_token = []\n",
    "    for o in out:\n",
    "        strtag = \" \".join(tokenisasi_kalimat(o)).strip()\n",
    "        join_token.extend(tagger.taggingStr(strtag))\n",
    "    doc_tagged.append(' '.join(join_token))"
   ]
  },
  {
   "cell_type": "code",
   "execution_count": 12,
   "metadata": {},
   "outputs": [
    {
     "data": {
      "text/plain": [
       "['cukup/JJ lawang-sewu/NN aja/NN di/IN pintunya/NN banyak/JJ ke/IN haiku/NN cukup/JJ satu/CDP pintu/NN aja/NN kamu/PRP menyerah/VBT',\n",
       " 'mending/JJ hitungan/JJ pintu/NN lawang-sewu/NN beneran/NN seribu/NN ga/NN jumlahnya/NNG',\n",
       " 'he/NN salam/NN penghuni/NN bawah/NN lawang-sewu/NN aku/NN kangen/NN lembu/NN rondo/NN',\n",
       " 'ya/UH kalo/NN semarang/NN sih/NN di/IN pasti/NN lawang-sewu/NN sam/NN poo/NN kong/NN kampung/NN pelangi/NN mas/NN di/IN di/IN pusat/NN kota/NN tapi/CC nek/JJ meh/VBT jatuhan/NN dikit/VBT mending/JJ ke/IN bendungan/NN aja/NN deh/NN ada/VBI umbul/NN sidomukti/NN pondok/NN kopi/NN candi/NN gedong/NN santo/RB taman/NN bunga/NN celana/NN mas/NN ke/IN',\n",
       " 'akhirnya/RB kesampaian/NN juga/RB kesini/NN lawang-sewu/NN',\n",
       " 'tuku/NN tahu/VBI neng/NN lawang-sewu/NN kota/NN merogoh/VBT makanku/NN koe/NN tinggal/VBI aku/NN',\n",
       " 'jadi/JJ gue/NN ketilang/NN nih/NNP kan/RP di/IN semarang/NN bawah/NN di/IN jalan/NN sekitaran/NN pemuda/NN sama/JJ lawang-sewu/NN itu/DT tuh/NN gara-gara/NN gue/NN gembos/JJ lampu/NN merah/PRP',\n",
       " 'delapan/CDP tahun/NN lalu/JJ giat/NN pesiar/NN siswa/NN ke/IN lawang-sewu/NN semarang/NN jateng/NN silahkan/NN cari/NN tau/VBT ikon/NN badan/NN masing-masing/DT saat/NN ini/DT',\n",
       " 'hidup/NN ini/DT dapat/MD menjadi/VBT petualangan/NN yang/SC menantang/VBT atau/CC tidak/NEG berarti/VBI sama/JJ sekali/RB lawang-sewu/NN semarang/NN',\n",
       " 'semua/CDI pintu/NN mempunyai/VBT 1/CDP kunci/NN untuk/IN membuka/VBT dan/CC penuturnya/NN kecuali/IN pintu/NN hati/NN dia/PRP punya/VBT 2/CDP kunci/NN pertama/CDO cinta/NN untuk/IN membuka/VBT dan/CC kedua/CDC sakit/JJ hati/NN untuk/IN menutup/VBT lawang-sewu/NN semarang/NN',\n",
       " 'pap/NN pemandangan/NN sekitar/CDI dong/NN di/IN bosen/NN pengen/NN liat/JJ suasana/NN di/IN beda/NN senja/NN di/IN lawang-sewu/NN semarang/NN',\n",
       " 'ternyata/RB asik/JJ naik/VBI brt/NN pas/NN di/IN gak/NN rame/NN itu/DT dan/CC jalan/NN gak/NN macet/JJ itu/DT lewat/NN kota/NN tua/JJ lawang-sewu/NN malah/NN jadi/JJ city/NN tour/NN di/IN meg/NN kan/RP wakwak/NN alhamdulillah/NN sampe/JJ sukun/VBI dapet/MD bis/NN di/IN terakhir/JJ terakhir/JJ itu/DT nih/NNP gadis/NN rame/NN ngotot/NN dan/CC beli/NN tiketnya/NN tu/NN on/FW the/FW spot/NN di/IN depan/NN pintu/NN bisanya/NN',\n",
       " 'dengerin/IN terus/RB ditalak/VBT via/NN diputar/VBT -/- lezat/JJ lawang-sewu/NN -/- haruslah/NN berakhir/VBI -/- dangdut/NN koplo/JJ karaoke/NN',\n",
       " 'buka/VBT jendela/NN view/NN nya/NN langsung/JJ lawang-sewu/NN',\n",
       " 'menukak/VBT jendela/NN pas/NN view/NN ne/NN lawang-sewu/NN bisa/MD ambul/NN ah/NN padahal/DT sesuka/SC lebih/RB serengit/NN mentah/JJ',\n",
       " 'di/IN lantai/NN tiga/CDP ada/VBI ruangan/NN besar/JJ berjendela/VBI di/IN dulu/RB jadikan/JJ tempat/NN olahraga/NN bagi/IN pegawai/NN nis/NNP aula/NN ini/DT dilengkapi/VBT dengan/IN toilet/NN',\n",
       " 'di/IN lantai/NN dua/CDP terapit/NN aula/NN besar/JJ di/IN dulu/RB gunakan/VBI sibuk/JJ ruang/NN pesta/NN di/IN sudut/NNP aula/NN pasang/NN wastafel/NN di/IN sudah/MD ada/VBI sejak/IN pertama/CDO kali/NN udang/NN',\n",
       " 'kaca/NN jendela/NN di/IN lantai/NN dua/CDP dibuat/VBT terbalik/VBI untuk/IN menghindari/VBT air/NN hujan/NN agar/SC tidak/NEG masuk/VBT',\n",
       " 'selain/SC berfungsi/VBI sebagai/IN penjara/NN uap/NN dari/IN ruang/NN bawah/NN tanah/NN juga/RB berguna/VBI untuk/IN pendingin/NN ruang/NN di/IN atasnya/IN',\n",
       " 'sekarang/NN dikelola/VBT oleh/IN pt/NN kami/PRP kereta/NN api/NN indonesia/NN sebagai/IN musim/NN berkereta/VBI tapaan/IN ke-2/CDO di/IN semarang/NN setelah/SC musim/NN ambarau/NN',\n",
       " 'ornamen/NN kaca/NN patri/NN adalah/VBT kaca/NN patri/NN termegah/JJ pada/IN zaman/NN dulu/RB yang/SC didisain/VBT khusus/JJ dengan/IN filosofi/NN kejayaan/NN kereta/NN api/NN',\n",
       " 'meskipun/CC bangunan/NN tercatat/VBI dibangun/VBT pada/IN tahun/NN 1904/CDP sebenarnya/RB lawang-sewu/NN sudah/MD direncanakan/VBT sejak/IN tahun/NN 1903/CDP',\n",
       " 'dibangun/VBT oleh/IN arsitektur/NN belanda/NN prof/NN jawab/VBI f/NN klinkhamer/NN th/FW elf/NN dan/CC b/NN j/NN dendang/NN proses/NN perancangan/NN dilakukan/VBT di/IN belanda/NN',\n",
       " 'bangunan/NN ini/DT dilengkapi/VBT aku/NN ballroom/NN ruang/NN makan/VBT gini/NN serbaguna/JJ hingga/CC gini/NN pertunjukan/NN berbentuk/VBT bahtera/NN terbalik/VBT lantai/NN atas/IN',\n",
       " 'merupakan/VBT salah/JJ satu/CDP dari/IN 10/CDP agunan/NN kuno/NN atau/CC bersejarah/VBI di/IN semarang/NN yang/SC patut/NN dilindungi/VBT',\n",
       " 'terowongan/NN bunker/NN yang/SC menyambung/VBT ke/IN semasa/RB di/IN duga/VBI terhubung/JJ juga/RB ke/IN bungker/NN misterius/NN yang/SC berada/VBI di/IN rs/NNP daripada/IN',\n",
       " 'juga/RB pernah/RB sempat/RB digunakan/VBT sebagai/IN kantor/NN pemerintahan/NN pasca/NN indonesia/NN merdeka/PRP',\n",
       " 'lah/NN saksi/JJ bisu/NN atas/IN sejarah/NN pertempuran/NN 5/CDP hari/NN di/IN semarang/NN',\n",
       " 'pernah/RB digunakan/VBT sebagai/IN penjara/NN bawah/NN tanah/NN oleh/IN serdadu/NN jepang/NN',\n",
       " 'memiliki/VBT sistem/NN pendingin/NN air/NN di/IN bawah/NN lantai/NN dan/CC di/IN atap/IN itulah/DT fungsi/NN utama/JJ basement/NN']"
      ]
     },
     "execution_count": 12,
     "metadata": {},
     "output_type": "execute_result"
    }
   ],
   "source": [
    "doc_tagged"
   ]
  },
  {
   "cell_type": "markdown",
   "metadata": {},
   "source": [
    "## Kelas Tag"
   ]
  },
  {
   "cell_type": "code",
   "execution_count": 13,
   "metadata": {},
   "outputs": [],
   "source": [
    "# define\n",
    "Ccon = ['JJ', 'NN','NNP', 'NNG', 'VBI', 'VBT']\n",
    "Cfnc = ['OP', 'CP', 'GM', ';', ':', '\"', '.',\n",
    "         ',', '-', '...', 'RB', 'IN', 'MD', 'CC',\n",
    "         'SC', 'DT', 'UH', 'CDO', 'CDC', 'CDP', 'CDI',\n",
    "         'PRP', 'WP', 'PRN', 'PRL', 'NEG', 'SYM', 'RP', 'FW']"
   ]
  },
  {
   "cell_type": "code",
   "execution_count": 14,
   "metadata": {},
   "outputs": [],
   "source": [
    "# do process\n",
    "doc_classified = []\n",
    "\n",
    "for tweet in doc_tagged:\n",
    "    tweet_split = tweet.split(' ')\n",
    "    \n",
    "    temp = {\"Content\": [], \"Function\": []}\n",
    "    con = []\n",
    "    fnc = []\n",
    "    \n",
    "    for token in tweet_split:\n",
    "        word = token.split('/', 1)[0]\n",
    "        tag = token.split('/', 1)[1]\n",
    "        \n",
    "        if tag in Ccon:\n",
    "            con.append(token)\n",
    "        elif tag in Cfnc:\n",
    "            fnc.append(token)\n",
    "            \n",
    "    temp[\"Content\"].append(' '.join(con))\n",
    "    temp[\"Function\"].append(' '.join(fnc))\n",
    "    \n",
    "    doc_classified.append(temp)"
   ]
  },
  {
   "cell_type": "code",
   "execution_count": 15,
   "metadata": {},
   "outputs": [
    {
     "data": {
      "text/plain": [
       "[{'Content': ['cukup/JJ lawang-sewu/NN aja/NN pintunya/NN banyak/JJ haiku/NN cukup/JJ pintu/NN aja/NN menyerah/VBT'],\n",
       "  'Function': ['di/IN ke/IN satu/CDP kamu/PRP']},\n",
       " {'Content': ['mending/JJ hitungan/JJ pintu/NN lawang-sewu/NN beneran/NN seribu/NN ga/NN jumlahnya/NNG'],\n",
       "  'Function': ['']},\n",
       " {'Content': ['he/NN salam/NN penghuni/NN bawah/NN lawang-sewu/NN aku/NN kangen/NN lembu/NN rondo/NN'],\n",
       "  'Function': ['']},\n",
       " {'Content': ['kalo/NN semarang/NN sih/NN pasti/NN lawang-sewu/NN sam/NN poo/NN kong/NN kampung/NN pelangi/NN mas/NN pusat/NN kota/NN nek/JJ meh/VBT jatuhan/NN dikit/VBT mending/JJ bendungan/NN aja/NN deh/NN ada/VBI umbul/NN sidomukti/NN pondok/NN kopi/NN candi/NN gedong/NN taman/NN bunga/NN celana/NN mas/NN'],\n",
       "  'Function': ['ya/UH di/IN di/IN di/IN tapi/CC ke/IN santo/RB ke/IN']},\n",
       " {'Content': ['kesampaian/NN kesini/NN lawang-sewu/NN'],\n",
       "  'Function': ['akhirnya/RB juga/RB']},\n",
       " {'Content': ['tuku/NN tahu/VBI neng/NN lawang-sewu/NN kota/NN merogoh/VBT makanku/NN koe/NN tinggal/VBI aku/NN'],\n",
       "  'Function': ['']},\n",
       " {'Content': ['jadi/JJ gue/NN ketilang/NN nih/NNP semarang/NN bawah/NN jalan/NN sekitaran/NN pemuda/NN sama/JJ lawang-sewu/NN tuh/NN gara-gara/NN gue/NN gembos/JJ lampu/NN'],\n",
       "  'Function': ['kan/RP di/IN di/IN itu/DT merah/PRP']},\n",
       " {'Content': ['tahun/NN lalu/JJ giat/NN pesiar/NN siswa/NN lawang-sewu/NN semarang/NN jateng/NN silahkan/NN cari/NN tau/VBT ikon/NN badan/NN saat/NN'],\n",
       "  'Function': ['delapan/CDP ke/IN masing-masing/DT ini/DT']},\n",
       " {'Content': ['hidup/NN menjadi/VBT petualangan/NN menantang/VBT berarti/VBI sama/JJ lawang-sewu/NN semarang/NN'],\n",
       "  'Function': ['ini/DT dapat/MD yang/SC atau/CC tidak/NEG sekali/RB']},\n",
       " {'Content': ['pintu/NN mempunyai/VBT kunci/NN membuka/VBT penuturnya/NN pintu/NN hati/NN punya/VBT kunci/NN cinta/NN membuka/VBT sakit/JJ hati/NN menutup/VBT lawang-sewu/NN semarang/NN'],\n",
       "  'Function': ['semua/CDI 1/CDP untuk/IN dan/CC kecuali/IN dia/PRP 2/CDP pertama/CDO untuk/IN dan/CC kedua/CDC untuk/IN']},\n",
       " {'Content': ['pap/NN pemandangan/NN dong/NN bosen/NN pengen/NN liat/JJ suasana/NN beda/NN senja/NN lawang-sewu/NN semarang/NN'],\n",
       "  'Function': ['sekitar/CDI di/IN di/IN di/IN']},\n",
       " {'Content': ['asik/JJ naik/VBI brt/NN pas/NN gak/NN rame/NN jalan/NN gak/NN macet/JJ lewat/NN kota/NN tua/JJ lawang-sewu/NN malah/NN jadi/JJ city/NN tour/NN meg/NN wakwak/NN alhamdulillah/NN sampe/JJ sukun/VBI bis/NN terakhir/JJ terakhir/JJ nih/NNP gadis/NN rame/NN ngotot/NN beli/NN tiketnya/NN tu/NN spot/NN depan/NN pintu/NN bisanya/NN'],\n",
       "  'Function': ['ternyata/RB di/IN itu/DT dan/CC itu/DT di/IN kan/RP dapet/MD di/IN itu/DT dan/CC on/FW the/FW di/IN']},\n",
       " {'Content': ['ditalak/VBT via/NN diputar/VBT lezat/JJ lawang-sewu/NN haruslah/NN berakhir/VBI dangdut/NN koplo/JJ karaoke/NN'],\n",
       "  'Function': ['dengerin/IN terus/RB -/- -/- -/-']},\n",
       " {'Content': ['buka/VBT jendela/NN view/NN nya/NN langsung/JJ lawang-sewu/NN'],\n",
       "  'Function': ['']},\n",
       " {'Content': ['menukak/VBT jendela/NN pas/NN view/NN ne/NN lawang-sewu/NN ambul/NN ah/NN serengit/NN mentah/JJ'],\n",
       "  'Function': ['bisa/MD padahal/DT sesuka/SC lebih/RB']},\n",
       " {'Content': ['lantai/NN ada/VBI ruangan/NN besar/JJ berjendela/VBI jadikan/JJ tempat/NN olahraga/NN pegawai/NN nis/NNP aula/NN dilengkapi/VBT toilet/NN'],\n",
       "  'Function': ['di/IN tiga/CDP di/IN dulu/RB bagi/IN ini/DT dengan/IN']},\n",
       " {'Content': ['lantai/NN terapit/NN aula/NN besar/JJ gunakan/VBI sibuk/JJ ruang/NN pesta/NN sudut/NNP aula/NN pasang/NN wastafel/NN ada/VBI kali/NN udang/NN'],\n",
       "  'Function': ['di/IN dua/CDP di/IN dulu/RB di/IN di/IN sudah/MD sejak/IN pertama/CDO']},\n",
       " {'Content': ['kaca/NN jendela/NN lantai/NN dibuat/VBT terbalik/VBI menghindari/VBT air/NN hujan/NN masuk/VBT'],\n",
       "  'Function': ['di/IN dua/CDP untuk/IN agar/SC tidak/NEG']},\n",
       " {'Content': ['berfungsi/VBI penjara/NN uap/NN ruang/NN bawah/NN tanah/NN berguna/VBI pendingin/NN ruang/NN'],\n",
       "  'Function': ['selain/SC sebagai/IN dari/IN juga/RB untuk/IN di/IN atasnya/IN']},\n",
       " {'Content': ['sekarang/NN dikelola/VBT pt/NN kereta/NN api/NN indonesia/NN musim/NN berkereta/VBI semarang/NN musim/NN ambarau/NN'],\n",
       "  'Function': ['oleh/IN kami/PRP sebagai/IN tapaan/IN ke-2/CDO di/IN setelah/SC']},\n",
       " {'Content': ['ornamen/NN kaca/NN patri/NN adalah/VBT kaca/NN patri/NN termegah/JJ zaman/NN didisain/VBT khusus/JJ filosofi/NN kejayaan/NN kereta/NN api/NN'],\n",
       "  'Function': ['pada/IN dulu/RB yang/SC dengan/IN']},\n",
       " {'Content': ['bangunan/NN tercatat/VBI dibangun/VBT tahun/NN lawang-sewu/NN direncanakan/VBT tahun/NN'],\n",
       "  'Function': ['meskipun/CC pada/IN 1904/CDP sebenarnya/RB sudah/MD sejak/IN 1903/CDP']},\n",
       " {'Content': ['dibangun/VBT arsitektur/NN belanda/NN prof/NN jawab/VBI f/NN klinkhamer/NN elf/NN b/NN j/NN dendang/NN proses/NN perancangan/NN dilakukan/VBT belanda/NN'],\n",
       "  'Function': ['oleh/IN th/FW dan/CC di/IN']},\n",
       " {'Content': ['bangunan/NN dilengkapi/VBT aku/NN ballroom/NN ruang/NN makan/VBT gini/NN serbaguna/JJ gini/NN pertunjukan/NN berbentuk/VBT bahtera/NN terbalik/VBT lantai/NN'],\n",
       "  'Function': ['ini/DT hingga/CC atas/IN']},\n",
       " {'Content': ['merupakan/VBT salah/JJ agunan/NN kuno/NN bersejarah/VBI semarang/NN patut/NN dilindungi/VBT'],\n",
       "  'Function': ['satu/CDP dari/IN 10/CDP atau/CC di/IN yang/SC']},\n",
       " {'Content': ['terowongan/NN bunker/NN menyambung/VBT duga/VBI terhubung/JJ bungker/NN misterius/NN berada/VBI rs/NNP'],\n",
       "  'Function': ['yang/SC ke/IN semasa/RB di/IN juga/RB ke/IN yang/SC di/IN daripada/IN']},\n",
       " {'Content': ['digunakan/VBT kantor/NN pemerintahan/NN pasca/NN indonesia/NN'],\n",
       "  'Function': ['juga/RB pernah/RB sempat/RB sebagai/IN merdeka/PRP']},\n",
       " {'Content': ['lah/NN saksi/JJ bisu/NN sejarah/NN pertempuran/NN hari/NN semarang/NN'],\n",
       "  'Function': ['atas/IN 5/CDP di/IN']},\n",
       " {'Content': ['digunakan/VBT penjara/NN bawah/NN tanah/NN serdadu/NN jepang/NN'],\n",
       "  'Function': ['pernah/RB sebagai/IN oleh/IN']},\n",
       " {'Content': ['memiliki/VBT sistem/NN pendingin/NN air/NN bawah/NN lantai/NN fungsi/NN utama/JJ basement/NN'],\n",
       "  'Function': ['di/IN dan/CC di/IN atap/IN itulah/DT']}]"
      ]
     },
     "execution_count": 15,
     "metadata": {},
     "output_type": "execute_result"
    }
   ],
   "source": [
    "doc_classified"
   ]
  },
  {
   "cell_type": "code",
   "execution_count": 16,
   "metadata": {},
   "outputs": [
    {
     "name": "stdout",
     "output_type": "stream",
     "text": [
      "['cukup/JJ lawang-sewu/NN aja/NN pintunya/NN banyak/JJ haiku/NN cukup/JJ pintu/NN aja/NN menyerah/VBT', 'mending/JJ hitungan/JJ pintu/NN lawang-sewu/NN beneran/NN seribu/NN ga/NN jumlahnya/NNG', 'he/NN salam/NN penghuni/NN bawah/NN lawang-sewu/NN aku/NN kangen/NN lembu/NN rondo/NN', 'kalo/NN semarang/NN sih/NN pasti/NN lawang-sewu/NN sam/NN poo/NN kong/NN kampung/NN pelangi/NN mas/NN pusat/NN kota/NN nek/JJ meh/VBT jatuhan/NN dikit/VBT mending/JJ bendungan/NN aja/NN deh/NN ada/VBI umbul/NN sidomukti/NN pondok/NN kopi/NN candi/NN gedong/NN taman/NN bunga/NN celana/NN mas/NN', 'kesampaian/NN kesini/NN lawang-sewu/NN', 'tuku/NN tahu/VBI neng/NN lawang-sewu/NN kota/NN merogoh/VBT makanku/NN koe/NN tinggal/VBI aku/NN', 'jadi/JJ gue/NN ketilang/NN nih/NNP semarang/NN bawah/NN jalan/NN sekitaran/NN pemuda/NN sama/JJ lawang-sewu/NN tuh/NN gara-gara/NN gue/NN gembos/JJ lampu/NN', 'tahun/NN lalu/JJ giat/NN pesiar/NN siswa/NN lawang-sewu/NN semarang/NN jateng/NN silahkan/NN cari/NN tau/VBT ikon/NN badan/NN saat/NN', 'hidup/NN menjadi/VBT petualangan/NN menantang/VBT berarti/VBI sama/JJ lawang-sewu/NN semarang/NN', 'pintu/NN mempunyai/VBT kunci/NN membuka/VBT penuturnya/NN pintu/NN hati/NN punya/VBT kunci/NN cinta/NN membuka/VBT sakit/JJ hati/NN menutup/VBT lawang-sewu/NN semarang/NN', 'pap/NN pemandangan/NN dong/NN bosen/NN pengen/NN liat/JJ suasana/NN beda/NN senja/NN lawang-sewu/NN semarang/NN', 'asik/JJ naik/VBI brt/NN pas/NN gak/NN rame/NN jalan/NN gak/NN macet/JJ lewat/NN kota/NN tua/JJ lawang-sewu/NN malah/NN jadi/JJ city/NN tour/NN meg/NN wakwak/NN alhamdulillah/NN sampe/JJ sukun/VBI bis/NN terakhir/JJ terakhir/JJ nih/NNP gadis/NN rame/NN ngotot/NN beli/NN tiketnya/NN tu/NN spot/NN depan/NN pintu/NN bisanya/NN', 'ditalak/VBT via/NN diputar/VBT lezat/JJ lawang-sewu/NN haruslah/NN berakhir/VBI dangdut/NN koplo/JJ karaoke/NN', 'buka/VBT jendela/NN view/NN nya/NN langsung/JJ lawang-sewu/NN', 'menukak/VBT jendela/NN pas/NN view/NN ne/NN lawang-sewu/NN ambul/NN ah/NN serengit/NN mentah/JJ', 'lantai/NN ada/VBI ruangan/NN besar/JJ berjendela/VBI jadikan/JJ tempat/NN olahraga/NN pegawai/NN nis/NNP aula/NN dilengkapi/VBT toilet/NN', 'lantai/NN terapit/NN aula/NN besar/JJ gunakan/VBI sibuk/JJ ruang/NN pesta/NN sudut/NNP aula/NN pasang/NN wastafel/NN ada/VBI kali/NN udang/NN', 'kaca/NN jendela/NN lantai/NN dibuat/VBT terbalik/VBI menghindari/VBT air/NN hujan/NN masuk/VBT', 'berfungsi/VBI penjara/NN uap/NN ruang/NN bawah/NN tanah/NN berguna/VBI pendingin/NN ruang/NN', 'sekarang/NN dikelola/VBT pt/NN kereta/NN api/NN indonesia/NN musim/NN berkereta/VBI semarang/NN musim/NN ambarau/NN', 'ornamen/NN kaca/NN patri/NN adalah/VBT kaca/NN patri/NN termegah/JJ zaman/NN didisain/VBT khusus/JJ filosofi/NN kejayaan/NN kereta/NN api/NN', 'bangunan/NN tercatat/VBI dibangun/VBT tahun/NN lawang-sewu/NN direncanakan/VBT tahun/NN', 'dibangun/VBT arsitektur/NN belanda/NN prof/NN jawab/VBI f/NN klinkhamer/NN elf/NN b/NN j/NN dendang/NN proses/NN perancangan/NN dilakukan/VBT belanda/NN', 'bangunan/NN dilengkapi/VBT aku/NN ballroom/NN ruang/NN makan/VBT gini/NN serbaguna/JJ gini/NN pertunjukan/NN berbentuk/VBT bahtera/NN terbalik/VBT lantai/NN', 'merupakan/VBT salah/JJ agunan/NN kuno/NN bersejarah/VBI semarang/NN patut/NN dilindungi/VBT', 'terowongan/NN bunker/NN menyambung/VBT duga/VBI terhubung/JJ bungker/NN misterius/NN berada/VBI rs/NNP', 'digunakan/VBT kantor/NN pemerintahan/NN pasca/NN indonesia/NN', 'lah/NN saksi/JJ bisu/NN sejarah/NN pertempuran/NN hari/NN semarang/NN', 'digunakan/VBT penjara/NN bawah/NN tanah/NN serdadu/NN jepang/NN', 'memiliki/VBT sistem/NN pendingin/NN air/NN bawah/NN lantai/NN fungsi/NN utama/JJ basement/NN']\n",
      "\n",
      "[['cukup', 'lawang-sewu', 'aja', 'pintunya', 'banyak', 'haiku', 'cukup', 'pintu', 'aja', 'menyerah'], ['mending', 'hitungan', 'pintu', 'lawang-sewu', 'beneran', 'seribu', 'ga', 'jumlahnya'], ['he', 'salam', 'penghuni', 'bawah', 'lawang-sewu', 'aku', 'kangen', 'lembu', 'rondo'], ['kalo', 'semarang', 'sih', 'pasti', 'lawang-sewu', 'sam', 'poo', 'kong', 'kampung', 'pelangi', 'mas', 'pusat', 'kota', 'nek', 'meh', 'jatuhan', 'dikit', 'mending', 'bendungan', 'aja', 'deh', 'ada', 'umbul', 'sidomukti', 'pondok', 'kopi', 'candi', 'gedong', 'taman', 'bunga', 'celana', 'mas'], ['kesampaian', 'kesini', 'lawang-sewu'], ['tuku', 'tahu', 'neng', 'lawang-sewu', 'kota', 'merogoh', 'makanku', 'koe', 'tinggal', 'aku'], ['jadi', 'gue', 'ketilang', 'nih', 'semarang', 'bawah', 'jalan', 'sekitaran', 'pemuda', 'sama', 'lawang-sewu', 'tuh', 'gara-gara', 'gue', 'gembos', 'lampu'], ['tahun', 'lalu', 'giat', 'pesiar', 'siswa', 'lawang-sewu', 'semarang', 'jateng', 'silahkan', 'cari', 'tau', 'ikon', 'badan', 'saat'], ['hidup', 'menjadi', 'petualangan', 'menantang', 'berarti', 'sama', 'lawang-sewu', 'semarang'], ['pintu', 'mempunyai', 'kunci', 'membuka', 'penuturnya', 'pintu', 'hati', 'punya', 'kunci', 'cinta', 'membuka', 'sakit', 'hati', 'menutup', 'lawang-sewu', 'semarang'], ['pap', 'pemandangan', 'dong', 'bosen', 'pengen', 'liat', 'suasana', 'beda', 'senja', 'lawang-sewu', 'semarang'], ['asik', 'naik', 'brt', 'pas', 'gak', 'rame', 'jalan', 'gak', 'macet', 'lewat', 'kota', 'tua', 'lawang-sewu', 'malah', 'jadi', 'city', 'tour', 'meg', 'wakwak', 'alhamdulillah', 'sampe', 'sukun', 'bis', 'terakhir', 'terakhir', 'nih', 'gadis', 'rame', 'ngotot', 'beli', 'tiketnya', 'tu', 'spot', 'depan', 'pintu', 'bisanya'], ['ditalak', 'via', 'diputar', 'lezat', 'lawang-sewu', 'haruslah', 'berakhir', 'dangdut', 'koplo', 'karaoke'], ['buka', 'jendela', 'view', 'nya', 'langsung', 'lawang-sewu'], ['menukak', 'jendela', 'pas', 'view', 'ne', 'lawang-sewu', 'ambul', 'ah', 'serengit', 'mentah'], ['lantai', 'ada', 'ruangan', 'besar', 'berjendela', 'jadikan', 'tempat', 'olahraga', 'pegawai', 'nis', 'aula', 'dilengkapi', 'toilet'], ['lantai', 'terapit', 'aula', 'besar', 'gunakan', 'sibuk', 'ruang', 'pesta', 'sudut', 'aula', 'pasang', 'wastafel', 'ada', 'kali', 'udang'], ['kaca', 'jendela', 'lantai', 'dibuat', 'terbalik', 'menghindari', 'air', 'hujan', 'masuk'], ['berfungsi', 'penjara', 'uap', 'ruang', 'bawah', 'tanah', 'berguna', 'pendingin', 'ruang'], ['sekarang', 'dikelola', 'pt', 'kereta', 'api', 'indonesia', 'musim', 'berkereta', 'semarang', 'musim', 'ambarau'], ['ornamen', 'kaca', 'patri', 'adalah', 'kaca', 'patri', 'termegah', 'zaman', 'didisain', 'khusus', 'filosofi', 'kejayaan', 'kereta', 'api'], ['bangunan', 'tercatat', 'dibangun', 'tahun', 'lawang-sewu', 'direncanakan', 'tahun'], ['dibangun', 'arsitektur', 'belanda', 'prof', 'jawab', 'f', 'klinkhamer', 'elf', 'b', 'j', 'dendang', 'proses', 'perancangan', 'dilakukan', 'belanda'], ['bangunan', 'dilengkapi', 'aku', 'ballroom', 'ruang', 'makan', 'gini', 'serbaguna', 'gini', 'pertunjukan', 'berbentuk', 'bahtera', 'terbalik', 'lantai'], ['merupakan', 'salah', 'agunan', 'kuno', 'bersejarah', 'semarang', 'patut', 'dilindungi'], ['terowongan', 'bunker', 'menyambung', 'duga', 'terhubung', 'bungker', 'misterius', 'berada', 'rs'], ['digunakan', 'kantor', 'pemerintahan', 'pasca', 'indonesia'], ['lah', 'saksi', 'bisu', 'sejarah', 'pertempuran', 'hari', 'semarang'], ['digunakan', 'penjara', 'bawah', 'tanah', 'serdadu', 'jepang'], ['memiliki', 'sistem', 'pendingin', 'air', 'bawah', 'lantai', 'fungsi', 'utama', 'basement']]\n"
     ]
    }
   ],
   "source": [
    "# split document content and function\n",
    "doc_content = []\n",
    "for tweet in doc_classified:\n",
    "    doc_content.append(''.join(tweet['Content']))\n",
    "\n",
    "print(doc_content)\n",
    "print()\n",
    "\n",
    "# split tag and word\n",
    "doc_prepared = []\n",
    "for tweet in doc_content:\n",
    "    tweet_split = tweet.split(' ')\n",
    "    \n",
    "    temp = []\n",
    "    for token in tweet_split:\n",
    "        word = token.split('/', 1)[0]\n",
    "        temp.append(word)\n",
    "    \n",
    "    doc_prepared.append(temp)\n",
    "\n",
    "print(doc_prepared)"
   ]
  },
  {
   "cell_type": "markdown",
   "metadata": {},
   "source": [
    "# LDA"
   ]
  },
  {
   "cell_type": "code",
   "execution_count": 17,
   "metadata": {},
   "outputs": [],
   "source": [
    "# import\n",
    "from lda.ldamodel import LdaModel"
   ]
  },
  {
   "cell_type": "code",
   "execution_count": 18,
   "metadata": {},
   "outputs": [
    {
     "name": "stdout",
     "output_type": "stream",
     "text": [
      "Wall time: 11.3 s\n"
     ]
    }
   ],
   "source": [
    "%%time\n",
    "# iniatialize\n",
    "k = 4\n",
    "alpha = 0.001\n",
    "beta = 0.001\n",
    "iterations = 1000\n",
    "\n",
    "# do process\n",
    "lda = LdaModel(doc_prepared, k, alpha, beta, iterations)"
   ]
  },
  {
   "cell_type": "code",
   "execution_count": 19,
   "metadata": {},
   "outputs": [],
   "source": [
    "result = lda.get_topic_word_pwz(doc_content)\n",
    "\n",
    "df_lda = pd.DataFrame(result, columns=['Topik', 'Kata', 'PWZ'])"
   ]
  },
  {
   "cell_type": "code",
   "execution_count": 20,
   "metadata": {},
   "outputs": [
    {
     "data": {
      "text/html": [
       "<div>\n",
       "<style scoped>\n",
       "    .dataframe tbody tr th:only-of-type {\n",
       "        vertical-align: middle;\n",
       "    }\n",
       "\n",
       "    .dataframe tbody tr th {\n",
       "        vertical-align: top;\n",
       "    }\n",
       "\n",
       "    .dataframe thead th {\n",
       "        text-align: right;\n",
       "    }\n",
       "</style>\n",
       "<table border=\"1\" class=\"dataframe\">\n",
       "  <thead>\n",
       "    <tr style=\"text-align: right;\">\n",
       "      <th></th>\n",
       "      <th>Topik</th>\n",
       "      <th>Kata</th>\n",
       "      <th>PWZ</th>\n",
       "    </tr>\n",
       "  </thead>\n",
       "  <tbody>\n",
       "    <tr>\n",
       "      <th>0</th>\n",
       "      <td>0</td>\n",
       "      <td>lantai/NN</td>\n",
       "      <td>0.062308</td>\n",
       "    </tr>\n",
       "    <tr>\n",
       "      <th>1</th>\n",
       "      <td>0</td>\n",
       "      <td>ruang/NN</td>\n",
       "      <td>0.049849</td>\n",
       "    </tr>\n",
       "    <tr>\n",
       "      <th>2</th>\n",
       "      <td>0</td>\n",
       "      <td>bawah/NN</td>\n",
       "      <td>0.037390</td>\n",
       "    </tr>\n",
       "    <tr>\n",
       "      <th>3</th>\n",
       "      <td>0</td>\n",
       "      <td>aula/NN</td>\n",
       "      <td>0.037390</td>\n",
       "    </tr>\n",
       "    <tr>\n",
       "      <th>4</th>\n",
       "      <td>0</td>\n",
       "      <td>ada/VBI</td>\n",
       "      <td>0.024931</td>\n",
       "    </tr>\n",
       "  </tbody>\n",
       "</table>\n",
       "</div>"
      ],
      "text/plain": [
       "   Topik       Kata       PWZ\n",
       "0      0  lantai/NN  0.062308\n",
       "1      0   ruang/NN  0.049849\n",
       "2      0   bawah/NN  0.037390\n",
       "3      0    aula/NN  0.037390\n",
       "4      0    ada/VBI  0.024931"
      ]
     },
     "execution_count": 20,
     "metadata": {},
     "output_type": "execute_result"
    }
   ],
   "source": [
    "df_lda.head()"
   ]
  },
  {
   "cell_type": "code",
   "execution_count": 21,
   "metadata": {},
   "outputs": [
    {
     "name": "stdout",
     "output_type": "stream",
     "text": [
      "0.062308\n",
      "0.049849\n",
      "0.037390\n",
      "0.037390\n",
      "0.024931\n",
      "0.024931\n",
      "0.024931\n",
      "0.024931\n",
      "0.024931\n",
      "0.024931\n",
      "0.024931\n",
      "0.024931\n",
      "0.024931\n",
      "0.024931\n",
      "0.012471\n",
      "0.012471\n",
      "0.012471\n",
      "0.012471\n",
      "0.012471\n",
      "0.012471\n"
     ]
    }
   ],
   "source": [
    "print(df_lda[df_lda['Topik']==0]['PWZ'].to_string(index=False))"
   ]
  },
  {
   "cell_type": "code",
   "execution_count": 22,
   "metadata": {},
   "outputs": [
    {
     "data": {
      "text/plain": [
       "6.309962474617263"
      ]
     },
     "execution_count": 22,
     "metadata": {},
     "output_type": "execute_result"
    }
   ],
   "source": [
    "lda.perplexity()"
   ]
  },
  {
   "cell_type": "markdown",
   "metadata": {},
   "source": [
    "# Grammar"
   ]
  },
  {
   "cell_type": "code",
   "execution_count": 23,
   "metadata": {},
   "outputs": [],
   "source": [
    "from collections import defaultdict\n",
    "\n",
    "dict_ldapwz = defaultdict(list)"
   ]
  },
  {
   "cell_type": "code",
   "execution_count": 24,
   "metadata": {},
   "outputs": [],
   "source": [
    "for idx, row in df_lda.iterrows():\n",
    "#     dict_ldapwz[row['Topik']].append(row['Kata'])\n",
    "    dict_ldapwz[row['Topik']].append([row['Kata'], row['PWZ']])"
   ]
  },
  {
   "cell_type": "code",
   "execution_count": 25,
   "metadata": {},
   "outputs": [
    {
     "data": {
      "text/plain": [
       "defaultdict(list,\n",
       "            {0: [['lantai/NN', 0.062307663556059455],\n",
       "              ['ruang/NN', 0.04984862265302817],\n",
       "              ['bawah/NN', 0.03738958174999688],\n",
       "              ['aula/NN', 0.03738958174999688],\n",
       "              ['ada/VBI', 0.024930540846965596],\n",
       "              ['besar/JJ', 0.024930540846965596],\n",
       "              ['terbalik/VBI', 0.024930540846965596],\n",
       "              ['terbalik/VBT', 0.024930540846965596],\n",
       "              ['tanah/NN', 0.024930540846965596],\n",
       "              ['digunakan/VBT', 0.024930540846965596],\n",
       "              ['air/NN', 0.024930540846965596],\n",
       "              ['dilengkapi/VBT', 0.024930540846965596],\n",
       "              ['pendingin/NN', 0.024930540846965596],\n",
       "              ['penjara/NN', 0.024930540846965596],\n",
       "              ['berjendela/VBI', 0.012471499943934313],\n",
       "              ['tempat/NN', 0.012471499943934313],\n",
       "              ['toilet/NN', 0.012471499943934313],\n",
       "              ['terapit/NN', 0.012471499943934313],\n",
       "              ['sudut/NNP', 0.012471499943934313],\n",
       "              ['wastafel/NN', 0.012471499943934313]],\n",
       "             1: [['semarang/NN', 0.0786882236471159],\n",
       "              ['lawang-sewu/NN', 0.05246318660425108],\n",
       "              ['nih/NNP', 0.026238149561386252],\n",
       "              ['rame/NN', 0.026238149561386252],\n",
       "              ['terakhir/JJ', 0.026238149561386252],\n",
       "              ['gak/NN', 0.026238149561386252],\n",
       "              ['sama/JJ', 0.026238149561386252],\n",
       "              ['tahun/NN', 0.013125631039953841],\n",
       "              ['siswa/NN', 0.013125631039953841],\n",
       "              ['ikon/NN', 0.013125631039953841],\n",
       "              ['badan/NN', 0.013125631039953841],\n",
       "              ['menantang/VBT', 0.013125631039953841],\n",
       "              ['bosen/NN', 0.013125631039953841],\n",
       "              ['brt/NN', 0.013125631039953841],\n",
       "              ['tua/JJ', 0.013125631039953841],\n",
       "              ['alhamdulillah/NN', 0.013125631039953841],\n",
       "              ['gadis/NN', 0.013125631039953841],\n",
       "              ['spot/NN', 0.013125631039953841],\n",
       "              ['bisu/NN', 0.013125631039953841],\n",
       "              ['pertempuran/NN', 0.013125631039953841]],\n",
       "             2: [['lawang-sewu/NN', 0.049386251641764516],\n",
       "              ['pintu/NN', 0.039510976368466275],\n",
       "              ['aja/NN', 0.029635701095168027],\n",
       "              ['semarang/NN', 0.029635701095168027],\n",
       "              ['cukup/JJ', 0.019760425821869782],\n",
       "              ['mas/NN', 0.019760425821869782],\n",
       "              ['hati/NN', 0.019760425821869782],\n",
       "              ['api/NN', 0.019760425821869782],\n",
       "              ['musim/NN', 0.019760425821869782],\n",
       "              ['patri/NN', 0.019760425821869782],\n",
       "              ['kereta/NN', 0.019760425821869782],\n",
       "              ['mending/JJ', 0.019760425821869782],\n",
       "              ['kunci/NN', 0.019760425821869782],\n",
       "              ['membuka/VBT', 0.019760425821869782],\n",
       "              ['kaca/NN', 0.019760425821869782],\n",
       "              ['pintunya/NN', 0.00988515054857154],\n",
       "              ['hitungan/JJ', 0.00988515054857154],\n",
       "              ['beneran/NN', 0.00988515054857154],\n",
       "              ['ga/NN', 0.00988515054857154],\n",
       "              ['kampung/NN', 0.00988515054857154]],\n",
       "             3: [['lawang-sewu/NN', 0.07506728284528698],\n",
       "              ['aku/NN', 0.03217781971414173],\n",
       "              ['jendela/NN', 0.03217781971414173],\n",
       "              ['kota/NN', 0.021455453931355412],\n",
       "              ['gue/NN', 0.021455453931355412],\n",
       "              ['bawah/NN', 0.021455453931355412],\n",
       "              ['jadi/JJ', 0.021455453931355412],\n",
       "              ['view/NN', 0.021455453931355412],\n",
       "              ['bangunan/NN', 0.021455453931355412],\n",
       "              ['dibangun/VBT', 0.021455453931355412],\n",
       "              ['belanda/NN', 0.021455453931355412],\n",
       "              ['pas/NN', 0.021455453931355412],\n",
       "              ['jalan/NN', 0.021455453931355412],\n",
       "              ['tahun/NN', 0.021455453931355412],\n",
       "              ['gini/NN', 0.021455453931355412],\n",
       "              ['pintu/NN', 0.010733088148569098],\n",
       "              ['penghuni/NN', 0.010733088148569098],\n",
       "              ['rondo/NN', 0.010733088148569098],\n",
       "              ['sekitaran/NN', 0.010733088148569098],\n",
       "              ['pemuda/NN', 0.010733088148569098]]})"
      ]
     },
     "execution_count": 25,
     "metadata": {},
     "output_type": "execute_result"
    }
   ],
   "source": [
    "dict_ldapwz"
   ]
  },
  {
   "cell_type": "raw",
   "metadata": {},
   "source": [
    "start_grammar = \"\"\"\n",
    "    S -> NP VP\n",
    "    NP -> NN | NN NN | NN JJ | NNG | NNP |  NP PP |\n",
    "    VP -> VBT NN | VBT NN NN | VBT NN CC NN | VBT NP | VBI | JJ\n",
    "    PP -> IN NP\n",
    "    IN -> 'di'\n",
    "    VBT -> 'memiliki', 'adalah', 'merupakan', 'terdapat', 'yaitu', 'sebagai', 'mempunyai'\n",
    "\"\"\""
   ]
  },
  {
   "cell_type": "code",
   "execution_count": 26,
   "metadata": {},
   "outputs": [],
   "source": [
    "import re\n",
    "from collections import OrderedDict, defaultdict"
   ]
  },
  {
   "cell_type": "code",
   "execution_count": 27,
   "metadata": {},
   "outputs": [],
   "source": [
    "NP = ['_NN', '_NNG', '_NNP', '_NP _PP']\n",
    "VP = ['_VBT _NN', '_VBT _NN _CC _NN', '_VBT _NP', '_VBI', '_SC _JJ']"
   ]
  },
  {
   "cell_type": "code",
   "execution_count": 28,
   "metadata": {},
   "outputs": [],
   "source": [
    "def get_list_tag(dict_words_by_tag):\n",
    "    result = []\n",
    "    for key in dict_words_by_tag:\n",
    "        result.append(key)\n",
    "    return result"
   ]
  },
  {
   "cell_type": "code",
   "execution_count": 29,
   "metadata": {},
   "outputs": [],
   "source": [
    "def generate_base_grammar(list_tag):\n",
    "    result = {}\n",
    "    \n",
    "    if '_VBT' not in list_tag:\n",
    "        list_tag.append('_VBT')\n",
    "    \n",
    "    S = {\"_S\": [\"_NP _VP\"]}\n",
    "    PP = {\"_PP\": [\"_IN _NP\"]}\n",
    "    \n",
    "    if '_JJ' in list_tag:\n",
    "        NP_RULES = generate_NP(list_tag)\n",
    "        NP = {\"_NP\": NP_RULES}\n",
    "        if check_VP(list_tag):\n",
    "            VP_RULES = ['_VP _PP', '_JJ'] + generate_VP(list_tag)\n",
    "            VP = {\"_VP\": VP_RULES}\n",
    "        else:\n",
    "            VP = {\"_VP\": ['_JJ']}\n",
    "\n",
    "        for r in [S, NP, VP, PP]:\n",
    "            result.update(r)\n",
    "        return result\n",
    "    else:\n",
    "        NP_RULES = remove_JJ(generate_NP(list_tag))\n",
    "        NP = {\"_NP\": NP_RULES}\n",
    "        if check_VP(list_tag):\n",
    "            VP_RULES = ['_VP _PP'] + remove_JJ(generate_VP(list_tag))\n",
    "            VP = {\"_VP\": VP_RULES}\n",
    "        else:\n",
    "            VP = {\"_VP\": ['_PP']}\n",
    "            \n",
    "        for r in [S, NP, VP, PP]:\n",
    "            result.update(r)\n",
    "        return result\n",
    "\n",
    "def generate_NP(list_tag):\n",
    "    result = []\n",
    "    for tag in list_tag:\n",
    "        for words in NP:\n",
    "            if re.search(r'\\b' + tag + r'\\b', words):\n",
    "                result.append(words)\n",
    "    return list(OrderedDict.fromkeys(result))\n",
    "    \n",
    "def check_VP(list_tag):\n",
    "    for tag in list_tag:\n",
    "        if 'V' in tag:\n",
    "            return True\n",
    "    return False\n",
    "\n",
    "def generate_VP(list_tag):\n",
    "    result = []\n",
    "    for tag in list_tag:\n",
    "        for words in VP:\n",
    "            if re.search(r'\\b' + tag + r'\\b', words):\n",
    "                result.append(words)\n",
    "    return list(OrderedDict.fromkeys(result))\n",
    "\n",
    "def remove_JJ(list_tag):\n",
    "    result = []\n",
    "    for tag in list_tag:\n",
    "        if '_JJ' in tag:\n",
    "            continue\n",
    "        else:\n",
    "            result.append(tag)\n",
    "    return result"
   ]
  },
  {
   "cell_type": "code",
   "execution_count": 30,
   "metadata": {},
   "outputs": [],
   "source": [
    "def generate_words_grammar(dict_words_by_tag):\n",
    "    result = {}\n",
    "    IN = {\"_IN\": ['di', 'sebagai', 'oleh']}\n",
    "    CC = {\"_CC\": ['dan']}\n",
    "    SC = {\"_SC\": ['yang']}\n",
    "    ADD_VBT = {\"_VBT\": ['memiliki', 'adalah', 'merupakan', 'terdapat', 'yaitu', 'sebagai', 'mempunyai']}\n",
    "    \n",
    "    WORDS = dict_words_by_tag\n",
    "    if '_VBT' in WORDS:\n",
    "        for word in ADD_VBT[\"_VBT\"]:\n",
    "            if word not in WORDS['_VBT']:\n",
    "                WORDS['_VBT'].append(word)\n",
    "    else:\n",
    "        WORDS.update(ADD_VBT)\n",
    "            \n",
    "    for r in [IN, CC, SC, WORDS]:\n",
    "        result.update(r)\n",
    "    return result"
   ]
  },
  {
   "cell_type": "code",
   "execution_count": 31,
   "metadata": {},
   "outputs": [],
   "source": [
    "def organize_words_by_tag(list_words):\n",
    "    result = defaultdict(list)\n",
    "    \n",
    "    i = []\n",
    "    for s in list_words:\n",
    "        word, pwz = s[0], s[1]\n",
    "        \n",
    "        wrd = word.split('/')[0]\n",
    "        tag = word.split('/')[1]\n",
    "        result['_'+tag].append([wrd, pwz])\n",
    "    return dict(result)"
   ]
  },
  {
   "cell_type": "code",
   "execution_count": 32,
   "metadata": {},
   "outputs": [],
   "source": [
    "def split_word_pwz(dict_words_pwz_by_tag):\n",
    "    dict_word_by_tag = defaultdict(list)\n",
    "    dict_pwz_by_tag = defaultdict(list)\n",
    "    \n",
    "    for key, values in dict_words_pwz_by_tag.items():\n",
    "        for data in values:\n",
    "            word, pwz = data[0], data[1]\n",
    "            dict_word_by_tag[key].append(word)\n",
    "            dict_pwz_by_tag[key].append(pwz)\n",
    "    return dict(dict_word_by_tag), dict(dict_pwz_by_tag)"
   ]
  },
  {
   "cell_type": "code",
   "execution_count": 33,
   "metadata": {},
   "outputs": [],
   "source": [
    "def create_grammar(dict_words_by_topic):\n",
    "    grammar = {}\n",
    "    \n",
    "    dict_words_pwz_by_tag = organize_words_by_tag(dict_words_by_topic)\n",
    "    list_tag = get_list_tag(dict_words_pwz_by_tag)\n",
    "    base_grammar = generate_base_grammar(list_tag)\n",
    "    dict_word_by_tag, dict_pwz_by_tag = split_word_pwz(dict_words_pwz_by_tag)\n",
    "    words_grammar = generate_words_grammar(dict_word_by_tag)\n",
    "    \n",
    "    for r in [base_grammar, words_grammar]:\n",
    "        grammar.update(r)\n",
    "    return grammar, dict_pwz_by_tag "
   ]
  },
  {
   "cell_type": "code",
   "execution_count": 34,
   "metadata": {},
   "outputs": [],
   "source": [
    "def merge_two_dicts(x, y):\n",
    "    z = x.copy()\n",
    "    z.update(y)\n",
    "    return z"
   ]
  },
  {
   "cell_type": "code",
   "execution_count": 35,
   "metadata": {},
   "outputs": [],
   "source": [
    "def is_terminal(token):\n",
    "    return token[0] != \"_\""
   ]
  },
  {
   "cell_type": "code",
   "execution_count": 36,
   "metadata": {},
   "outputs": [],
   "source": [
    "sys_random = random.SystemRandom()\n",
    "\n",
    "def expand(grammar, tokens, dict_pwz_by_tag):\n",
    "    for i, token in enumerate(tokens):\n",
    "\n",
    "        # skip over terminals\n",
    "        if is_terminal(token): continue\n",
    "\n",
    "        # if we get here, we found a non-terminal token\n",
    "        # so we need to choose a replacement at random\n",
    "        replacement = sys_random.choice(grammar[token])\n",
    "        \n",
    "        if replacement == '_NN':\n",
    "            weight = [x/sum(dict_pwz_by_tag['_NN']) for x in dict_pwz_by_tag['_NN']]\n",
    "            replacement = nr.choice(grammar['_NN'], p=weight)\n",
    "            \n",
    "        if is_terminal(replacement):\n",
    "            tokens[i] = replacement\n",
    "        else:\n",
    "            tokens = tokens[:i] + replacement.split() + tokens[(i+1):]\n",
    "       \n",
    "        # now call expand on the new list of tokens\n",
    "        return expand(grammar, tokens, dict_pwz_by_tag)\n",
    "\n",
    "    # if we get here we had all terminals and are done\n",
    "    return tokens"
   ]
  },
  {
   "cell_type": "code",
   "execution_count": 37,
   "metadata": {},
   "outputs": [],
   "source": [
    "def generate_sentence(grammar, dict_pwz_by_tag):\n",
    "    return expand(grammar, [\"_S\"], dict_pwz_by_tag)"
   ]
  },
  {
   "cell_type": "code",
   "execution_count": 38,
   "metadata": {},
   "outputs": [],
   "source": [
    "def create_sentences_from_data(dict_data):\n",
    "    result = {}\n",
    "    for topic, words in dict_data.items():\n",
    "        sentence = []\n",
    "        grammar, dict_pwz_by_tag = create_grammar(words)\n",
    "        print(grammar)\n",
    "        for s in range(10):\n",
    "            sentence.append(' '.join(generate_sentence(grammar, dict_pwz_by_tag)))\n",
    "        result = merge_two_dicts(result, {topic: sentence})\n",
    "    return result"
   ]
  },
  {
   "cell_type": "code",
   "execution_count": 47,
   "metadata": {},
   "outputs": [
    {
     "name": "stdout",
     "output_type": "stream",
     "text": [
      "{'_S': ['_NP _VP'], '_NP': ['_NN', '_NNP'], '_VP': ['_VP _PP', '_JJ', '_VBT _NN', '_VBT _NN _CC _NN', '_VBI', '_SC _JJ', '_VBT _NP'], '_PP': ['_IN _NP'], '_IN': ['di', 'sebagai', 'oleh'], '_CC': ['dan'], '_SC': ['yang'], '_NN': ['lantai', 'ruang', 'bawah', 'aula', 'tanah', 'air', 'pendingin', 'penjara', 'tempat', 'toilet', 'terapit', 'wastafel'], '_VBI': ['ada', 'terbalik', 'berjendela'], '_JJ': ['besar'], '_VBT': ['terbalik', 'digunakan', 'dilengkapi', 'memiliki', 'adalah', 'merupakan', 'terdapat', 'yaitu', 'sebagai', 'mempunyai'], '_NNP': ['sudut']}\n",
      "{'_S': ['_NP _VP'], '_NP': ['_NN', '_NNP'], '_VP': ['_VP _PP', '_JJ', '_VBT _NN', '_VBT _NN _CC _NN', '_SC _JJ', '_VBT _NP'], '_PP': ['_IN _NP'], '_IN': ['di', 'sebagai', 'oleh'], '_CC': ['dan'], '_SC': ['yang'], '_NN': ['semarang', 'lawang-sewu', 'rame', 'gak', 'tahun', 'siswa', 'ikon', 'badan', 'bosen', 'brt', 'alhamdulillah', 'gadis', 'spot', 'bisu', 'pertempuran'], '_NNP': ['nih'], '_JJ': ['terakhir', 'sama', 'tua'], '_VBT': ['menantang', 'memiliki', 'adalah', 'merupakan', 'terdapat', 'yaitu', 'sebagai', 'mempunyai']}\n",
      "{'_S': ['_NP _VP'], '_NP': ['_NN'], '_VP': ['_VP _PP', '_JJ', '_VBT _NN', '_VBT _NN _CC _NN', '_SC _JJ', '_VBT _NP'], '_PP': ['_IN _NP'], '_IN': ['di', 'sebagai', 'oleh'], '_CC': ['dan'], '_SC': ['yang'], '_NN': ['lawang-sewu', 'pintu', 'aja', 'semarang', 'mas', 'hati', 'api', 'musim', 'patri', 'kereta', 'kunci', 'kaca', 'pintunya', 'beneran', 'ga', 'kampung'], '_JJ': ['cukup', 'mending', 'hitungan'], '_VBT': ['membuka', 'memiliki', 'adalah', 'merupakan', 'terdapat', 'yaitu', 'sebagai', 'mempunyai']}\n",
      "{'_S': ['_NP _VP'], '_NP': ['_NN'], '_VP': ['_VP _PP', '_JJ', '_VBT _NN', '_VBT _NN _CC _NN', '_SC _JJ', '_VBT _NP'], '_PP': ['_IN _NP'], '_IN': ['di', 'sebagai', 'oleh'], '_CC': ['dan'], '_SC': ['yang'], '_NN': ['lawang-sewu', 'aku', 'jendela', 'kota', 'gue', 'bawah', 'view', 'bangunan', 'belanda', 'pas', 'jalan', 'tahun', 'gini', 'pintu', 'penghuni', 'rondo', 'sekitaran', 'pemuda'], '_JJ': ['jadi'], '_VBT': ['dibangun', 'memiliki', 'adalah', 'merupakan', 'terdapat', 'yaitu', 'sebagai', 'mempunyai']}\n"
     ]
    }
   ],
   "source": [
    "dict_story = create_sentences_from_data(dict(dict_ldapwz))\n",
    "# for _ in dict_story.items():\n",
    "#     print(_)"
   ]
  },
  {
   "cell_type": "code",
   "execution_count": 48,
   "metadata": {},
   "outputs": [
    {
     "data": {
      "text/plain": [
       "{0: ['air yang besar',\n",
       "  'sudut terdapat bawah',\n",
       "  'sudut ada',\n",
       "  'sudut besar sebagai sudut',\n",
       "  'terapit memiliki bawah',\n",
       "  'ruang besar',\n",
       "  'ruang yang besar',\n",
       "  'aula dilengkapi wastafel dan lantai',\n",
       "  'aula yang besar',\n",
       "  'tempat ada'],\n",
       " 1: ['tahun terakhir',\n",
       "  'nih yaitu lawang-sewu',\n",
       "  'semarang terakhir oleh bosen',\n",
       "  'rame merupakan lawang-sewu dan gak',\n",
       "  'tahun sebagai lawang-sewu',\n",
       "  'nih mempunyai siswa',\n",
       "  'rame adalah semarang',\n",
       "  'spot terakhir sebagai lawang-sewu',\n",
       "  'nih adalah semarang',\n",
       "  'gadis yang terakhir'],\n",
       " 2: ['musim adalah lawang-sewu',\n",
       "  'lawang-sewu mempunyai pintunya dan musim',\n",
       "  'ga membuka semarang di lawang-sewu',\n",
       "  'pintu yaitu beneran',\n",
       "  'pintunya terdapat musim',\n",
       "  'mas membuka lawang-sewu dan kereta',\n",
       "  'beneran yang mending',\n",
       "  'pintu mempunyai semarang',\n",
       "  'beneran yaitu kaca dan pintu di pintu',\n",
       "  'hati merupakan beneran dan kunci'],\n",
       " 3: ['jalan mempunyai pemuda',\n",
       "  'aku jadi',\n",
       "  'gue yang jadi',\n",
       "  'tahun merupakan jalan',\n",
       "  'sekitaran merupakan lawang-sewu',\n",
       "  'gini mempunyai gini',\n",
       "  'pas jadi',\n",
       "  'jendela merupakan pemuda',\n",
       "  'view dibangun gini di lawang-sewu',\n",
       "  'jalan adalah lawang-sewu']}"
      ]
     },
     "execution_count": 48,
     "metadata": {},
     "output_type": "execute_result"
    }
   ],
   "source": [
    "dict_story"
   ]
  },
  {
   "cell_type": "code",
   "execution_count": null,
   "metadata": {},
   "outputs": [],
   "source": []
  }
 ],
 "metadata": {
  "kernelspec": {
   "display_name": "Python 3",
   "language": "python",
   "name": "python3"
  },
  "language_info": {
   "codemirror_mode": {
    "name": "ipython",
    "version": 3
   },
   "file_extension": ".py",
   "mimetype": "text/x-python",
   "name": "python",
   "nbconvert_exporter": "python",
   "pygments_lexer": "ipython3",
   "version": "3.6.1"
  }
 },
 "nbformat": 4,
 "nbformat_minor": 2
}
