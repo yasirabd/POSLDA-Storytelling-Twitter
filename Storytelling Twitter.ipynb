{
 "cells": [
  {
   "cell_type": "code",
   "execution_count": 1,
   "metadata": {},
   "outputs": [],
   "source": [
    "import pandas as pd\n",
    "import numpy as np"
   ]
  },
  {
   "cell_type": "markdown",
   "metadata": {},
   "source": [
    "# Dataset Twitter"
   ]
  },
  {
   "cell_type": "code",
   "execution_count": 2,
   "metadata": {},
   "outputs": [
    {
     "data": {
      "text/plain": [
       "16"
      ]
     },
     "execution_count": 2,
     "metadata": {},
     "output_type": "execute_result"
    }
   ],
   "source": [
    "document = [\"Di lantai tiga #lawangsewu, ada ruangan besar berjendela yang dulu djadikan tmpt olahraga bgi pegawai. Aula ini dilengkapi dengan toilet.\",\n",
    "            \"LAGI MUTER RESA LAWANG SEWU FT DE KODEL - I LOVE U OMPONG #KOPI DANGDUT #MAINKAN MUSIKNYA\",\n",
    "            \"Di lantai dua terdapat aula besar yang dlu dgnakan sebagai ruang pesta. Di sudut aula trpasang wastafel yang sudah ada sejak pertama kali #lawangsewu dibangun.\",\n",
    "            \"Kaca jendela di lantai dua #lawangsewu dibuat terbalik untuk menghindari air hujan agar tidak masuk.\",\n",
    "            \"Selain berfungsi sebagai penjara, uap dari ruang bawah tanah #lawangsewu juga berguna untuk pendingin ruang di atasnya.\",\n",
    "            \"Malem minggu senengane neng tugu muda lawang sewu simpang lima ?? seng jomblo neng rumah aja ndak gawe jalan Semarang macet ?? https://t.co/9kfjHJsD8E\",\n",
    "            \"LAGI SYANTIK RESA LAWANG SEWU NEW METRO LIVE KARANGANYAR DEMAK 2018 https://t.co/8VOxnNTvqi\",\n",
    "            \"Sendirian ke Lawang Sewu. Independency level: 999+ Pas ngasih karcis di pintu masuk, mas2nya “sendirian, mbak?” “iya mas??????????” Oh itu ga sedih sih Yang sedih adlah ketika lagi santai berdiri liat2 (dan gak ngehalangin ya posisi gue!!) masi aja disuru minggir ama org yang lagi foto2???? https://t.co/EybhuKt572\",\n",
    "            \"Nadia pamit mau merantau dulu ya, doain semoga gak jadi anak nakal di sana #vsco #vscocam @ Lawang Sewu https://t.co/sFgYs2i9we\",\n",
    "            \"Jalan-jalan ke Lawang Sewu @trishantyrondonuwu @ita_seputro @retno.wulandari.963 @ Lawang Sewu https://t.co/eNyAp4JXKR\",\n",
    "            \"Duo pemburu hantu ??????????  di Lawang Sewu ....... nguber wewe gombel dapet nya pentol bakar???????????? @PAidi_TM Hidup ???????? https://t.co/kz7kvaxTnh\",\n",
    "            \"Berhenti sejenak untuk melihat segala sesuatu dari sudut pandang yang berbeda. ?? #dewewani #exp @ Lawang Sewu https://t.co/JwN7lZsd6S\",\n",
    "            \"Resa lawang sewu live on depan mata\",\n",
    "            \"Stiap orang pasti punya sisi GELAP jad jangan sok SUCI ??? #lawangsewu #semarang https://t.co/D4HSvgUoH2\",\n",
    "            \"Tempat dimana kunjungan pertama di Semarang, yaitu lawang Sewu. Pada hari itu aku sedang makan siang dipanggil oleh teman dari kejauhan, aku menduga jangan-jangan dapat tawaran, karena… https://t.co/sidSNCHdSN\",\n",
    "            \"Saya paling suka hari rabu\"]\n",
    "len(document)"
   ]
  },
  {
   "cell_type": "markdown",
   "metadata": {},
   "source": [
    "# Preprocessing"
   ]
  },
  {
   "cell_type": "code",
   "execution_count": 3,
   "metadata": {},
   "outputs": [],
   "source": [
    "# import\n",
    "from preprocess.normalize import Normalize\n",
    "from preprocess.tokenize import Tokenize\n",
    "from preprocess.symspell import SymSpell"
   ]
  },
  {
   "cell_type": "code",
   "execution_count": 4,
   "metadata": {},
   "outputs": [
    {
     "name": "stdout",
     "output_type": "stream",
     "text": [
      "Loading dictionary...\n",
      "Processing dictionary...\n",
      "Copied 94811 words to master dictionary...\n",
      "Copied 679534 hashes to master dictionary...\n"
     ]
    }
   ],
   "source": [
    "# initialize\n",
    "normalizer = Normalize()\n",
    "tokenizer = Tokenize()\n",
    "symspell = SymSpell(max_dictionary_edit_distance=3)\n",
    "symspell.load_complete_model_from_json('preprocess\\data\\corpus_complete_model.json', encoding=\"ISO-8859-1\")"
   ]
  },
  {
   "cell_type": "code",
   "execution_count": 5,
   "metadata": {},
   "outputs": [],
   "source": [
    "# do process\n",
    "doc_preprocessed = []\n",
    "\n",
    "for tweet in document:\n",
    "    # normalize\n",
    "    tweet_norm = normalizer.remove_ascii_unicode(tweet)\n",
    "    tweet_norm = normalizer.remove_rt_fav(tweet_norm)\n",
    "    tweet_norm = normalizer.lower_text(tweet_norm)\n",
    "    tweet_norm = normalizer.remove_newline(tweet_norm)\n",
    "    tweet_norm = normalizer.remove_url(tweet_norm)\n",
    "    tweet_norm = normalizer.remove_emoticon(tweet_norm)\n",
    "    tweet_norm = normalizer.remove_hashtag_mention(tweet_norm)\n",
    "    tweet_norm = normalizer.remove_punctuation(tweet_norm)\n",
    "    \n",
    "    # tokenize\n",
    "    tweet_tok = tokenizer.WordTokenize(tweet_norm, removepunct=True)\n",
    "    \n",
    "    # spell correction\n",
    "    temp = []\n",
    "    for token in tweet_tok:\n",
    "        suggestion = symspell.lookup(phrase=token, verbosity=1, max_edit_distance=3)\n",
    "\n",
    "        # option if there is no suggestion\n",
    "        if len(suggestion) > 0:\n",
    "            get_suggestion = str(suggestion[0]).split(':')[0]\n",
    "            temp.append(get_suggestion)\n",
    "        else:\n",
    "            temp.append(token)\n",
    "    tweet_prepared = ' '.join(temp)\n",
    "    \n",
    "    doc_preprocessed.append(tweet_prepared)"
   ]
  },
  {
   "cell_type": "code",
   "execution_count": 6,
   "metadata": {},
   "outputs": [
    {
     "name": "stdout",
     "output_type": "stream",
     "text": [
      "di lantai tiga ada ruangan besar berjendela yang dulu jadikan tempat olahraga bagi pegawai aula ini dilengkapi dengan toilet\n",
      "lagi muter resa lawang sewu di de model - i love u ompong dangdut musiknya\n",
      "di lantai dua terdapat aula besar yang dulu gunakan sebagai ruang pesta di sudut aula pasang wastafel yang sudah ada sejak pertama kali dibangun\n",
      "kaca jendela di lantai dua dibuat terbalik untuk menghindari air hujan agar tidak masuk\n",
      "selain berfungsi sebagai penjara uap dari ruang bawah tanah juga berguna untuk pendingin ruang di atasnya\n",
      "malem minggu seneng neng tugu muda lawang sewu simpang lima seng jomblo neng rumah aja ndak gawe jalan semarang macet\n",
      "lagi cantik resa lawang sewu new metro live karanganyar demak 2008\n",
      "sendirian ke lawang sewu dependency level 1999 pas ngasih karcis di pintu masuk masanya sendirian mbak iya mas oh itu ga sedih sih yang sedih adalah ketika lagi santai berdiri liat dan gak ngehalangin ya posisi gue masih aja disuruh minggir ama orang yang lagi foto\n",
      "nadi pamit mau merantau dulu ya doain semoga gak jadi anak nakal di sana lawang sewu\n",
      "jalan-jalan ke lawang sewu lawang sewu\n",
      "duo pemburu hantu di lawang sewu nguber wewe gembel dapet nya pentol bakar hidup\n",
      "berhenti sejenak untuk melihat segala sesuatu dari sudut pandang yang berbeda lawang sewu\n",
      "resa lawang sewu live on depan mata\n",
      "setiap orang pasti punya sisi gelap jadi jangan sok suci\n",
      "tempat dimana kunjungan pertama di semarang yaitu lawang sewu pada hari itu aku sedang makan siang dipanggil oleh teman dari kejauhan aku menduga jangan-jangan dapat tawaran karena\n",
      "saya paling suka hari rabu\n"
     ]
    }
   ],
   "source": [
    "for _ in doc_preprocessed:\n",
    "    print(_)\n",
    "# doc_preprocessed"
   ]
  },
  {
   "cell_type": "markdown",
   "metadata": {},
   "source": [
    "# POSLDA"
   ]
  },
  {
   "cell_type": "markdown",
   "metadata": {},
   "source": [
    "## HMM Tagger"
   ]
  },
  {
   "cell_type": "code",
   "execution_count": 7,
   "metadata": {},
   "outputs": [],
   "source": [
    "# import\n",
    "from hmmtagger.tagger import MainTagger\n",
    "from tokenization import *"
   ]
  },
  {
   "cell_type": "code",
   "execution_count": 8,
   "metadata": {},
   "outputs": [],
   "source": [
    "# initialize\n",
    "tagger = MainTagger(\"resource/Lexicon.trn\", \"resource/Ngram.trn\", 0, 3, 3, 0, 0, False, 0.2, 0, 500.0, 1)"
   ]
  },
  {
   "cell_type": "code",
   "execution_count": 9,
   "metadata": {},
   "outputs": [],
   "source": [
    "# do process\n",
    "doc_tagged = []\n",
    "\n",
    "for tweet in doc_preprocessed:\n",
    "    if len(tweet) == 0: continue\n",
    "    out = sentence_extraction(cleaning(tweet))\n",
    "\n",
    "    join_token = []\n",
    "    for o in out:\n",
    "        strtag = \" \".join(tokenisasi_kalimat(o)).strip()\n",
    "        join_token.extend(tagger.taggingStr(strtag))\n",
    "    doc_tagged.append(' '.join(join_token))"
   ]
  },
  {
   "cell_type": "code",
   "execution_count": 10,
   "metadata": {},
   "outputs": [
    {
     "data": {
      "text/plain": [
       "['di/IN lantai/NN tiga/CDP ada/VBI ruangan/NN besar/JJ berjendela/VBI yang/SC dulu/RB jadikan/JJ tempat/NN olahraga/NN bagi/IN pegawai/NN aula/NN ini/DT dilengkapi/VBT dengan/IN toilet/NN',\n",
       " 'lagi/RB muter/NN resa/NN lawang/NN sewu/NN di/IN de/NNP model/NN -/- i/NN love/NN u/IN ompong/NN dangdut/NN musiknya/NN',\n",
       " 'di/IN lantai/NN dua/CDP terdapat/VBT aula/NN besar/JJ yang/SC dulu/RB gunakan/VBI sebagai/IN ruang/NN pesta/NN di/IN sudut/NNP aula/NN pasang/NN wastafel/NN yang/SC sudah/MD ada/VBI sejak/IN pertama/CDO kali/NN dibangun/VBT',\n",
       " 'kaca/NN jendela/NN di/IN lantai/NN dua/CDP dibuat/VBT terbalik/VBI untuk/IN menghindari/VBT air/NN hujan/NN agar/SC tidak/NEG masuk/VBT',\n",
       " 'selain/SC berfungsi/VBI sebagai/IN penjara/NN uap/NN dari/IN ruang/NN bawah/NN tanah/NN juga/RB berguna/VBI untuk/IN pendingin/NN ruang/NN di/IN atasnya/IN',\n",
       " 'malem/NN minggu/NN seneng/NN neng/NN tugu/NN muda/JJ lawang/NN sewu/NN simpang/NN lima/CDP seng/NN jomblo/NNP neng/NN rumah/NN aja/NN ndak/NN gawe/NN jalan/NN semarang/NN macet/JJ',\n",
       " 'lagi/RB cantik/JJ resa/NN lawang/NN sewu/NN new/NN metro/NN live/NN karanganyar/NN demak/NN 2008/CDP',\n",
       " 'sendirian/NN ke/IN lawang/NN sewu/NN dependency/NN level/NN 1999/CDP pas/NN ngasih/NN karcis/NN di/IN pintu/NN masuk/VBT masanya/NN sendirian/NN mbak/NN iya/NN mas/NN oh/NN itu/DT ga/NN sedih/JJ sih/NN yang/SC sedih/JJ adalah/VBT ketika/SC lagi/RB santai/RB berdiri/VBI liat/JJ dan/CC gak/NN ngehalangin/NN ya/UH posisi/NN gue/NN masih/RB aja/NN disuruh/VBT minggir/VBT ama/NN orang/NN yang/SC lagi/RB foto/NN',\n",
       " 'nadi/NN pamit/NN mau/CC merantau/VBT dulu/RB ya/UH doain/NN semoga/RB gak/NN jadi/JJ anak/NN nakal/JJ di/IN sana/PRL lawang/NN sewu/NN',\n",
       " 'jalan-jalan/NN ke/IN lawang/NN sewu/NN lawang/NN sewu/NN',\n",
       " 'duo/NN pemburu/NN hantu/RB di/IN lawang/NN sewu/NN nguber/NN wewe/NN gembel/NN dapet/MD nya/NN pentol/NN bakar/NN hidup/VBI',\n",
       " 'berhenti/VBT sejenak/NN untuk/IN melihat/VBT segala/RB sesuatu/RB dari/IN sudut/NNP pandang/NN yang/SC berbeda/JJ lawang/NN sewu/NN',\n",
       " 'resa/NN lawang/NN sewu/NN live/FW on/FW depan/NN mata/NN',\n",
       " 'setiap/DT orang/NN pasti/NN punya/VBT sisi/NN gelap/NN jadi/JJ jangan/NEG sok/NN suci/JJ',\n",
       " 'tempat/NN dimana/WP kunjungan/NN pertama/CDO di/IN semarang/NN yaitu/SC lawang/NN sewu/NN pada/IN hari/NN itu/DT aku/NN sedang/RB makan/VBT siang/NN dipanggil/VBT oleh/IN teman/NN dari/IN kejauhan/NN aku/NN menduga/VBT jangan-jangan/NN dapat/MD tawaran/NN karena/CC',\n",
       " 'saya/PRP paling/RB suka/VBI hari/NN rabu/NN']"
      ]
     },
     "execution_count": 10,
     "metadata": {},
     "output_type": "execute_result"
    }
   ],
   "source": [
    "doc_tagged"
   ]
  },
  {
   "cell_type": "markdown",
   "metadata": {},
   "source": [
    "## Kelas Tag"
   ]
  },
  {
   "cell_type": "code",
   "execution_count": 11,
   "metadata": {},
   "outputs": [],
   "source": [
    "# define\n",
    "Ccon = ['JJ', 'NN','NNP', 'NNG', 'VBI', 'VBT']\n",
    "Cfnc = ['OP', 'CP', 'GM', ';', ':', '\"', '.',\n",
    "         ',', '-', '...', 'RB', 'IN', 'MD', 'CC',\n",
    "         'SC', 'DT', 'UH', 'CDO', 'CDC', 'CDP', 'CDI',\n",
    "         'PRP', 'WP', 'PRN', 'PRL', 'NEG', 'SYM', 'RP', 'FW']"
   ]
  },
  {
   "cell_type": "code",
   "execution_count": 12,
   "metadata": {},
   "outputs": [],
   "source": [
    "# do process\n",
    "doc_classified = []\n",
    "\n",
    "for tweet in doc_tagged:\n",
    "    tweet_split = tweet.split(' ')\n",
    "    \n",
    "    temp = {\"Content\": [], \"Function\": []}\n",
    "    con = []\n",
    "    fnc = []\n",
    "    \n",
    "    for token in tweet_split:\n",
    "        word = token.split('/', 1)[0]\n",
    "        tag = token.split('/', 1)[1]\n",
    "        \n",
    "        if tag in Ccon:\n",
    "            con.append(token)\n",
    "        elif tag in Cfnc:\n",
    "            fnc.append(token)\n",
    "            \n",
    "    temp[\"Content\"].append(' '.join(con))\n",
    "    temp[\"Function\"].append(' '.join(fnc))\n",
    "    \n",
    "    doc_classified.append(temp)"
   ]
  },
  {
   "cell_type": "code",
   "execution_count": 13,
   "metadata": {},
   "outputs": [
    {
     "data": {
      "text/plain": [
       "[{'Content': ['lantai/NN ada/VBI ruangan/NN besar/JJ berjendela/VBI jadikan/JJ tempat/NN olahraga/NN pegawai/NN aula/NN dilengkapi/VBT toilet/NN'],\n",
       "  'Function': ['di/IN tiga/CDP yang/SC dulu/RB bagi/IN ini/DT dengan/IN']},\n",
       " {'Content': ['muter/NN resa/NN lawang/NN sewu/NN de/NNP model/NN i/NN love/NN ompong/NN dangdut/NN musiknya/NN'],\n",
       "  'Function': ['lagi/RB di/IN -/- u/IN']},\n",
       " {'Content': ['lantai/NN terdapat/VBT aula/NN besar/JJ gunakan/VBI ruang/NN pesta/NN sudut/NNP aula/NN pasang/NN wastafel/NN ada/VBI kali/NN dibangun/VBT'],\n",
       "  'Function': ['di/IN dua/CDP yang/SC dulu/RB sebagai/IN di/IN yang/SC sudah/MD sejak/IN pertama/CDO']},\n",
       " {'Content': ['kaca/NN jendela/NN lantai/NN dibuat/VBT terbalik/VBI menghindari/VBT air/NN hujan/NN masuk/VBT'],\n",
       "  'Function': ['di/IN dua/CDP untuk/IN agar/SC tidak/NEG']},\n",
       " {'Content': ['berfungsi/VBI penjara/NN uap/NN ruang/NN bawah/NN tanah/NN berguna/VBI pendingin/NN ruang/NN'],\n",
       "  'Function': ['selain/SC sebagai/IN dari/IN juga/RB untuk/IN di/IN atasnya/IN']},\n",
       " {'Content': ['malem/NN minggu/NN seneng/NN neng/NN tugu/NN muda/JJ lawang/NN sewu/NN simpang/NN seng/NN jomblo/NNP neng/NN rumah/NN aja/NN ndak/NN gawe/NN jalan/NN semarang/NN macet/JJ'],\n",
       "  'Function': ['lima/CDP']},\n",
       " {'Content': ['cantik/JJ resa/NN lawang/NN sewu/NN new/NN metro/NN live/NN karanganyar/NN demak/NN'],\n",
       "  'Function': ['lagi/RB 2008/CDP']},\n",
       " {'Content': ['sendirian/NN lawang/NN sewu/NN dependency/NN level/NN pas/NN ngasih/NN karcis/NN pintu/NN masuk/VBT masanya/NN sendirian/NN mbak/NN iya/NN mas/NN oh/NN ga/NN sedih/JJ sih/NN sedih/JJ adalah/VBT berdiri/VBI liat/JJ gak/NN ngehalangin/NN posisi/NN gue/NN aja/NN disuruh/VBT minggir/VBT ama/NN orang/NN foto/NN'],\n",
       "  'Function': ['ke/IN 1999/CDP di/IN itu/DT yang/SC ketika/SC lagi/RB santai/RB dan/CC ya/UH masih/RB yang/SC lagi/RB']},\n",
       " {'Content': ['nadi/NN pamit/NN merantau/VBT doain/NN gak/NN jadi/JJ anak/NN nakal/JJ lawang/NN sewu/NN'],\n",
       "  'Function': ['mau/CC dulu/RB ya/UH semoga/RB di/IN sana/PRL']},\n",
       " {'Content': ['jalan-jalan/NN lawang/NN sewu/NN lawang/NN sewu/NN'],\n",
       "  'Function': ['ke/IN']},\n",
       " {'Content': ['duo/NN pemburu/NN lawang/NN sewu/NN nguber/NN wewe/NN gembel/NN nya/NN pentol/NN bakar/NN hidup/VBI'],\n",
       "  'Function': ['hantu/RB di/IN dapet/MD']},\n",
       " {'Content': ['berhenti/VBT sejenak/NN melihat/VBT sudut/NNP pandang/NN berbeda/JJ lawang/NN sewu/NN'],\n",
       "  'Function': ['untuk/IN segala/RB sesuatu/RB dari/IN yang/SC']},\n",
       " {'Content': ['resa/NN lawang/NN sewu/NN depan/NN mata/NN'],\n",
       "  'Function': ['live/FW on/FW']},\n",
       " {'Content': ['orang/NN pasti/NN punya/VBT sisi/NN gelap/NN jadi/JJ sok/NN suci/JJ'],\n",
       "  'Function': ['setiap/DT jangan/NEG']},\n",
       " {'Content': ['tempat/NN kunjungan/NN semarang/NN lawang/NN sewu/NN hari/NN aku/NN makan/VBT siang/NN dipanggil/VBT teman/NN kejauhan/NN aku/NN menduga/VBT jangan-jangan/NN tawaran/NN'],\n",
       "  'Function': ['dimana/WP pertama/CDO di/IN yaitu/SC pada/IN itu/DT sedang/RB oleh/IN dari/IN dapat/MD karena/CC']},\n",
       " {'Content': ['suka/VBI hari/NN rabu/NN'], 'Function': ['saya/PRP paling/RB']}]"
      ]
     },
     "execution_count": 13,
     "metadata": {},
     "output_type": "execute_result"
    }
   ],
   "source": [
    "doc_classified"
   ]
  },
  {
   "cell_type": "code",
   "execution_count": 14,
   "metadata": {},
   "outputs": [
    {
     "name": "stdout",
     "output_type": "stream",
     "text": [
      "['lantai/NN ada/VBI ruangan/NN besar/JJ berjendela/VBI jadikan/JJ tempat/NN olahraga/NN pegawai/NN aula/NN dilengkapi/VBT toilet/NN', 'muter/NN resa/NN lawang/NN sewu/NN de/NNP model/NN i/NN love/NN ompong/NN dangdut/NN musiknya/NN', 'lantai/NN terdapat/VBT aula/NN besar/JJ gunakan/VBI ruang/NN pesta/NN sudut/NNP aula/NN pasang/NN wastafel/NN ada/VBI kali/NN dibangun/VBT', 'kaca/NN jendela/NN lantai/NN dibuat/VBT terbalik/VBI menghindari/VBT air/NN hujan/NN masuk/VBT', 'berfungsi/VBI penjara/NN uap/NN ruang/NN bawah/NN tanah/NN berguna/VBI pendingin/NN ruang/NN', 'malem/NN minggu/NN seneng/NN neng/NN tugu/NN muda/JJ lawang/NN sewu/NN simpang/NN seng/NN jomblo/NNP neng/NN rumah/NN aja/NN ndak/NN gawe/NN jalan/NN semarang/NN macet/JJ', 'cantik/JJ resa/NN lawang/NN sewu/NN new/NN metro/NN live/NN karanganyar/NN demak/NN', 'sendirian/NN lawang/NN sewu/NN dependency/NN level/NN pas/NN ngasih/NN karcis/NN pintu/NN masuk/VBT masanya/NN sendirian/NN mbak/NN iya/NN mas/NN oh/NN ga/NN sedih/JJ sih/NN sedih/JJ adalah/VBT berdiri/VBI liat/JJ gak/NN ngehalangin/NN posisi/NN gue/NN aja/NN disuruh/VBT minggir/VBT ama/NN orang/NN foto/NN', 'nadi/NN pamit/NN merantau/VBT doain/NN gak/NN jadi/JJ anak/NN nakal/JJ lawang/NN sewu/NN', 'jalan-jalan/NN lawang/NN sewu/NN lawang/NN sewu/NN', 'duo/NN pemburu/NN lawang/NN sewu/NN nguber/NN wewe/NN gembel/NN nya/NN pentol/NN bakar/NN hidup/VBI', 'berhenti/VBT sejenak/NN melihat/VBT sudut/NNP pandang/NN berbeda/JJ lawang/NN sewu/NN', 'resa/NN lawang/NN sewu/NN depan/NN mata/NN', 'orang/NN pasti/NN punya/VBT sisi/NN gelap/NN jadi/JJ sok/NN suci/JJ', 'tempat/NN kunjungan/NN semarang/NN lawang/NN sewu/NN hari/NN aku/NN makan/VBT siang/NN dipanggil/VBT teman/NN kejauhan/NN aku/NN menduga/VBT jangan-jangan/NN tawaran/NN', 'suka/VBI hari/NN rabu/NN']\n",
      "\n",
      "[['lantai', 'ada', 'ruangan', 'besar', 'berjendela', 'jadikan', 'tempat', 'olahraga', 'pegawai', 'aula', 'dilengkapi', 'toilet'], ['muter', 'resa', 'lawang', 'sewu', 'de', 'model', 'i', 'love', 'ompong', 'dangdut', 'musiknya'], ['lantai', 'terdapat', 'aula', 'besar', 'gunakan', 'ruang', 'pesta', 'sudut', 'aula', 'pasang', 'wastafel', 'ada', 'kali', 'dibangun'], ['kaca', 'jendela', 'lantai', 'dibuat', 'terbalik', 'menghindari', 'air', 'hujan', 'masuk'], ['berfungsi', 'penjara', 'uap', 'ruang', 'bawah', 'tanah', 'berguna', 'pendingin', 'ruang'], ['malem', 'minggu', 'seneng', 'neng', 'tugu', 'muda', 'lawang', 'sewu', 'simpang', 'seng', 'jomblo', 'neng', 'rumah', 'aja', 'ndak', 'gawe', 'jalan', 'semarang', 'macet'], ['cantik', 'resa', 'lawang', 'sewu', 'new', 'metro', 'live', 'karanganyar', 'demak'], ['sendirian', 'lawang', 'sewu', 'dependency', 'level', 'pas', 'ngasih', 'karcis', 'pintu', 'masuk', 'masanya', 'sendirian', 'mbak', 'iya', 'mas', 'oh', 'ga', 'sedih', 'sih', 'sedih', 'adalah', 'berdiri', 'liat', 'gak', 'ngehalangin', 'posisi', 'gue', 'aja', 'disuruh', 'minggir', 'ama', 'orang', 'foto'], ['nadi', 'pamit', 'merantau', 'doain', 'gak', 'jadi', 'anak', 'nakal', 'lawang', 'sewu'], ['jalan-jalan', 'lawang', 'sewu', 'lawang', 'sewu'], ['duo', 'pemburu', 'lawang', 'sewu', 'nguber', 'wewe', 'gembel', 'nya', 'pentol', 'bakar', 'hidup'], ['berhenti', 'sejenak', 'melihat', 'sudut', 'pandang', 'berbeda', 'lawang', 'sewu'], ['resa', 'lawang', 'sewu', 'depan', 'mata'], ['orang', 'pasti', 'punya', 'sisi', 'gelap', 'jadi', 'sok', 'suci'], ['tempat', 'kunjungan', 'semarang', 'lawang', 'sewu', 'hari', 'aku', 'makan', 'siang', 'dipanggil', 'teman', 'kejauhan', 'aku', 'menduga', 'jangan-jangan', 'tawaran'], ['suka', 'hari', 'rabu']]\n"
     ]
    }
   ],
   "source": [
    "# split document content and function\n",
    "doc_content = []\n",
    "for tweet in doc_classified:\n",
    "    doc_content.append(''.join(tweet['Content']))\n",
    "\n",
    "print(doc_content)\n",
    "print()\n",
    "\n",
    "# split tag and word\n",
    "doc_prepared = []\n",
    "for tweet in doc_content:\n",
    "    tweet_split = tweet.split(' ')\n",
    "    \n",
    "    temp = []\n",
    "    for token in tweet_split:\n",
    "        word = token.split('/', 1)[0]\n",
    "        temp.append(word)\n",
    "    \n",
    "    doc_prepared.append(temp)\n",
    "\n",
    "print(doc_prepared)"
   ]
  },
  {
   "cell_type": "markdown",
   "metadata": {},
   "source": [
    "## LDA"
   ]
  },
  {
   "cell_type": "code",
   "execution_count": 15,
   "metadata": {},
   "outputs": [],
   "source": [
    "# import\n",
    "from lda.ldamodel import LdaModel"
   ]
  },
  {
   "cell_type": "code",
   "execution_count": 16,
   "metadata": {},
   "outputs": [
    {
     "name": "stdout",
     "output_type": "stream",
     "text": [
      "Wall time: 3.46 s\n"
     ]
    }
   ],
   "source": [
    "%%time\n",
    "# iniatialize\n",
    "k = 2\n",
    "alpha = 0.1\n",
    "beta = 0.1\n",
    "iterations = 1000\n",
    "\n",
    "# do process\n",
    "lda = LdaModel(doc_prepared, k, alpha, beta, iterations)"
   ]
  },
  {
   "cell_type": "code",
   "execution_count": 17,
   "metadata": {},
   "outputs": [],
   "source": [
    "result = lda.get_topic_word_pwz(doc_content)\n",
    "\n",
    "df_lda = pd.DataFrame(result, columns=['Topik', 'Kata', 'PWZ'])"
   ]
  },
  {
   "cell_type": "code",
   "execution_count": 18,
   "metadata": {},
   "outputs": [
    {
     "data": {
      "text/html": [
       "<div>\n",
       "<style scoped>\n",
       "    .dataframe tbody tr th:only-of-type {\n",
       "        vertical-align: middle;\n",
       "    }\n",
       "\n",
       "    .dataframe tbody tr th {\n",
       "        vertical-align: top;\n",
       "    }\n",
       "\n",
       "    .dataframe thead th {\n",
       "        text-align: right;\n",
       "    }\n",
       "</style>\n",
       "<table border=\"1\" class=\"dataframe\">\n",
       "  <thead>\n",
       "    <tr style=\"text-align: right;\">\n",
       "      <th></th>\n",
       "      <th>Topik</th>\n",
       "      <th>Kata</th>\n",
       "      <th>PWZ</th>\n",
       "    </tr>\n",
       "  </thead>\n",
       "  <tbody>\n",
       "    <tr>\n",
       "      <th>0</th>\n",
       "      <td>0</td>\n",
       "      <td>sewu/NN</td>\n",
       "      <td>0.100090</td>\n",
       "    </tr>\n",
       "    <tr>\n",
       "      <th>1</th>\n",
       "      <td>0</td>\n",
       "      <td>lawang/NN</td>\n",
       "      <td>0.100090</td>\n",
       "    </tr>\n",
       "    <tr>\n",
       "      <th>2</th>\n",
       "      <td>0</td>\n",
       "      <td>resa/NN</td>\n",
       "      <td>0.027953</td>\n",
       "    </tr>\n",
       "    <tr>\n",
       "      <th>3</th>\n",
       "      <td>0</td>\n",
       "      <td>aja/NN</td>\n",
       "      <td>0.018936</td>\n",
       "    </tr>\n",
       "    <tr>\n",
       "      <th>4</th>\n",
       "      <td>0</td>\n",
       "      <td>semarang/NN</td>\n",
       "      <td>0.018936</td>\n",
       "    </tr>\n",
       "  </tbody>\n",
       "</table>\n",
       "</div>"
      ],
      "text/plain": [
       "   Topik         Kata       PWZ\n",
       "0      0      sewu/NN  0.100090\n",
       "1      0    lawang/NN  0.100090\n",
       "2      0      resa/NN  0.027953\n",
       "3      0       aja/NN  0.018936\n",
       "4      0  semarang/NN  0.018936"
      ]
     },
     "execution_count": 18,
     "metadata": {},
     "output_type": "execute_result"
    }
   ],
   "source": [
    "df_lda.head()"
   ]
  },
  {
   "cell_type": "code",
   "execution_count": 19,
   "metadata": {},
   "outputs": [
    {
     "data": {
      "text/plain": [
       "6.683464897917846"
      ]
     },
     "execution_count": 19,
     "metadata": {},
     "output_type": "execute_result"
    }
   ],
   "source": [
    "lda.perplexity()"
   ]
  },
  {
   "cell_type": "code",
   "execution_count": null,
   "metadata": {},
   "outputs": [],
   "source": []
  }
 ],
 "metadata": {
  "kernelspec": {
   "display_name": "Python 3",
   "language": "python",
   "name": "python3"
  },
  "language_info": {
   "codemirror_mode": {
    "name": "ipython",
    "version": 3
   },
   "file_extension": ".py",
   "mimetype": "text/x-python",
   "name": "python",
   "nbconvert_exporter": "python",
   "pygments_lexer": "ipython3",
   "version": "3.6.1"
  }
 },
 "nbformat": 4,
 "nbformat_minor": 2
}
