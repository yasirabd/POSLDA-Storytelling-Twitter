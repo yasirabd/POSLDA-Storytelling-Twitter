{
 "cells": [
  {
   "cell_type": "markdown",
   "metadata": {
    "collapsed": true
   },
   "source": [
    "# Storytelling Twitter with POSLDA\n",
    "\n",
    "**Author: Yasir Abdurrahman**"
   ]
  },
  {
   "cell_type": "markdown",
   "metadata": {},
   "source": [
    "# Background Information\n",
    "**Twitter** merupakan salah satu sosial media yang populer digunakan masyarakat Indonesia. Terbatasnya jumlah karakter *tweet* sebanyak 144 karakter, tidak menjadikan nilai informasi sebuah *tweet* berkurang. Hal ini dibuktikan dengan masuknya *trending topic* tagar **#PilkadaDKI** saat pemilihan gubernur bulan April 2017 kemarin seperti pada berita [CNN](https://www.cnnindonesia.com/teknologi/20170419143713-192-208647/tagar-quick-count-dan-pilkada-dki-kuasai-twitter/). Menilik ke belakang tahun 2014, saat Pemilihan Umum Legislatif (Pemilu) taggar **#IndonesiaElectionDay** juga masuk sebagai *trending topic* pada berita [Liputan6](http://tekno.liputan6.com/read/2034443/hashtag-bertema-pemilu-dominasi-trending-topic-twitter). \n",
    "\n",
    "Sebuah informasi sangatlah bernilai bagi jurnalis dalam membuat sebuah berita. Pengumpulan informasi dari Twitter masih terbatas berdasarkan *trending topic*, padahal masih banyak informasi yang dapat dimanfaatkan. Pengumpulan *tweet* berdasarkan radius lokasi, kemudian dikelompokkan berdasarkan topik tertentu, dan selanjutnya disusun menjadi sebuah *storytelling* dari kumpulan *tweet* yang memiliki topik yang sama akan menjadi bahan baru bagi para jurnalis."
   ]
  },
  {
   "cell_type": "markdown",
   "metadata": {},
   "source": [
    "# Questions for Investigation\n",
    "1. Bagaimana kesesuaian hasil dalam bentuk *storytelling* pada topik yang sama?\n",
    "2. Topik apakah yang paling sering dibicarakan di Twitter?"
   ]
  },
  {
   "cell_type": "markdown",
   "metadata": {},
   "source": [
    "# Dataset\n",
    "Dataset yang digunakan berupa 1000 *tweets* hasil *crawling* sendiri. Berikut adalah struktur dataset yang digunakan:\n",
    "```\n",
    "id_user      : id user\n",
    "username     : username pengguna twitter\n",
    "created_at   : tanggal dan waktu dibuatnya tweet\n",
    "latitude     : latitude\n",
    "longitude    : longitude\n",
    "text         : tweet\n",
    "```\n",
    "Dataset ditempatkan pada file dengan format *.csv*"
   ]
  },
  {
   "cell_type": "markdown",
   "metadata": {
    "collapsed": true
   },
   "source": [
    "# Crawling\n",
    "#### Proses crawling\n",
    "1. Menggunakan library dari python yaitu twitter, dilakukan crawling berdasarkan radius dari koordinat latitude dan longtitude\n",
    "2. Data crawling meliputi atribut <b>id_user, username, created_at, latitude, longitude, text</b>\n",
    "3. Hasil crawling disimpan pada file bertipe .csv"
   ]
  },
  {
   "cell_type": "code",
   "execution_count": null,
   "metadata": {
    "collapsed": true
   },
   "outputs": [],
   "source": [
    "import tweepy\n",
    "import time\n",
    "import sys\n",
    "import csv\n",
    "\n",
    "latitude = -7.059035     # geographical centre of search\n",
    "longitude = 110.443972   # geographical centre of search\n",
    "max_range = 10            # search range in kilometres\n",
    "outfile = \"tweets14.csv\"\n",
    "\n",
    "consumer_key = 'w6LdCwZHkdrIaNgxvuhZziSYe'\n",
    "consumer_secret = 'Y4guQcTeCwpXJ8UhYyYzCbazxTgHZqYLpN0maNJThXXCEfrMwz'\n",
    "access_token = '477563933-CIawAP0XgC8tjjXcRYmKaf4p0w2OqFAG4duYCqsL'\n",
    "access_secret = 'iZIjf2p4QaNyRE7wcibb1vNpIK2JntSRfrruoYRBMs6AS'"
   ]
  },
  {
   "cell_type": "code",
   "execution_count": null,
   "metadata": {
    "collapsed": true
   },
   "outputs": [],
   "source": [
    "auth = tweepy.OAuthHandler(consumer_key, consumer_secret)\n",
    "auth.set_access_token(access_token, access_secret)\n",
    "\n",
    "api = tweepy.API(auth)"
   ]
  },
  {
   "cell_type": "code",
   "execution_count": null,
   "metadata": {
    "collapsed": true
   },
   "outputs": [],
   "source": [
    "csvfile = open(outfile, \"w\", newline='', encoding='utf-8')\n",
    "csvwriter = csv.writer(csvfile)\n",
    "\n",
    "row = [ \"id_user\", \"username\", \"created_at\", \"latitude\", \"longitude\", \"text\" ]\n",
    "csvwriter.writerow(row)"
   ]
  },
  {
   "cell_type": "code",
   "execution_count": null,
   "metadata": {
    "collapsed": true
   },
   "outputs": [],
   "source": [
    "result_count = 0\n",
    "start_time = time.clock()\n",
    "\n",
    "while result_count < 10000:\n",
    "    c = tweepy.Cursor(api.search,\n",
    "                      q=\"*\",\n",
    "                      count=10000,\n",
    "                      geocode = \"%f,%f,%dkm\" % (latitude, longitude, max_range)).items(10000)\n",
    "    while True:\n",
    "        try:\n",
    "            tweet = c.next()\n",
    "            if tweet.geo:\n",
    "                csvwriter.writerow([tweet.user.id, tweet.user.screen_name, tweet.created_at, \n",
    "                                    tweet.geo['coordinates'][0], tweet.geo['coordinates'][1], tweet.text])\n",
    "                result_count += 1\n",
    "                print (\"got %d results\" % result_count)\n",
    "            else:\n",
    "                csvwriter.writerow([tweet.user.id, tweet.user.screen_name, tweet.created_at, \n",
    "                                    None, None, tweet.text])\n",
    "                result_count += 1\n",
    "                print (\"got %d results\" % result_count)\n",
    "\n",
    "        except tweepy.TweepError:\n",
    "            print(\"sleeping\")\n",
    "            time.sleep(15 * 60)\n",
    "            continue\n",
    "        except StopIteration:\n",
    "            break\n",
    "csvfile.close()\n",
    "print(time.clock() - start_time, \"seconds\")"
   ]
  },
  {
   "cell_type": "markdown",
   "metadata": {},
   "source": [
    "# Preprocessing\n",
    "Hal yang dilakukan:\n",
    "1. Common Preprocessing\n",
    "    1. Removing symbols, ASCII strings, punctuations.\n",
    "    2. Tokenization\n",
    "    3. Case folding, convert into lowercase\n",
    "    4. Repeated dot (sedih... -> sedih.)\n",
    "    5. Repeated character ('hehe :)))' -> 'hehe :)')\n",
    "    6. Remove elipsis (lanjut baca... -> lanjut baca)\n",
    "    7. Repeated word that has meaning ('malam malam' -> 'malam-malam')\n",
    "    8. Remove newline\n",
    "2. Specific Preprocessing\n",
    "    1. Special symbols on Twitter, removing hashtag and mention\n",
    "    2. Remove all emoticons\n",
    "    3. Remove URL\n",
    "    4. Spell checker using Jaro Winkler"
   ]
  },
  {
   "cell_type": "code",
   "execution_count": 14,
   "metadata": {
    "collapsed": true
   },
   "outputs": [],
   "source": [
    "import pandas as pd"
   ]
  },
  {
   "cell_type": "code",
   "execution_count": 15,
   "metadata": {},
   "outputs": [
    {
     "data": {
      "text/plain": [
       "(500, 6)"
      ]
     },
     "execution_count": 15,
     "metadata": {},
     "output_type": "execute_result"
    }
   ],
   "source": [
    "df_tweets = pd.read_csv('tweets12.csv')\n",
    "df_tweets.shape"
   ]
  },
  {
   "cell_type": "code",
   "execution_count": 16,
   "metadata": {},
   "outputs": [
    {
     "data": {
      "text/html": [
       "<div>\n",
       "<style>\n",
       "    .dataframe thead tr:only-child th {\n",
       "        text-align: right;\n",
       "    }\n",
       "\n",
       "    .dataframe thead th {\n",
       "        text-align: left;\n",
       "    }\n",
       "\n",
       "    .dataframe tbody tr th {\n",
       "        vertical-align: top;\n",
       "    }\n",
       "</style>\n",
       "<table border=\"1\" class=\"dataframe\">\n",
       "  <thead>\n",
       "    <tr style=\"text-align: right;\">\n",
       "      <th></th>\n",
       "      <th>id_user</th>\n",
       "      <th>username</th>\n",
       "      <th>created_at</th>\n",
       "      <th>latitude</th>\n",
       "      <th>longitude</th>\n",
       "      <th>text</th>\n",
       "    </tr>\n",
       "  </thead>\n",
       "  <tbody>\n",
       "    <tr>\n",
       "      <th>0</th>\n",
       "      <td>2313451298</td>\n",
       "      <td>dikyock</td>\n",
       "      <td>2018-01-24 04:49:23</td>\n",
       "      <td>NaN</td>\n",
       "      <td>NaN</td>\n",
       "      <td>@rossonerifreak Masih kurang \\nButuh winger ta...</td>\n",
       "    </tr>\n",
       "    <tr>\n",
       "      <th>1</th>\n",
       "      <td>245873655</td>\n",
       "      <td>phee_nophee</td>\n",
       "      <td>2018-01-24 04:49:21</td>\n",
       "      <td>NaN</td>\n",
       "      <td>NaN</td>\n",
       "      <td>Apa yang Akan Berubah Untukmu Tahun Ini? https...</td>\n",
       "    </tr>\n",
       "    <tr>\n",
       "      <th>2</th>\n",
       "      <td>955268887406264321</td>\n",
       "      <td>FahrulAditya16</td>\n",
       "      <td>2018-01-24 04:49:21</td>\n",
       "      <td>NaN</td>\n",
       "      <td>NaN</td>\n",
       "      <td>RT @Pesona_STW: Support by (˛`̯´̯)-☞\\n@Copasaj...</td>\n",
       "    </tr>\n",
       "    <tr>\n",
       "      <th>3</th>\n",
       "      <td>791650560961241088</td>\n",
       "      <td>isarndr88</td>\n",
       "      <td>2018-01-24 04:49:10</td>\n",
       "      <td>NaN</td>\n",
       "      <td>NaN</td>\n",
       "      <td>Apakah IPK penting?</td>\n",
       "    </tr>\n",
       "    <tr>\n",
       "      <th>4</th>\n",
       "      <td>2395660873</td>\n",
       "      <td>Lukman_Prayogoo</td>\n",
       "      <td>2018-01-24 04:49:09</td>\n",
       "      <td>NaN</td>\n",
       "      <td>NaN</td>\n",
       "      <td>https://t.co/YLyXSx3EVh</td>\n",
       "    </tr>\n",
       "  </tbody>\n",
       "</table>\n",
       "</div>"
      ],
      "text/plain": [
       "              id_user         username           created_at  latitude  \\\n",
       "0          2313451298          dikyock  2018-01-24 04:49:23       NaN   \n",
       "1           245873655      phee_nophee  2018-01-24 04:49:21       NaN   \n",
       "2  955268887406264321   FahrulAditya16  2018-01-24 04:49:21       NaN   \n",
       "3  791650560961241088        isarndr88  2018-01-24 04:49:10       NaN   \n",
       "4          2395660873  Lukman_Prayogoo  2018-01-24 04:49:09       NaN   \n",
       "\n",
       "   longitude                                               text  \n",
       "0        NaN  @rossonerifreak Masih kurang \\nButuh winger ta...  \n",
       "1        NaN  Apa yang Akan Berubah Untukmu Tahun Ini? https...  \n",
       "2        NaN  RT @Pesona_STW: Support by (˛`̯´̯)-☞\\n@Copasaj...  \n",
       "3        NaN                                Apakah IPK penting?  \n",
       "4        NaN                            https://t.co/YLyXSx3EVh  "
      ]
     },
     "execution_count": 16,
     "metadata": {},
     "output_type": "execute_result"
    }
   ],
   "source": [
    "df_tweets.head()"
   ]
  },
  {
   "cell_type": "code",
   "execution_count": 17,
   "metadata": {},
   "outputs": [],
   "source": [
    "from modulenorm.normalize import Normalize\n",
    "from modulenorm.tokenize import Tokenize"
   ]
  },
  {
   "cell_type": "code",
   "execution_count": 18,
   "metadata": {},
   "outputs": [],
   "source": [
    "idx = 0\n",
    "df_tweets['normalize'] = None\n",
    "result = []\n",
    "for row in df_tweets['text']:\n",
    "    # normalize\n",
    "    norm = Normalize()\n",
    "    text_norm = norm.remove_ascii(row)\n",
    "    text_norm = norm.lower_text(text_norm)\n",
    "    text_norm = norm.repeat_char_modify(text_norm)\n",
    "    text_norm = norm.remove_elipsis(text_norm)\n",
    "    text_norm = norm.remove_newline(text_norm)\n",
    "    text_norm = norm.remove_url(text_norm)\n",
    "#     text_norm = norm.remove_emoticons(text_norm)\n",
    "    text_norm = norm.remove_hashtags_mentions(text_norm)\n",
    "    \n",
    "    tok = Tokenize()\n",
    "    text_norm = tok.WordTokenize(text_norm)\n",
    "    result.append(text_norm)\n",
    "    \n",
    "    text_norm = ' '.join(text_norm)\n",
    "#     df_tweets['normalize'][idx] = text_norm\n",
    "    idx += 1"
   ]
  },
  {
   "cell_type": "code",
   "execution_count": 19,
   "metadata": {},
   "outputs": [
    {
     "name": "stdout",
     "output_type": "stream",
     "text": [
      "['masih', 'kurang', 'butuh', 'winger', 'tajam', 'skil', 'hebat', 'untuk', 'menusuk', 'pertahanan', 'lawan', 'butuh', 'stiker', 'tajam', 'ump']\n",
      "['apa', 'yang', 'akan', 'berubah', 'untukmu', 'tahun', 'ini']\n",
      "['rt', 'stw', 'support', 'by']\n",
      "['apakah', 'ipk', 'penting']\n",
      "['']\n",
      "['rt', '1', 'stand', 'boom', 'pearl', '650', '000', '2', 'stand', 'boom', 'tama', '650', '000', '3', 'meinl', 'classics', 'custom', 'extreme', 'metal', 'china', '16', '1', '200', '000', '4']\n",
      "['o8']\n",
      "['rt', 'tindakannya', 'misal', 'bagi', 'petani', 'kendeng', 'dan', 'kulonprogo', 'retorika', 'tidaklah', 'cukup']\n",
      "['ini', 'jujur', 'mbak', 'e', 'jujur', 'kacang', 'hejo']\n",
      "['current', 'weather', 'in', 'semarang', 'broken', 'clouds', '27c', '80', 'humidity', 'wind', '4kmh', 'pressure', '970mb']\n",
      "['']\n",
      "['wah', 'teknik', 'nih']\n",
      "['oke', 'pulang', 'lebaran']\n",
      "['o7']\n",
      "['rt', 'gempa', 'jangan', 'dibecandain']\n",
      "['astagfirullah', 'ini', 'clickbait', 'yg', 'membangun']\n",
      "['yes', 'some', 'chapters', 'have', 'no', 'discretion', 'anymore', 'they', 'be', 'telling', 'the', 'whole', 'line', 'before', 'the', 'probate']\n",
      "['acho', 'que', 'a', 'gente', 'daria', 'um', 'belo', 'de', 'um', 'casal', 'em', 'eu', 'que', 'no', 'vou', 'discordar', 'chama', 'l', 'vamos', 'conversaar']\n",
      "['miras', 'gampang', 'banget', 'di', 'vietnam', 'dijual', 'bebas']\n",
      "['o6']\n",
      "['']\n",
      "['selamat', 'berlibur', 'kawan', 'kawan', 'semua', 'happy', 'holiday']\n",
      "['mudah', 'mudahan', 'rumah', 'loe', 'ambruk', 'bersama', 'anak', 'istri', 'loe', 'bro']\n",
      "['miras', 'vietnam', 'cem2annya', 'ular', 'anak', 'tikus', 'dll']\n",
      "['o5']\n",
      "['rt', 'toetik']\n",
      "['mau', 'tau', 'bagaimana', 'membantu', 'saya', 'mewujudkan', 'resolusi', 'tahun', 'ini', 'baca', 'di', 'sini', 'ya']\n",
      "['rutinan', 'malam', 'kamis', 'majelis', 'ta', 'lim', 'amp', 'sholawat', 'ahbaabul', 'musthofa', 'pusat', 'hari', 'tgl', 'rabu', '24']\n",
      "['seorang', 'pengusaha', 'fokus', 'pada', 'wealth', 'style', 'not', 'life', 'style', 'pengusaha', 'info', 'hal', '24']\n",
      "['lawan', 'mu', 'ps', 'tni', 'siap', 'perbaiki', 'penyelesaian', 'akhir', 'ps', 'tni', 'menghadapi', 'madura', 'unite']\n",
      "['o4']\n",
      "['rt', '77', 'mamamintamantu', 'cari', 'yg', 'kek', 'gimana', 'mah', 'pokoknya', 'yg', 'ngga', 'mainan', 'hp', 'kalo', 'hp', 'lagi', 'dicharger', 'ngga', 'usah', 'punya', 'm']\n",
      "['rt', 'toetik']\n",
      "['rapimtas', 'sbrd', 'jakarta', 'barat', 'membahas', 'tentang', 'rencana', 'kerja', 'dan', 'pencapaian', 'target', 'di', 'suban', 'jakarta', 'barat', 'tahun', '2018']\n",
      "['jika', 'mengurus', 'dewan', 'tak', 'lagi', 'bisa', 'bekerja', 'dengan', 'baik', 'maka', 'ini', 'tragedi', 'nasional', 'yang', 'memalukan', 'begitu', 'kira', 'kira']\n",
      "['rt', 'ter']\n",
      "['kaakk', 'posisi', 'molenya', 'sm', 'persis']\n",
      "['apapun', 'yang', 'di', 'lakukan', 'hari', 'ini', 'andalkan', 'tuhan', 'dalam', 'segala', 'perkara']\n",
      "['butuh', 'obataborsi', 'obattelatbulan', 'obattelathaid', 'obatterlambatbulan', 'ready', 'stock', '0812', '7526', '6484', 'bisa', 'cod', 'semarang']\n",
      "['rt', 'in', 'service', 'trainning', 'ist', 'ta', 'psd', 'se', 'prov', 'lampung', 'ttg', 'validasi', 'sipede', 'provlampung', 'manfaatdanadesa']\n",
      "['rt', 'expokudus', 'sisa', '1slot', 'expojepara', 'expotegal', 'msh', 'ada', 'slot', 'rate', 'promo', 'dear', 'bntu', 'kesayangan', 'angelsfiles']\n",
      "['siapkan', 'pernikahan', 'jeje', 'govinda', 'dan', 'syahnaz', 'sadiqah', 'sering', 'ribut', 'kabar', 'berita', 'artikel', 'amp', 'hot', 'gossip']\n",
      "['rt', 'toetik']\n",
      "['']\n",
      "['pemotor', 'tabrak', 'truk', 'pengangkut', 'pasir']\n",
      "['seven', 'knights', 'castle', 'rush', 'rachell', 'hell', '4', '5m', 'ft', 'revamped', 'rachel', 'melalui']\n",
      "['rt', 'toetik']\n",
      "['udah', 'dapat', 'tapi', 'belum', 'di', 'upgrade', 'ip5s']\n",
      "['jgn', 'sampai', 'lupa', 'dg', 'yang', 'namanya', 'rokok']\n",
      "['ft', 'frogs', 'tv', 'tshirt', 'original', 'frogstone']\n",
      "['atms', 'dispense', '50', 'bills', 'and', 'college', 'campus', 'atms', 'dispense', '10', 'bills', 'so']\n",
      "['rt', 'rt', 'antonio', 'drills', 'italo', 's', 'ass', 'gang']\n",
      "['ketika', 'mantan', 'tiba2', 'ngechat', 'lo', 'lo', 'bls', 'atau', 'diemin', 'ata', 'jahat', 'banget', 'diblock', 'wkwkwk', 'dibales', 'lah', 'tapi', 'jangan', 'ke']\n",
      "['rt', 'toetik']\n",
      "['rt', 'toetik']\n",
      "['o3']\n",
      "['rt', 'pada', 'dasarnya', 'manusia', 'itu', 'takut', 'mati']\n",
      "['rt', 'wts', 'new', 'shock', 'brand', 'lokal', '50k', 'fnfjb', 'fixed']\n",
      "['ready', 'stock', 'kaos', 'ac', 'milan', 'gold', 'size', 'm', 'xl', 'harga', '80k', 'hub', '085726803784']\n",
      "['rt', 'masih', 'pagi', 'tapi', 'netijen', 'sudah', 'demikian', 'nganu']\n",
      "['ong', 'sm', 'hyuk', 'itu', 'kan', 'sm', 'sm', 'jaho', 'ngaluss', 'parahh', 'bias', 'kak', 'anggi', 'setipe', 'smua', 'jgn2', 'bentar', 'lahi', 's']\n",
      "['rt', 'seberapa', 'luas', 'langit', 'biru', 'yang', 'membentang', 'di', 'tempat', 'ini', 'side', 'c', 'with', 'my', 'belove', 'naughty', 'brondong']\n",
      "['jadi', 'shiro', 'ada', 'dua', 'versi', 'nih']\n",
      "['tetangga', 'ku', 'pacaran', 'sama', 'juragan', 'kontrakkan', 'mokondo', 'modal', 'kontrakkan', 'doang']\n",
      "['wts', 'new', 'shock', 'brand', 'lokal', '50k', 'fnfjb', 'fixed']\n",
      "['ciee', 'yang', 'udah', 'gak', 'kuat', 'lagi', 'temenan', 'pengen', 'banget', 'jadian', 'ciee', 'cieekampret']\n",
      "['rt', 'toetik']\n",
      "['ikutan', 'cooking', 'and', 'decorating', 'class', 'dari', 'mokko', 'factory', 'yuk', 'kalian', 'bisa', 'belajar', 'langsung', 'cara', 'pembuatan', 'donut', 'di']\n",
      "['rt', 'gs', 'salah', 'satu', 'berkah', 'terbesar', 'yang', 'dianugerahkan', 'pada', 'seseorang', 'ialah', 'ketika', 'kepadanya', 'tetap', 'diberikan', 'kewajaran']\n",
      "['o2']\n",
      "['rt', 'light88']\n",
      "['rt', 'pra', 'musrenbang', 'kel', 'utan', 'panjang', 'dihadiri', 'oleh', 'camat', 'kemayoran', 'kasubag', 'perencanaan', 'satpel', 'satker', 'ka', 'puskesmas', 'kelurahan']\n",
      "['0307']\n",
      "['rt', 'grobogan', 'mengenal', 'bencana', 'sejak', 'dini', 'beersama', '51', 'siswa', 'guru', 'amp', 'wali', 'murid', 'kelompok', 'bermain', 'amanah', 'desa', 'candisari', 'kecamatan', 'htt']\n",
      "['hari', 'ini', 'agenda', 'ke', 'petani', 'kopi', 'jalur', 'pertama', 'lewat', 'kecamatan', 'pagentan', 'sampai', 'didepan']\n",
      "['support', 'by']\n",
      "['hmm']\n",
      "['']\n",
      "['ka', 'uppli', 'hadiri', 'acara', 'desain', 'besar', 'jakarta', 'menuju', 'kota', 'layak', 'anak']\n",
      "['rt', 'prabw', 'selamat', 'ulang', 'tahun', 'sehat', 'selalu', 'dan', 'panjang', 'umur']\n",
      "['rt', 'udah', 'bubarkan', 'saja', 'front', 'pengacau', 'indonesia', 'mereka', 'gak', 'ada', 'guna']\n",
      "['puja', 'dewa', 'puja', 'dewa', 'puja', 'dewa', 'yang', 'selalu', 'maha', 'benar']\n",
      "['nah', 'maybe', 'chat', 'e', 'jarang', 'di', 'bls']\n",
      "['o1']\n",
      "['rt', 'duh', 'dek', 'pelaku', 'pembunuhan', 'driver', 'taksi', 'online', 'ternyata', 'pelajar', 'smk']\n",
      "['rt', 'yakin', 'masih', 'mau', 'nyakitin', 'aku']\n",
      "['']\n",
      "['ya', 'kalik', 'aku', 'harus', 'membereskan', 'tiap', 'kerjaan', 'nya', 'yg', 'gak', 'beres', 'semua']\n",
      "['1', 'makassar', '2', 'bogor', '3', 'beruang', 'nyam', 'nyam', 'jajanan', 'enak', 'dan', 'disukai', 'anak']\n",
      "['kebahagiaan', 'sejati', 'bukan', 'bergantung', 'pada', 'keadaan', 'yg', 'terjadi', 'pada', 'diri', 'kita', 'saat', 'ini', 'tapi', 'berada', 'di', 'dalam', 'hati']\n",
      "['rt', 'toetik']\n",
      "['barangkali', 'ada', 'yang', 'berniat', 'membantu', 'terimakasih']\n",
      "['the', 'turks']\n",
      "['gala', 'kehormatan', 'yg', 'diberikan', 'utk', 'org', 'yg', 'berjasa', 'utk', 'ranahminang', 'ini']\n",
      "['mudahkan', 'jangan', 'dipersulit']\n",
      "['rt', 'katakan', 'ssungguhnya', 'tdk', 'ada', 'seorg', 'pun', 'yg', 'dpt', 'melindungiku', 'dr', 'azab', 'allah', 'amp', 'aku', 'tdk', 'akan', 'mmperoleh', 'tempat', 'berlindung', 'selai']\n",
      "['rt', 'smg', 'pembahasan', 'rancangan', 'business', 'plan', 'pengem', 'industri', 'perik', 'tangkap', 'bbpi', 'semarang']\n",
      "['bismillahirrahmaanirrahiim', 'kirim', '25', 'dus', 'semoga', 'tambah', 'josssss']\n",
      "['ready', 'to', 'go', 'business', 'on', 'the', 'next', 'two', 'days']\n",
      "['heartsdiary', 'dalam', 'kesendirianku', 'bayangan', 'dirimu', 'masih', 'selalu', 'datang', 'menghampiri', 'memelukku', 'dan', 'menguatkanku']\n",
      "['ngekek', 'aku']\n",
      "['and', 'now']\n",
      "['rt', 'gempa', 'jangan', 'dibecandain']\n",
      "['was', 'in', 'sf', 'watching', 'this', 'game', 'classic']\n",
      "['jangan', 'gini', 'nanti', 'pnykit', 'bucin', 'saya', 'ke', 'ong', 'makin', 'menjadi', 'jadi']\n",
      "['studi', 'studi', 'sebelumnya', 'memperlihatkan', 'hasil', 'hasil', 'yang', 'berbeda', 'dan', 'juga', 'bertentangan']\n",
      "['dalam', 'rangka', 'harlah', 'nu', 'ke', '92', 'tahun', 'mari', 'kita', 'bangun', 'ukhuwah']\n",
      "['burem2', 'gt', 'tp', 'yha']\n",
      "['entah', 'nunggu', 'sampai', 'kapan']\n",
      "['tulungin', 'aku', 'milih', 'foto', 'buat', 'di', 'posting', 'dum', 'wq']\n",
      "['yo', 'kui', 'twite', 'avatarmu']\n",
      "['rt', 'toetik']\n",
      "['rt', 'stw', 'support', 'by']\n",
      "['rt', 'toetik']\n",
      "['irawan', 'santana', 'pepo', 'pendiri', 'kerajaan', 'hambalang']\n",
      "['rt', 'stw', 'support', 'by']\n",
      "['umr', 'akan', 'selalu', 'kurang', 'di', 'setiap', 'harinya', 'untuk', 'itu', 'haruslah', 'bersyukur', 'saat', 'masih', 'diberi', 'nikmat', 'yang', 'melimpah', 'ini', '24jan2k18']\n",
      "['rt', 'kudus']\n",
      "['rt', 'semarang']\n",
      "['denganmu', 'aku', 'bahagia', 'hidupku', 'di', 'penuhi', 'warna', 'namun', 'jika', 'kamu', 'tinggalkan', 'aku', 'mungkin', 'yang', 'terisa', 'hanya', 'derita', 'yang', 'hanya', 'akan', 'mencabik', 'jiwa']\n",
      "['yaa', 'ampunn', 'kaak', 'samaa', 'berarti', 'ong', 'juga', 'gitu', 'tuh', 'sm', 'kaya', 'hyukjae']\n",
      "['rt', 'stw', 'support', 'by']\n",
      "['rt', 'stw', 'support', 'by']\n",
      "['rt', 'stw', 'support', 'by']\n",
      "['ee', '044', '279', '425', 'my']\n",
      "['rt', 'giat', 'wajib', 'retribusi', 'wr', 'ipeka', 'school', 'kel', 'meruya', 'utara', 'rabu', '24', '01', '2018']\n",
      "['ready', 'stock', 'kaos', 'arsenal', 'gold', 'size', 'm', 'xl', 'harga', '80k', 'hub', '085726803784']\n",
      "['pra', 'musrenbang', 'kel', 'utan', 'panjang', 'dihadiri', 'oleh', 'camat', 'kemayoran', 'kasubag', 'perencanaan', 'satpel', 'satker', 'ka', 'puskesmas', 'k']\n",
      "['rt', 'wts', 'new', 'thor', 'glove', 'size', 'm', 'l', 'xl', 'flux', 'ripple', 'pant', 'glove', '250k', 'fnfjb', 'fixed']\n",
      "['rt', 'toetik']\n",
      "['rt', 'bontot', 'mari', 'kita', 'mancing']\n",
      "['rt', 'toetik']\n",
      "['rt', 'bye', 'felicia', 'because', 'they', 'don', 't', 'know', 'who', 'felicia', 'is']\n",
      "['no', 'i', 'do', 'not', 'reclaim', 'the', 'n', 'word', 'i', 'don', 't', 'like', 'it']\n",
      "['simpang', 'lima', 'semarang']\n",
      "['identify', 'your', 'passion']\n",
      "['rt', 'fade', 'maunyaku', 'jadi', 'penyempurna', 'agamamu', 'bukan', 'separuh', 'nyawamu', 'atau', 'separuh', 'hatimu', 'heuheu']\n",
      "['terluka', 'dan', 'memafkan', 'merupakan', 'bagian', 'dari', 'cinta', 'itu', 'karena', 'cinta', 'yang', 'tulus', 'akan', 'ada', 'kata', 'maaf', 'untuknya']\n",
      "['proyek', 'perubahan', 'proper', 'diklat', 'pim', 'iv', 'rustamaji', 'tahun', '2017', 'grobogan', 'via']\n",
      "['rt', 'grobogan', 'mengenal', 'bencana', 'sejak', 'dini', 'beersama', '51', 'siswa', 'guru', 'amp', 'wali', 'murid', 'kelompok', 'bermain', 'amanah', 'desa', 'candisari', 'kecamatan', 'htt']\n",
      "['ketika', 'anda', 'dilempar', 'batu', 'oleh', 'seseorang', 'janganlah', 'melempar', 'balik', 'kepadanya', 'balaslah', 'dengan', 'senyuman', 'dan', 'lempar', 'b']\n",
      "['o', 'que', 'mais', 'te', 'chama', 'ateno', 'numa', 'mina', 'a', 'personalidade', 'obviamente', 'o', 'mais', 'importante', 'hahaha', 'mas', 'sou', 'apaixonado']\n",
      "['dua', 'remaja', 'tewas', 'dan', '17', 'cedera', 'dalam', 'penembakan', 'sekolah', 'di', 'kentucky']\n",
      "['the', 'n', 'word']\n",
      "['tata', 'cara', 'sholat', 'aja']\n",
      "['rt', 'toetik']\n",
      "['rt', 'berusahalah', 'semampumu', 'urusan', 'hasil', 'serahkan', 'semua', 'itu', 'pada', 'tuhanmu']\n",
      "['jual', 'pembalut', 'airiz', 'di', 'semarang', 'wa', '081253099088', 'viera', 'pembalutsemarang']\n",
      "['weed']\n",
      "['bye', 'felicia', 'because', 'they', 'don', 't', 'know', 'who', 'felicia', 'is']\n",
      "['wts', 'new', 'thor', 'glove', 'size', 'm', 'l', 'xl', 'flux', 'ripple', 'pant', 'glove', '250k', 'fnfjb', 'fixed']\n",
      "['kok', 'asu', 'ya']\n",
      "['rt', 'toetik']\n",
      "['rt', 'toetik']\n",
      "['glad', 'you', 'could', 'too', 'shit', 'rare']\n",
      "['rt', 'julio', 'spontan', 'a', 'nada', 'sedih', 'em', 'do', 'c']\n",
      "['pasti', 'adminnya', 'bukan', 'sama']\n",
      "['']\n",
      "['foto', 'honda', 'hr', 'v', 'facelift', 'beredar']\n",
      "['do', 'disrespeck', 'but', 'kyle', 'korver', 'was', 'an', 'allstar', 'before', 'fuck', 'winning', 'when', 'it', 'comes', 'to', 'the', 'allstar', 'game', 'bruh', 'they', 'don']\n",
      "['aint', 'got', 'the', 'sense', 'god', 'gave', 'him']\n",
      "['rt', 'toetik']\n",
      "['belum', 'rekam', 'e', 'ktp', 'ribuan', 'warga', 'penajam', 'terancam', 'hilang', 'hak', 'suara']\n",
      "['selamat', 'berlibur', 'biar', 'refresh', 'yuk', 'liat', 'video', 'ini']\n",
      "['lmaoooo']\n",
      "['good', 'luck', 'joseph', 'gbu', 'eaaa']\n",
      "['lb', '0', 'org', 'nihil', 'lr', '37', 'org', 'tbs', 'smg', '2', 'bms', 'bna', '2', 'pkl', 'kota', '3', 'tgl', 'kota', '4', 'tgl', 'kdl', 'dmk', '7', 'pati', '2', 'gr']\n",
      "['proyek', 'perubahan', 'proper', 'diklat', 'pim', 'iv', 'rustamaji', 'tahun', '2017', 'grobogan', 'lewat']\n",
      "['kejadian', 'laka', 'lantas', 'yg', 'dilaporkan', 'satwil', 'jajaran', 'polda', 'jateng', '1', 'x', '24', 'jam', 'selasa', '23', 'januari', '2018', 'sbb', 'jml', 'kej']\n",
      "['rt', 'toetik']\n",
      "['comment', 'ry']\n",
      "['giat', 'wajib', 'retribusi', 'wr', 'ipeka', 'school', 'kel', 'meruya', 'utara', 'rabu', '24', '01', '2018']\n",
      "['sandwich']\n",
      "['event', 'apa', 'saja', 'yang', 'paling', 'dinantikan', 'di', 'tahun', '2018']\n",
      "['kamu', 'memiliki', 'dua', 'bahu', 'sedangkan', 'aku', 'hanya', 'mempunyai', 'satu', 'kepala', 'dapatkah', 'kamu', 'janjikan', 'bahwa', 'hanya', 'kepalaku', 'yan']\n",
      "['soda']\n",
      "['ini', 'daftar', 'pemenang', 'gebyar', 'undian', '2017', 'dari', 'jaya', 'metro', 'semarang']\n",
      "['australian']\n",
      "['kenedy', 'dilepas', 'ini', 'kata', 'conte', 'soal', 'penggantinya']\n",
      "['rt', 'ahh', 'bapak', 'jokowi', 'nggak', 'canggih', 'ah', 'masa', 'dr', 'tukang', 'meubel', 'ampe', 'presiden', 'kerjaanya', 'pencitraan', 'move', 'on', 'dong', 'pak', 'jgn', 'bi']\n",
      "['saya', 'suka', 'video', 'future', 'nature', 'feat', 'evan', 'smith', 'boo', 'johnson', 'madars', 'apse', 'hd']\n",
      "['ya', 'itu', 'lah', 'manusia', 'berdoa', 'aja', 'di', 'sosmed', 'nnti', 'pas', 'masuk', 'surga', 'kena', 'blokir']\n",
      "['caribbean', 'ones', 'such', 'as', 'jamaican']\n",
      "['the', 'gotta', 'quit', 'that', 'rewarding', 'winning', 'for', 'the', 'asg', 'that', 's', 'what', 'the', 'playoffs', 'r', 'for']\n",
      "['who', 'you', 'telling', 'just', 'got', 'the', 'biggest', 'one', 'of', 'today']\n",
      "['rt', 'jateng', 'jateng', 'dan', 'lo', 'bapaslon', 'gubernur', 'dan', 'wakil', 'gubernur', 'bahas', 'materi', 'alat', 'peraga', 'kampanye', 'dan', 'bahan', 'kampanye', 'dalam', 'rangka']\n",
      "['rt', 'survey', 'lokasi', 'yang', 'diusulkan', 'pada', 'rembuk', 'rw', '01', 'kel', 'kwitang', 'survey', 'dilakukan', 'bersama', 'ketua', 'rw', 'lmak', 'dan', 'para', 'ketua', 'rt', 'sela']\n",
      "['yes']\n",
      "['thinker666', 'w', 'itsme9', 'marbun', 'm76']\n",
      "['ketika', 'mau', 'pinjem', 'uang', 'temen', 'lu', 'malah', 'uangnya', 'dia', 'tinggal', 'segini', 'sengsara', 'level', 'vincent', 'van', 'gogh']\n",
      "['rt', 'peringkat', 'pada', 'berubah', 'why', 'saya', 'masih', 'stay', 'di', 'no', '3', 'iheartawards', 'bestfanarmy', 'btsarmy', 'twt']\n",
      "['rt', 'toetik']\n",
      "['barrettes']\n",
      "['hal', 'bodoh', 'pling', 'prnh', 'ak', 'lakuin', 'adlh', 'beli', 'uang', 'mainan', 'pkai', 'uang', 'asli']\n",
      "['tak', 'peduli', 'bila', 'tengah', 'sendiri', 'kunikmati', 'saja', 'dengan', 'caraku', 'meski', 'kuyakin', 'kelak', 'kan', 'ada', 'pengganti', 'namun', 'hari', 'ini']\n",
      "['semoga', 'orang', 'yg', 'pernah', 'jahat', 'dan', 'punya', 'niat', 'buruk', 'sama', 'saya']\n",
      "['jit']\n",
      "['rt', 'toetik']\n",
      "['jalan', 'kita', 'kayanya', 'udah', 'beda', 'yah', 'famy']\n",
      "['ora', 'ngutek', 'blasss']\n",
      "['kok', 'gabryela', 'marcelina', 'masih', 'ada', 'di', 'line', 'up', 'huhuhu']\n",
      "['rt', 'survey', 'lokasi', 'yang', 'diusulkan', 'pada', 'rembuk', 'rw', '01', 'kel', 'kwitang', 'survey', 'dilakukan', 'bersama', 'ketua', 'rw', 'lmak', 'dan', 'para', 'ketua', 'rt', 'sela']\n",
      "['']\n",
      "['hhh']\n",
      "['rt', 'breaking', 'news', 'hasil', 'pertemuan', 'amp', 'keluarga', 'dhani', 'part', '1']\n",
      "['optimistic']\n",
      "['handukin', 'istrinya', 'masuk', 'ke', 'kamar', 'mandi', 'dong', 'kalo', 'mau', 'dihandukin', 'itu', 'si', 'ong', 'wahh', 'bahaya']\n",
      "['']\n",
      "['o']\n",
      "['nurhasanah', 'jangan', 'ngomongin', 'susu', 'saru', 'wkwkwkwk']\n",
      "['rt', 'toetik']\n",
      "['ketika', 'aku', 'minta', 'maaf', 'bukan', 'berarti', 'aku', 'salah', 'hanya', 'saja', 'aku', 'lebih', 'menghargai', 'hubungan', 'kita', 'lebih', 'dari', 'keegoisanku']\n",
      "['selamat', 'berlibur', 'biar', 'refresh', 'yuk', 'liat', 'video', 'ini']\n",
      "['family', 'staycation', 'di', 'hotel', 'pandanaran', 'semarang']\n",
      "['a', 'clever', 'man', 'never', 'despairs', 'vovo']\n",
      "['dibutuhkan', 'segera', 'pengajar', 'bimbel', 'sma', 'mapel', 'mtk', 'fisika', 'kimia', 'biologi', 'ekonomi', 'sosiologi', 'geografi', 'dan']\n",
      "['sound', 'engineering', 'cobak']\n",
      "['']\n",
      "['people', 'amaze', 'me', 'everyday']\n",
      "['kapan', 'lg', 'klo', 'bkn', 'skrg', 'hot', 'promo', '495', 'jt', 'cp', '081225078811', '024', '7620010', 'rumahminimalist', 'semarang']\n",
      "['rt', 'toetik']\n",
      "['']\n",
      "['rt', 'seragamsma', 'uhhh', 'gvid', 'gayvid', 'sange', 'gayporn', 'ngaceng', 'kontol']\n",
      "['ready', 'stock', 'kaos', 'chelsea', 'gold', 'size', 'm', 'xl', 'harga', '80k', 'hub', '085726803784']\n",
      "['convinced', 'yall', 'want', 'attention']\n",
      "['']\n",
      "['mli', 'm', 'nya', 'apa', 'manchester']\n",
      "['laporin', 'wae', 'mas']\n",
      "['iyaaa', 'molenya', 'ong', 'juga', 'di', 'leher', 'bias', 'kak', 'anggi', 'nih']\n",
      "['cuma', 'manganime', 'ini', 'yg', 'bikin', 'saya', 'ngefans', 'sama', 'tokoh', 'protagonis', 'dan', 'antagonisnya', 'sekaligus', 'pengen', 'ngulang', 'nonton', 'da']\n",
      "['rt', 'udah', 'bubarkan', 'saja', 'front', 'pengacau', 'indonesia', 'mereka', 'gak', 'ada', 'guna']\n",
      "['anak', 'masuk', 'sd', 'tanpa', 'sekolah', 'tk', 'terlebih', 'dahulu', 'bisakah', 'updateemak']\n",
      "['']\n",
      "['gue', 'tuh', 'saking', 'bingungnya', 'jadi', 'gak', 'waras', 'sampe', 'ngepost', 'pp', 'kepanitiaan', 'di', 'akun', 'transh', 'anjer']\n",
      "['lmaooo']\n",
      "['rt', 'stw', 'support', 'by']\n",
      "['kalau', 'perpanjangan', 'sim', 'di', 'layanan', 'sim', 'keliling', 'bayar', 'berapa']\n",
      "['tak', 'ada', 'yg', 'perlu', 'disesali']\n",
      "['sadar', 'dari', 'hilang', 'ingatan', 'melodya', 'vanesha', 'laporkan', 'sheila', 'marcia']\n",
      "['gigglebox', 'village', 'semarang', 'kompol', 'maksum', 'rumahmakan']\n",
      "['remaja', 'tembak', 'belasan', 'siswa', 'sma', 'dua', 'orang', 'tewas']\n",
      "['dulu', 'sering', 'kelaparan', 'kini', 'alexis', 'sanchez', 'jadi', 'pemain', 'bergaji', 'tertinggi', 'di', 'liga', 'inggris']\n",
      "['survey', 'lokasi', 'yang', 'diusulkan', 'pada', 'rembuk', 'rw', '01', 'kel', 'kwitang', 'survey', 'dilakukan', 'bersama', 'ketua', 'rw', 'lmak', 'dan', 'para', 'ketua']\n",
      "['rt', 'toetik']\n",
      "['assalamualaikum', 'jom', 'bercuti', 'ke', 'indonesia', 'mai', 'keh', 'booking', 'pilih', 'tarikh', 'sendiri', 'whatsapp', 'ke', 'no', '6282117144661', 'semua']\n",
      "['mahrez']\n",
      "['rt', 'jangan', 'merasa', 'hanya', 'kamu', 'yang', 'paling', 'tersakiti', 'selamat', 'pagi']\n",
      "['nilazka', 'kdg', 'kitanya', 'jg', 'yg', 'mau', 'terjebak']\n",
      "['kali', 'ajaaa', 'atau', 'kita', 'ganti', 'aja', 'namanya', 'agak', 'korea', 'dkit', 'misalnya', 'sejeongaaa', 'g']\n",
      "['lmaooooo', 'im', 'deleting', 'twitter']\n",
      "['rt', 'tni', 'tum', 'perlu', 'juga', 'didesak', 'pembenahan', 'personel', 'admin', 'akun', 'sosmed', 'situs', 'resmi', 'di', 'seluruh', 'jajaran', 'tni']\n",
      "['rt', 'julio', 'spontan', 'a', 'nada', 'sedih', 'em', 'do', 'c']\n",
      "['habis', 'makan', 'siang', 'lanjut', 'karaoke', 'rasanya', 'gimana', 'gitu']\n",
      "['ya', 'blew', 'it']\n",
      "['rt', 'cuties', 'baby', 'byun', 'exol', 'bestfanarmy', 'iheartawards']\n"
     ]
    },
    {
     "name": "stdout",
     "output_type": "stream",
     "text": [
      "['rt', 'umin', 'exol', 'bestfanarmy', 'iheartawards']\n",
      "['rt', 'now', 'everybody', 'know', 'that', 'inside', 'babang', 'selebgram']\n",
      "['opini', 'aku', 'pilih', 'ahok', 'kok']\n",
      "['rt', 'latihan', 'psis', 'semarang', 'untuk', 'menjaga', 'kondisi', 'dan', 'kebugaran', 'pemain', 'selasa', '23', '1', 'psis']\n",
      "['serem', 'banget', 'ded', 'laporin', 'ke', 'pak', 'rt', 'cobak']\n",
      "['newprofilepic']\n",
      "['sedikit', 'orang', 'kaya', 'yang', 'memiliki', 'harta', 'kebanyakan', 'harta', 'yang', 'memiliki', 'mereka', 'robert', 'g', 'ingersoll', 'simpelize']\n",
      "['sama', 'bosmu', 'mesti', 'ditenani', 'tapi', 'kamu', 'yang', 'akan', 'lelah']\n",
      "['sabar']\n",
      "['chaeyeon', 'pict']\n",
      "['hayo', 'mas']\n",
      "['rt', 'toetik']\n",
      "['chaeyeon', 'gifs']\n",
      "['rt', 'giat', 'transit', 'lps', 'rw', '04', 'kel', 'meruya', 'utara', 'rabu', '24', '01', '2018']\n",
      "['bona', 'pict']\n",
      "['rt', 'giat', 'rutin', 'germor', 'satpel', 'kembangan', 'jl', 'lingkar', 'dalam', 'cni', 'kembangan', 'selatan', 'rabu', '24', '01', '2018']\n",
      "['genki', 'udah', 'terlihat', 'mulai', 'ikut', 'latihan', 'bareng', 'para', 'pemain', 'fortuna', 'dusseldorf', 'lainnya', 'katanya']\n",
      "['rt', 'toetik']\n",
      "['rt', 'gempa', 'jangan', 'dibecandain']\n",
      "['rt', 'chen', 'ah', 'o', 'exol', 'bestfanarmy', 'iheartawards']\n",
      "['bona', 'gifs']\n",
      "['jadwal', 'film', 'indonesia', 'yang', 'tayang', 'di', 'bioskop', 'semarang', 'hari', 'ini', 'semarang']\n",
      "['rt', 'stw', 'support', 'by']\n",
      "['eunseo', 'pict']\n",
      "['support']\n",
      "['kitab', 'yang', 'katanya', 'firman', 'tuhan', 'kok', 'isinya', 'menyesatkan']\n",
      "['lhooo', 'udah', 'kerja', 'to', 'bung', 'kirain', 'lari2', 'aja']\n",
      "['rt', 'uri', 'leader', 'exol', 'bestfanarmy', 'iheartawards']\n",
      "['eunseo', 'gifs']\n",
      "['rt', 'stw', 'support', 'by']\n",
      "['rt', 'jalan', 'thamrin', 'kota', 'semarang', 'akan', 'diberlakukan', 'dua', 'arah', 'kembali', 'catat', 'tanggalnya', 'lewat']\n",
      "['animate', 'komik']\n",
      "['jika', 'kita', 'berani', 'memiliki', 'keinginan', 'maka', 'kita', 'harus', 'berani', 'memiliki', 'keyakinan', 'untuk']\n",
      "['marvuat', 'vanua', 'sriwijaya', 'siddhayatra', 'subhiksa', 'yang', 'kita', 'cuma', 'temen']\n",
      "['serangkaian', 'gempa', 'terjadi', 'dalam', 'interval', 'yang', 'tidak', 'terlalu', 'lama', 'dan', 'kebetulan', 'lokasinya', 'semua', 'di', 'sekitaran', 'ring']\n",
      "['trus', 'dia', 'bilang', 'anisaaa', 'tolong', 'ambilin', 'handuk', 'dong', 'sayang']\n",
      "['yang', 'dilakukan', 'beliau', 'selaku', 'ketua', 'partai', 'sudah', 'benar', 'bang', 'krn', 'mencegah', 'negara', 'dari', 'kutukan', 'tuhan']\n",
      "['rt', 'exol', 'bestfanarmy', 'iheartawards']\n",
      "['rt', 'toetik']\n",
      "['rt', 'terima', 'kasih', 'utk', 'program', 'kredit', 'mitra', 'jateng', '25', 'silakan', 'lgsg', 'menghubungi', 'jateng']\n",
      "['and', 'back', 'to', 'ground']\n",
      "['giat', 'rutin', 'germor', 'satpel', 'kembangan', 'jl', 'lingkar', 'dalam', 'cni', 'kembangan', 'selatan', 'rabu', '24', '01', '2018']\n",
      "['kadang', 'meski', 'kamu', 'sangat', 'mencintai', 'seseorang', 'kamu', 'harus', 'melepaskannya', 'karena', 'tanpanya', 'kamu', 'temukan', 'dirimu', 'lebih', 'bahagia']\n",
      "['iyup']\n",
      "['kerjaan', 'paling', 'menyebalkan', 'administrasi', 'gak', 'cowok', 'banget', 'gitu', 'loh']\n",
      "['rt', 'toetik']\n",
      "['rt', 'toetik']\n",
      "['rt', 'masih', 'pagi', 'tapi', 'netijen', 'sudah', 'demikian', 'nganu']\n",
      "['dikirim', 'pake', 'paket', 'kilat', 'ae', 'dah', 'biar', 'cepet', 'sampe']\n",
      "['kalau', 'dah', 'dapat', 'sejuta', 'kirim', 'aku', 'ya']\n",
      "['rt', 'toetik']\n",
      "['tuhan', 'jaga', 'dia', 'disaat', 'aku', 'tak', 'disampingnya']\n",
      "['rt', 'toetik']\n",
      "['rt', 'toetik']\n",
      "['bismillah', 'lancar']\n",
      "['rt', 'seger', 'seger', 'lover']\n",
      "['hasbunallah', 'wanikmal', 'wakil', 'nikmal', 'maula', 'wanikman', 'nasir']\n",
      "['ketika', 'perjalanan', 'hidup', 'terasa', 'membosankan', 'maka', 'allah', 'menyuruh', 'kita', 'untuk', 'banyak', 'bersyukur']\n",
      "['rt', 'toetik']\n",
      "['minum', 'secangkir', 'kopi', 'hitam', 'bantu', 'turunkan', 'berat', 'badan', 'alasannya', 'infokopi', 'musikopi']\n",
      "['rt', 'toetik']\n",
      "['rt', 'toetik']\n",
      "['rt', 'toetik']\n",
      "['urus', 'e', 'ktp', 'sulit', 'komisi', 'a', 'dprd', 'semarang', 'datangi', 'layanan', 'rekam', 'data']\n",
      "['duhh', 'perasaan', 'comeback', 'mulu']\n",
      "['rt', 'toetik']\n",
      "['giat', 'transit', 'lps', 'rw', '04', 'kel', 'meruya', 'utara', 'rabu', '24', '01', '2018']\n",
      "['ready', 'stock', 'kaos', 'inter', 'gold', 'size', 'm', 'xl', 'harga', '80k', 'hub', '085726803784']\n",
      "['bagi', 'yang', 'ingin', 'tahu', 'solusi', 'visual', 'identity', 'yang', 'kami', 'berikan', 'kepada', 'klien', 'klien', 'kami', 'bisa', 'cek']\n",
      "['rt', 'toetik']\n",
      "['iya', 'nanti', 'perform', 'di', 'mcountdown', 'jam', '6', 'nonton', 'ae', 'hwhw']\n",
      "['']\n",
      "['rt', 'toetik']\n",
      "['']\n",
      "['rt', 'toetik']\n",
      "['lai', 'setuju', 'sanak']\n",
      "['hi']\n",
      "['a', 'lot', 'of', 'ppl', 'who', 'thought', 'they', 'had', 'indian', 'in', 'my', 'family', 'ended', 'up', 'getting', 'the', 'west', 'asian', 'thing', 'too', 'did']\n",
      "['']\n",
      "['i', 'liked', 'a', 'video', 'huh', 'gak', 'only', 'you']\n",
      "['rt', 'toetik']\n",
      "['chaeyeon']\n",
      "['rt', 'sofi', 'snack', 'tetap', '7', 'lilin', 'jetzsnack', 'jetzstar', 'yuk', 'ikutan', 'guys', 'wahyu', 'done', 'like', 'fp', 'fo']\n",
      "['kaak', 'ong', 'juga', 'punya', 'mole', 'di', 'leher', 'loh', 'berarti', 'dia', 'punya', 'strong', 'ability', 'jugakah']\n",
      "['bona']\n",
      "['siang', 'ini', 'mtsr', 'bergerak', 'mengantar', 'pasien', 'andhika', 'al', 'afghani', '23', 'kanker', 'tulang', 'kontrol', 'rs', 'kensaras']\n",
      "['asooyyyy']\n",
      "['eunseo']\n",
      "['rt', 'tumbler', 'kado', 'wisuda', 'yeay', 'hanya', '40k', 'selama', 'masa', 'promo', 'pesenya', 'di', 'loetju', 'bisa', 'datang', 'langsung', 'ke', 'outlet', 'kita', 'di']\n",
      "['rt', 'toetik']\n",
      "['pencabutan', 'gugatan', 'thd', 'kpk', 'yg', 'didaftarkan', '26', 'april', '2017', 'hanya', 'selang', 'dua', 'hari', 'stlh', 'tim', 'kuasa', 'hukum', 'miryam', 'mendafta']\n",
      "['rt', 'laporke', 'sopo', 'iki', 'istigfar', 'mas']\n",
      "['langsung', 'cek', 'di', 'spotify', 'dan', 'ternyata', 'ada']\n",
      "['my', 'fc', 'roleplaying', 'trash', 'di', 'buang', 'sayang']\n",
      "['astagfirullah']\n",
      "['kegagalan', 'bukanlah', 'akhir', 'dr', 'segalanya', 'justru', 'kegagalan', 'adalah', 'awal', 'keberhasilan', 'besar', 'kita']\n",
      "['laporke', 'sopo', 'iki', 'istigfar', 'mas']\n",
      "['rt', 'ngocok', 'd', 'bawah', 'flyoverrt', 'pamer', 'kontol', 'coli', 'eksib', 'exhib', 'kontol', 'kontolgay', 'kontollokal']\n",
      "['cara', 'untuk', 'mencapai', 'tujuan', 'adalah', 'memulainya', 'sekarang', 'gembok', 'motor', 'elektronik', 'bbm', '7fc70daf']\n",
      "['rt', 'umin', 'exol', 'bestfanarmy', 'iheartawards']\n",
      "['brown', 'sama', 'ash', 'gtt']\n",
      "['rt', 'semarang']\n",
      "['2']\n",
      "['rt', 'toetik']\n",
      "['terima', 'kasih', 'telah', 'menjadi', 'teman', 'humas', 'pajak', 'jakarta']\n",
      "['alien', '4d', 'and', 'golden', 'maknae']\n",
      "['jdi', 'tadi', 'aku', 'liatin', 'buku', 'soal', 'ipa', 'sepupu', 'sedih', 'sih', 'mau', 'bantuin', 'ngisi', 'tapi', 'udah', 'lupa', 'semua']\n",
      "['rt', 'karena', 'katanya', 'kai', 'udah', 'di', 'jepang', 'exol', 'bestfanarmy', 'iheartawards']\n",
      "['jika', 'anda', 'memelihara', 'kucing', 'biasanya', 'akan', 'banyak', 'bulu', 'bulu', 'kucing', 'yang', 'bertebaran', 'untuk', 'membersihkannya', 'gunakan', 'v']\n",
      "['cakep', 'min', 'tumblernya', 'ha', 'ha', 'ha']\n",
      "['instagram', 'toco', 'nica']\n",
      "['i', 'think', 'women', 'fall', 'asleep', 'faster', 'in', 'most', 'cases']\n",
      "['impian', 'memang', 'tidak', 'menjamin', 'kesuksesan', 'tapi', 'tanpa', 'impian', 'jangan', 'pernah', 'mimpi', 'bisa', 'sukses']\n",
      "['rt', 'ini', 'sosok', 'dua', 'pelajar', 'smk', 'yang', 'tega', 'membunuh', 'sopir', 'taksi', 'online', 'lewat']\n",
      "['rt', 'bdbys76', 'karo', 'nunggu', 'liga', 'monggo', 'istirahat', 'sejenak', 'tapi', 'ojo', 'turu', 'ndak', 'angel', 'gugahane']\n",
      "['wajib', 'retribusi', 'wr', 'pt', 'dunia', 'makmur', 'jaya']\n",
      "['']\n",
      "['os', 'preto', 'chave', 'abram', 'os', 'portes']\n",
      "['manusia', 'gatau', 'dunia', 'kepelatihan', 'aja', 'sok', 'sokan', 'pake', 'nama', 'coach', 'pelatih', 'yang', 'sukses', 'aja', 'gapake', 'nama', 'c']\n",
      "['rt', 'yang', 'sudah', 'bayar', 'ukt', 'bisa', 'dicek', 'di', 'sebelah', 'kanan']\n",
      "['hello', 'again', 'twitter']\n",
      "['pemetik', 'daun', 'teh', 'photo', 'story', 'mengumpulkan', 'daun2', 'teh', 'dalam', 'karung2', 'untuk', 'di', 'timbang', 'dan']\n",
      "['rt', 'bdbys76', 'karo', 'nunggu', 'liga', 'monggo', 'istirahat', 'sejenak', 'tapi', 'ojo', 'turu', 'ndak', 'angel', 'gugahane']\n",
      "['tumbler', 'kado', 'wisuda', 'yeay', 'hanya', '40k', 'selama', 'masa', 'promo', 'pesenya', 'di', 'loetju', 'bisa', 'datang', 'langsung', 'ke', 'outlet', 'kita']\n",
      "['rt', 'toetik']\n",
      "['resep', 'dan', 'cara', 'membuat', 'lontong', 'plastik', 'yang', 'enak']\n",
      "['leo', 'asmara', 'buat', 'apa', 'pikir', 'dua', 'kali', 'jika', 'memang', 'dia', 'adalah', 'pilihan', 'anda', 'langsung', 'saja', 'utarakan', 'semuanya']\n",
      "['resep', 'dan', 'cara', 'membuat', 'lontong', 'plastik', 'yang', 'enak']\n",
      "['resep', 'dan', 'cara', 'membuat', 'lontong', 'plastik', 'yang', 'enak']\n",
      "['yang', 'sudah', 'bayar', 'ukt', 'bisa', 'dicek', 'di', 'sebelah', 'kanan']\n",
      "['aku', 'dadi', 'patung', 'sing', 'gedi']\n",
      "['kok', 'lucuuuu']\n",
      "['pemilih', 'pemula', 'boyolali', 'emoh', 'jual', 'suara', 'dalam', 'pilgub', 'jateng', '2018']\n",
      "['apel', 'gabungan', 'kec', 'kembangan', 'penertiban', 'area', 'rw', '02', 'kel', 'meruya', 'selatan', 'rabu', '24', '01', '2018']\n",
      "['ch', 'hehe', 'makasih']\n",
      "['njrit', 'jauh', 'banget', 'ngapain', 'lu', 'di', 'lampung']\n",
      "['lhaaa', 'locak']\n",
      "['rt', 'baby', 'byun', 'exol', 'bestfanarmy', 'iheartawards']\n",
      "['ketika', 'allah', 'mencintai', 'seorang', 'hamba', 'dia', 'memberi', 'cobaan', 'agar', 'allah', 'mendengarkan', 'rintihan', 'tadharuu', 'doanya', 'hr', 'baihaqi']\n",
      "['rt', 'filtered', 'selfie', 'is', 'a', 'crime']\n",
      "['this', 'is', 'mine', 'the', 'other', 'areas', 'were', '1', 'west', 'asia', 'and', 'a', 'sprinkle', 'of', 'mediterranean']\n",
      "['hal', 'yg', 'membinasakan', 'hawa', 'nafsu', 'yg', 'dituruti', 'kekikiran', 'yg', 'dipatuhi', 'amp', 'seorang', 'yg', 'membanggakan', 'dirinya', 'sendiri', 'dg', 'sombong', 'hr', 'thabrani']\n",
      "['terimakasih', 'mau', 'ikutan', 'like']\n",
      "['semoga', 'menang']\n",
      "['rt', 'toetik']\n",
      "['rt', 'bukan', 'tentang', 'siapa', 'yang', 'romantis', 'tapi', 'tentang', 'siapa', 'yang', 'rajin', 'bales', 'topik', 'sampe', 'berbaris', 'baris']\n",
      "['rt', 'toetik']\n",
      "['pumanisa', 'dulu', 'guys', 'di', 'sela', 'sela', 'jadwal', 'ngajar', 'yang', 'padat']\n",
      "['wah', 'terima', 'kasih', 'buat', 'penjelasannya', 'iya', 'sih', 'doi', 'kayaknya', 'labih', 'cocok', 'jadi', 'aktor', 'model', 'sih', 'buat', 'idol', 'agak', 'kurang']\n",
      "['vin', 'sofi', 'darmesti', 'aku', 'suka', 'celana', 'pada', 'gambar', 'ini', 'krna', 'warna', 'd']\n",
      "['selamat', 'tinggal', 'kota', 'depok', 'kita', 'bersua', 'lagi', 'semester', 'depann']\n",
      "['idk']\n",
      "['rt', 'toetik']\n",
      "['solusi', 'atasi', 'kulit', 'kepala', 'berminyak', 'dan', 'rambut', 'kering', 'nih', 'baca', 'dan', 'like', 'ya', 'guys']\n",
      "['rt', 'toetik']\n",
      "['rt', 'ini', 'sosok', 'dua', 'pelajar', 'smk', 'yang', 'tega', 'membunuh', 'sopir', 'taksi', 'online', 'lewat']\n",
      "['ready', 'stock', 'kaos', 'liverpool', 'gold', 'size', 'm', 'xl', 'harga', '80k', 'hub', '085726803784']\n",
      "['rt', 'stw', 'support', 'by']\n",
      "['masih', 'jadi', 'tanggungan', 'mama', 'bapa', 'mandirinya', 'baru', 'mampu', 'beli', 'brg2', 'sendiri', 'heheh']\n",
      "['tidak', 'bisa', 'hanya', '3', 'bank', 'yaitu', 'btn', 'bni', 'dan', 'bri']\n",
      "['rt', 'jawabannya', 'simpel', 'karena', 'yg', 'minat', 'banyak']\n",
      "['rt', 'ef', 'kalo', 'liat', 'cowo', 'tegang', 'pengennya', 'q', 'telen', 'aja', 'tuh', 'kontol', 'ga', 'tau', 'gatel', 'aja', 'mulutnya', 'pengen', 'nyepong', 'hahahha', 'biarin', 'lah']\n",
      "['bahagiaku', 'bersamamu']\n",
      "['epic']\n",
      "['rt', 'toetik']\n",
      "['aku', 'tercipta', 'oleh', 'waktu', 'untuk', 'mengisi', 'waktu', 'selalu', 'memperbaiki', 'diri', 'di', 'setiap', 'waktu', 'dan', 'semua', 'waktu', 'ku', 'adalah', 'untuk', 'mencintai', 'kamu']\n",
      "['gempa', 'datang', 'kepada', 'mereka', 'yang', 'kafir', 'dan', 'yang', 'ndak', 'kafir', 'plus', 'kepada', 'mereka', 'yang', 'ngaku', 'beriman', 'tapi', 'kelakuannya', 'k']\n",
      "['tempoyak', 'itu', 'kuliner', 'endessss', 'brian']\n",
      "['adi', 'wkwkwkwkwk']\n",
      "['rt', 'gs', 'basa', 'basi', 'juga', 'bisa', 'dilakukan', 'dengan', 'tulus']\n",
      "['rt', 'klo', 'anggota', 'dpr', 'kayak', 'arsul', 'sani', 'ppp', 'semua', 'pasti', 'aman', 'dan', 'sejahtera', 'negara', 'ini', 'ilclgbt']\n",
      "['datang', 'ke', 'bank', 'aja', 'ntar', 'tagihannya', 'mucul', 'nominalnya']\n",
      "['semok', 'pastinya']\n",
      "['pembalut', 'tiens', 'direkomendasikan', 'dokter', 'loh', 'sms', 'wa', '083842437980', 'line', 'suci', 'amzah', 'semarang']\n",
      "['sometimes', 'when', 'i', 'see', 'you', 'i', 'think', 'about', 'what', 'it', 'would', 'be', 'like', 'if', 'it', 'was', 'just', 'you', 'and', 'me']\n",
      "['saya', 'suka', 'video', 'twice', 'likey', 'piano', 'cover']\n",
      "['mantap']\n",
      "['tidak', 'ada', 'nilai', 'mininal', 'yang', 'bisa', 'mendaftar', 'adalah', '50', 'terbaik', 'di', 'sekolah', 'tersebut', 'jika', 'sekolah', 'terakreditasi', 'a']\n",
      "['apanya', 'manoj', 'punjabi', 'nihh']\n",
      "['rt', 'toetik']\n",
      "['rt', 'toetik']\n",
      "['mereka', 'tumbuh', 'dengan', 'cepat']\n",
      "['since', 'everything', 'else', 'is', 'being', 'exposed', 'this', 'would', 'not', 'surprise', 'me']\n",
      "['rulesofsurvival']\n",
      "['lebi', 'hits', 'lagi', 'kembar', '3', 'beda', 'rahim', 'haha']\n",
      "['rt', 'toetik']\n",
      "['rt', 'toetik']\n",
      "['rt', 'toetik']\n",
      "['twit', 'terakhir', 'thread', 'itu', 'isinya', 'batas', 'akhir']\n",
      "['rt', 'toetik']\n",
      "['']\n",
      "['rt', '10', '40', 'wib', 'lalin', 'di', 'simp', 'simpang', 'lima', 'terpanatu', 'ramai', 'lancar', 'dr', 'berbagai', 'simpang', 'cuaca', 'cerah', 'dan', 'tetap', 'berhati2', 'lalinsmg', 'h']\n",
      "['tidak', 'peduli', 'seberapa', 'lambat', 'anda', 'pergi', 'asalkan', 'anda', 'tidak', 'berhenti', 'konfusius', 'cancer']\n",
      "['rt', 'giat', 'rutin', 'transit', 'kopilas', 'rw', '08', 'kel', 'joglo', 'rabu', '24', '01', '2018']\n",
      "['bulan', 'mei', '2017', 'aku', 'bareng', 'anak', 'dan', 'suami', 'bisa', 'liburan', 'ke', 'pantai', 'di', 'jogja', 'air', 'lautnya', 'bening', 'dengan', 'hampar']\n",
      "['ohhh', 'aman', 'lah', 'ya', 'berarti', 'thankyou', 'alan']\n",
      "['rt', 'toetik']\n",
      "['ekatolik', 'quote', 'be', 'kind', 'for', 'everyone', 'you', 'meet', 'is', 'fighting', 'a', 'battle', 'you', 'know', 'nothing', 'about', 'wendy', 'mass', 'tiap', 'li']\n",
      "['dm', 'gue', 'dong', 'nder']\n",
      "['rt', 'toetik']\n",
      "['saya', 'menambahkan', 'video', 'ke', 'playlist', 'deepend', 'janieck', 'to', 'rome']\n",
      "['giat', 'rutin', 'transit', 'lps', 'mercu', 'buana', 'rw', '02', 'kel', 'meruya', 'selatan', 'rabu', '24', '01', '2018']\n",
      "['tolong', 'untuk', 'hpku', 'yang', 'xiaomi', '4c', 'gambarnya', 'daniel', 'aja', 'boleh', 'lah']\n",
      "['rt', '06', '20', 'wib', 'lalin', 'di', 'simp', 'hanoman', 'terpantau', 'ramai', 'lancar', 'dr', 'jl', 'siliwangi', 'cuaca', 'cerah', 'lalinsmg']\n",
      "['rt', 'toetik']\n",
      "['rt', 'toetik']\n",
      "['aku', 'suka', 'celana', 'pada', 'gambar', 'ini', 'krna', 'warna', 'dan', 'designnya', 'yang', 'simple', 'kalem']\n",
      "['kepada', 'ri', 'rakyat', 'berharap']\n",
      "['rt', 'toetik']\n",
      "['julukan', 'kota', 'pemalang', 'apa', 'ya']\n",
      "['jangan', 'lupa', 'nonton', 'stjc', 'malam', 'ini', 'ayang', 'vb', 'cantiknya', 'kebangetan']\n",
      "['don', 't', 'dream', 'it', 's', 'over']\n",
      "['mu', 'donggggggg', 'hp', 'gue', 'xiaomi', '4c']\n",
      "['ngantuknya', 'bikin', 'pengen', 'ke', 'kamar', 'mandi']\n",
      "['rt', 'tetes', 'kursi', 'jabatan', 'oleh', 'emha', 'ainun', 'nadjib', 'orang', 'yang', 'berjabatan', 'punya', 'kelemahan', 'ia', 'bisa', 'terkondisikan', 'untuk', 'ht']\n",
      "['rulesofsurvival']\n",
      "['rasa', 'rasane', 'ko', 'rep', 'tak', 'gebuk', 'balik', 'tapi', 'kog', 'yo', 'wong', 'ra', 'waras', 'engko', 'dikiro', 'aq', 'sing', 'ra', 'waras']\n",
      "['gubernur', 'ganjar', 'hadir', 'jateng', 'bersholawat', 'bersama', 'habib', 'syech', 'assegaf']\n",
      "['remaja', 'asal', 'purwokerto', 'tega', 'tusuk', '11', 'kali', 'bayi', 'yang', 'baru', 'dilahirkannya']\n",
      "['mantan', 'kemendikbud', 'era', 'presiden', 'soeharto', 'daoed', 'joesoef', 'tutup', 'usia']\n",
      "['duhhh', 'itungan', 'sama', 'org', 'ini', 'njelimet', 'yaaa']\n",
      "['3', 'bank', 'yang', 'bisa', 'untuk', 'bayar', 'ukt', 'yaitu', 'btn', 'bni', 'dan', 'bri']\n",
      "['jawabannya', 'simpel', 'karena', 'yg', 'minat', 'banyak']\n",
      "['pan', 'pkb', 'hasan', 'sohibuliman']\n",
      "['rt', 'semarang']\n",
      "['ptuihh']\n",
      "['sofa', 'costum', 'sofa', 'costum', 'sofa', 'akbar', 'sofa', 'juga', 'menerima', 'pemesanan', 'pembuatan', 'custom', 'sofa', 'dan', 'sofa', 'sofa2', 'sofabed']\n",
      "['tingkatkan', 'pelayanan', 'bpjs', 'ketenagakerjaan', 'buka', 'kantor', 'cabang', 'kudus']\n",
      "['angkutan', 'daring', '700', 'taksi', 'online', 'beroperasi', 'di', 'soloraya']\n",
      "['rt', '10', '17', 'wib', 'lalin', 'di', 'simp', 'thamrin', 'terpantau', 'ramai', 'lancar', 'tetap', 'berhati2', 'amp', 'selalu', 'patuhi', 'rambu2', 'amp', 'marka', 'jln', 'lalinsmg']\n",
      "['konsumsi', 'bright', 'gas', 'di', 'semarang', 'naik']\n",
      "['giat', 'rutin', 'transit', 'kopilas', 'rw', '08', 'kel', 'joglo', 'rabu', '24', '01', '2018']\n",
      "['rt', '07', '20', 'wib', 'lalin', 'bundaran', 'tugumuda', 'terpantau', 'ramai', 'lancar', 'dipadati', 'kendaraan', 'dari', 'arah', 'jl', 'pandanaran', 'lalinsmg']\n",
      "['motivasiku', 'untuk', 'ibu', 'karena', 'aku', 'hanya', 'ingin', 'memberikan', 'alas', 'di', 'kakinya', 'agar', 'surgaku', 'terjaga', 'kelak']\n",
      "['rt', 'toetik']\n",
      "['penampilan', 'live', 'accoustic', 'di', 'ruang', 'tunggu', 'bandara', 'ahmad', 'yani', 'semarang', '22', '25', 'januari', '2018', 'pukul', '15', '00', '18', '00', 'wib']\n",
      "['rt', '10', '15', 'wib', 'lalin', 'di', 'simp', 'kyai', 'saleh', 'terpantau', 'ramai', 'lancar', 'dr', 'berbagai', 'simpang', 'cuaca', 'cerah', 'lalinsmg']\n",
      "['i', 'posted', 'a', 'new', 'video', 'to', 'facebook']\n",
      "['kasian', 'sama', 'fansnya', 'ngasih', 'barang2', 'mahal', 'terus', 'bangtan', 'dah', 'mampu', 'beli', 'sendiri', 'haha']\n",
      "['hih', 'cedak']\n",
      "['rt', 'waktunya', 'quiz', 'mingguan', 'kaosedhewe', '6', 'syaratnya', 'jawab', 'di', 'kolom', 'komentar', 'beserta', 'foto', 'screenshot', 'bahwa', 'kamu', 'sudah', 'retweet']\n",
      "['itulah', 'pemimpin', 'islami']\n",
      "['orang', 'hebat', 'bukan', 'orang', 'yg', 'hidup', 'tanpa', 'masalah', 'tapi', 'orang', 'hebat', 'adalah', 'mereka', 'yg', 'sanggup', 'menyelesaikan', 'masalah', 'dlm']\n",
      "['jangan', 'bandingkan', 'orang', 'yg', 'mencintaimu', 'dengan', 'masa', 'lalumu', 'hargai', 'dia', 'yg', 'kini', 'berusaha', 'membuatmu', 'bahagia']\n",
      "['pan', 'pkb', 'hasan', 'sohibuliman']\n"
     ]
    }
   ],
   "source": [
    "for kalimat in result:\n",
    "    print(kalimat)"
   ]
  },
  {
   "cell_type": "code",
   "execution_count": 20,
   "metadata": {
    "collapsed": true
   },
   "outputs": [],
   "source": [
    "from pyjarowinkler import distance\n",
    "import operator"
   ]
  },
  {
   "cell_type": "code",
   "execution_count": null,
   "metadata": {},
   "outputs": [],
   "source": [
    "fin = open(\"kamus.txt\", encoding='utf8')\n",
    "kamus = fin.readlines()\n",
    "kamus = [item.rstrip('\\n') for item in kamus]\n",
    "fin.close()\n",
    "\n",
    "i = 0\n",
    "lstkalimatbr = []\n",
    "lstdokumenbr = []\n",
    "for kalimat in result:\n",
    "    lstkalimatbr = []\n",
    "    for kata in kalimat:\n",
    "        per_kata = {}\n",
    "        for kms in kamus:\n",
    "            result = distance.get_jaro_distance(repr(kata), repr(kms), winkler=True, scaling=0.1)\n",
    "            per_kata.update({i: (result, kata, kamus)})\n",
    "            i = i + 1\n",
    "        maxi = max(per_kata.items(), key=operator.itemgetter(1))\n",
    "        lstkalimatbr.append(maxi[1][2])\n",
    "    lstdokumenbr.append(lstkalimatbr)"
   ]
  },
  {
   "cell_type": "code",
   "execution_count": null,
   "metadata": {
    "collapsed": true
   },
   "outputs": [],
   "source": [
    "df_tweets['normalize'].to_csv('nnn.csv', header=None, index=False)"
   ]
  },
  {
   "cell_type": "code",
   "execution_count": null,
   "metadata": {
    "collapsed": true
   },
   "outputs": [],
   "source": [
    "idx = 0\n",
    "result = []\n",
    "for row in df['text']:\n",
    "    \n",
    "    # normalize\n",
    "    usenorm = normalize()\n",
    "    text_norm = usenorm.remove_ascii(row) # normalisasi enter, 1 revw 1 baris\n",
    "    text_norm = usenorm.enterNormalize(text_norm) # normalisasi enter, 1 revw 1 baris\n",
    "    text_norm = usenorm.lowerNormalize(text_norm) # normalisasi huruf besar ke kecil\n",
    "    text_norm = usenorm.repeatcharNormalize(text_norm) # normalisasi titik yang berulang\n",
    "    text_norm = usenorm.linkNormalize(text_norm) # normalisasi link dalam text\n",
    "    text_norm = usenorm.spacecharNormalize(text_norm) # normalisasi spasi karakter\n",
    "    text_norm = usenorm.ellipsisNormalize(text_norm) # normalisasi elepsis (…)\n",
    "    \n",
    "    # tokenize\n",
    "    tok = tokenize() \n",
    "    text_norm = tok.WordTokenize(text_norm) # pisah tiap kata pada kalimat\n",
    "    result.append(text_norm)\n",
    "    \n",
    "    \n",
    "#     text_norm = usenorm.spellNormalize(text_norm) # cek spell dari kata perkata\n",
    "#     text_norm = usenorm.wordcNormalize(text_norm,2) # menyambung kata (malam-malam) (param: textlist, jmlh_loop)\n",
    "    # text_norm = usenorm.stemmingNormalize(text_norm,'word') # mengubah ke bentuk kata dasar (text, type_data)\n",
    "\n",
    "    text_norm = ' '.join(text_norm) # menggabung kalimat tokenize dengan separate spasi\n",
    "\n",
    "#     text_norm = usenorm.emoticonNormalize(text_norm) # menggabung struktur emoticon yang terpisah ([: - )] = [:-)])\n",
    "\n",
    "    # walking2\n",
    "    # konfer @ ke at untuk penunjuk tempat\n",
    "    \n",
    "#     output = open(\"output1.txt\",\"a\")\n",
    "#     output.write(str(text_norm))\n",
    "#     output.write('\\n')\n",
    "#     output.close()\n",
    "\n",
    "#     print(no, text_norm)\n",
    "#     df['text'][idx] = text_norm\n",
    "    idx += 1"
   ]
  },
  {
   "cell_type": "code",
   "execution_count": null,
   "metadata": {
    "collapsed": true
   },
   "outputs": [],
   "source": [
    "df['text'].to_csv('ttt1.csv', header=['tweets'], index=False)"
   ]
  },
  {
   "cell_type": "code",
   "execution_count": null,
   "metadata": {
    "collapsed": true
   },
   "outputs": [],
   "source": [
    "texts = df['text']\n",
    "texts.head()"
   ]
  },
  {
   "cell_type": "code",
   "execution_count": null,
   "metadata": {
    "collapsed": true
   },
   "outputs": [],
   "source": [
    "print(df['text'][4])\n",
    "type(df['text'][4])"
   ]
  },
  {
   "cell_type": "code",
   "execution_count": null,
   "metadata": {
    "collapsed": true
   },
   "outputs": [],
   "source": [
    "def encode_ascii_replace(row):\n",
    "    return row.encode('ascii', 'replace')"
   ]
  },
  {
   "cell_type": "code",
   "execution_count": null,
   "metadata": {
    "collapsed": true
   },
   "outputs": [],
   "source": [
    "t = df['text']\n",
    "t = t.apply(encode_ascii_replace)"
   ]
  },
  {
   "cell_type": "code",
   "execution_count": null,
   "metadata": {
    "collapsed": true
   },
   "outputs": [],
   "source": [
    "t[4].decode('utf-8')"
   ]
  },
  {
   "cell_type": "code",
   "execution_count": null,
   "metadata": {
    "collapsed": true
   },
   "outputs": [],
   "source": [
    "def decode(row):\n",
    "    return row.decode('utf-8')"
   ]
  },
  {
   "cell_type": "code",
   "execution_count": null,
   "metadata": {
    "collapsed": true
   },
   "outputs": [],
   "source": [
    "td = t.apply(decode)"
   ]
  },
  {
   "cell_type": "code",
   "execution_count": null,
   "metadata": {
    "collapsed": true
   },
   "outputs": [],
   "source": [
    "td.to_csv('text9.csv', header=['tweets'], index=False)"
   ]
  },
  {
   "cell_type": "markdown",
   "metadata": {},
   "source": [
    "## Text Data Cleaning"
   ]
  },
  {
   "cell_type": "code",
   "execution_count": null,
   "metadata": {
    "collapsed": true
   },
   "outputs": [],
   "source": [
    "texts_df = pd.read_csv('text9.csv')\n",
    "texts_df.head()"
   ]
  },
  {
   "cell_type": "code",
   "execution_count": null,
   "metadata": {
    "collapsed": true
   },
   "outputs": [],
   "source": [
    "import html\n",
    "\n",
    "def html_parser(row):\n",
    "    return html.unescape(row)"
   ]
  },
  {
   "cell_type": "code",
   "execution_count": null,
   "metadata": {
    "collapsed": true
   },
   "outputs": [],
   "source": [
    "tdf = texts_df['tweets']\n",
    "clean1 = tdf.apply(html_parser)\n",
    "clean1[22]"
   ]
  },
  {
   "cell_type": "code",
   "execution_count": null,
   "metadata": {
    "collapsed": true
   },
   "outputs": [],
   "source": [
    "def decoding_data(row):\n",
    "    return row.encode('ascii', 'ignore').decode('utf-8')"
   ]
  },
  {
   "cell_type": "code",
   "execution_count": null,
   "metadata": {
    "collapsed": true
   },
   "outputs": [],
   "source": [
    "clean2 = clean1.apply(decoding_data)\n",
    "clean2[53]"
   ]
  },
  {
   "cell_type": "code",
   "execution_count": null,
   "metadata": {
    "collapsed": true
   },
   "outputs": [],
   "source": [
    "import itertools\n",
    "\n",
    "def standardizing_words(row):\n",
    "    return ''.join(''.join(s)[:2] for _, s in itertools.groupby(row) )"
   ]
  },
  {
   "cell_type": "code",
   "execution_count": null,
   "metadata": {
    "collapsed": true
   },
   "outputs": [],
   "source": [
    "clean3 = clean2.apply(standardizing_words)\n",
    "print(clean2[49])\n",
    "clean3[49]"
   ]
  },
  {
   "cell_type": "code",
   "execution_count": null,
   "metadata": {
    "collapsed": true
   },
   "outputs": [],
   "source": [
    "import re\n",
    "\n",
    "def clean_url(row):\n",
    "    return re.sub(r\"http\\S+\", \"\", row)"
   ]
  },
  {
   "cell_type": "code",
   "execution_count": null,
   "metadata": {
    "collapsed": true
   },
   "outputs": [],
   "source": [
    "clean4 = clean3.apply(clean_url)\n",
    "print(clean3[0])\n",
    "clean4[0]"
   ]
  },
  {
   "cell_type": "code",
   "execution_count": null,
   "metadata": {
    "collapsed": true
   },
   "outputs": [],
   "source": [
    "def remove_newline(row):\n",
    "    return ' '.join(row.splitlines())"
   ]
  },
  {
   "cell_type": "code",
   "execution_count": null,
   "metadata": {
    "collapsed": true
   },
   "outputs": [],
   "source": [
    "clean5 = clean4.apply(remove_newline)\n",
    "clean5[0]"
   ]
  },
  {
   "cell_type": "code",
   "execution_count": null,
   "metadata": {
    "collapsed": true
   },
   "outputs": [],
   "source": [
    "from string import maketrans\n",
    "\n",
    "intab = \"=><;()^{}[]\\~\"\n",
    "outtab = \"\"\n",
    "trantab = maketrans(intab, outtab)\n",
    "\n",
    "def remove_unnecessary_punctuation(row):\n",
    "    return row.translate(trantab)"
   ]
  },
  {
   "cell_type": "code",
   "execution_count": null,
   "metadata": {
    "collapsed": true
   },
   "outputs": [],
   "source": [
    "# create sample documents\n",
    "doc_a = \"Brokoli bagus untuk dimakan. Adikku suka makan brokoli, tetapi ibuku tidak.\"\n",
    "doc_b = \"Ibuku menghabiskan banyak waktu berkeliling melihat adikku latihan bisbol.\"\n",
    "doc_c = \"Beberapa ahli kesehatan menyarankan bahwa mengemudi dapat menyebabkan ketegangan dan tekanan darah meningkat.\"\n",
    "doc_d = \"Saya sering merasakan tekanan untuk tampil seperti saat presentasi di sekolah.\"\n",
    "doc_e = \"Profesional kesehatan mengatakan bahwa brokoli itu baik untuk kesehatan.\"\n",
    "doc_f = \"Teman saya seorang pemain bisbol yang pernah mendapatkan juara.\"\n",
    "doc_g = \"Pemain bisbol yang bernama Flash itu sangat suka memakan brokoli.\"\n",
    "doc_h = \"Sopir yang mengemudi taksi itu mendapatkan tekanan dari penumpangnya.\"\n",
    "doc_i = \"Saat bertanding, olahraga bisbol memberikan ketegangan dan meningkatkan tekanan darah para penonton.\"\n",
    "doc_j = \"Ibuku menyarankan saya untuk memakan brokoli agar tekanan darah terkontrol.\"\n",
    "\n",
    "# compile sample documents into a list\n",
    "docs = [doc_a, doc_b, doc_c, doc_d, doc_e, doc_f, doc_g, doc_h, doc_i, doc_j]"
   ]
  },
  {
   "cell_type": "code",
   "execution_count": null,
   "metadata": {},
   "outputs": [],
   "source": [
    "from nltk.tokenize import RegexpTokenizer\n",
    "doc_j = \"Ibuku menyarankan saya untuk memakan brokoli agar tekanan darah terkontrol.\"\n",
    "a = [doc_j]\n",
    "\n",
    "tokenizer = RegexpTokenizer(r'\\w+|\\$[\\d\\.]+')\n",
    "print(tokenizer.tokenize(doc_j))"
   ]
  },
  {
   "cell_type": "code",
   "execution_count": null,
   "metadata": {},
   "outputs": [],
   "source": [
    "result = []\n",
    "for doc in docs:\n",
    "    print(doc)\n",
    "    tokenizer = RegexpTokenizer(r'\\w+|\\$[\\d\\.]+')\n",
    "    result.append(tokenizer.tokenize(doc))\n",
    "\n",
    "for i in result:\n",
    "    print(i)"
   ]
  },
  {
   "cell_type": "code",
   "execution_count": null,
   "metadata": {},
   "outputs": [],
   "source": [
    "from modulenorm.tokenize import Tokenize"
   ]
  },
  {
   "cell_type": "code",
   "execution_count": null,
   "metadata": {
    "collapsed": true
   },
   "outputs": [],
   "source": [
    "tok = Tokenize()"
   ]
  },
  {
   "cell_type": "code",
   "execution_count": null,
   "metadata": {
    "collapsed": true
   },
   "outputs": [],
   "source": []
  }
 ],
 "metadata": {
  "kernelspec": {
   "display_name": "Python 3",
   "language": "python",
   "name": "python3"
  },
  "language_info": {
   "codemirror_mode": {
    "name": "ipython",
    "version": 3
   },
   "file_extension": ".py",
   "mimetype": "text/x-python",
   "name": "python",
   "nbconvert_exporter": "python",
   "pygments_lexer": "ipython3",
   "version": "3.6.1"
  }
 },
 "nbformat": 4,
 "nbformat_minor": 2
}
