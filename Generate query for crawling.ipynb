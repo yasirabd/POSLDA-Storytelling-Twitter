{
 "cells": [
  {
   "cell_type": "code",
   "execution_count": 2,
   "metadata": {
    "collapsed": true
   },
   "outputs": [],
   "source": [
    "attractions = ['Klenteng Sam Poo Kong', 'Kawasan Simpang Lima', 'Brown Canyon semarang', 'Pantai Marina', \n",
    "               'Kawasan Pecinan Semarang', 'Balai Merapi PRPP Semarang', 'Anjungan Wisata Bandara A. Yani Semarang', 'Taman Bendungan Plered', \n",
    "               'Kampoeng Djadhoel Semarang', 'Sunrise Avenue Imagination Semarang', 'Semarang Kreatif Galeri', 'Taman Kasmaran Semarang', \n",
    "               'Lawang Sewu', 'Pantai Cipta', 'Pantai TRIMULYO, Trimulyo Genuk Semarang', 'Anjungan Kabupaten Pekalongan Puri Maerokoco']"
   ]
  },
  {
   "cell_type": "code",
   "execution_count": 109,
   "metadata": {},
   "outputs": [],
   "source": [
    "'''\n",
    "Klenteng Sam Poo Kong = Sam Poo Kong, #sampookong, Klenteng Sam Poo Kong\n",
    "Kawasan Simpang Lima = Simpang Lima, #simpanglima, Kawasan Simpang Lima\n",
    "'''\n",
    "import string\n",
    "\n",
    "PLACES = ['Klenteng', 'Kawasan']\n",
    "SEPARATOR = [',', '-', '|']\n",
    "\n",
    "def generate_query(text, place_name):\n",
    "    q = []\n",
    "    \n",
    "    text = string.capwords(text) # capitalize the first letter of each word\n",
    "    \n",
    "    # if word contains SEPARATOR then remove after it\n",
    "    for sep in SEPARATOR:\n",
    "        if sep in text:\n",
    "            text = text.split(sep, 1)[0]\n",
    "    q.append(text)\n",
    "    \n",
    "    # split text into words list\n",
    "    text = text.split(' ')\n",
    "    q.append(change_into_hashtags(text))\n",
    "    \n",
    "    # if word contains in PLACES, remove it\n",
    "    for word in text:\n",
    "        if word in PLACES:\n",
    "            text.remove(word)\n",
    "            q.append(' '.join(text))\n",
    "            q.append(change_into_hashtags(text))\n",
    "    \n",
    "    # if word contains place name, remove it\n",
    "    for word in text:\n",
    "        if word.lower() == place_name:\n",
    "            text.remove(word)\n",
    "            q.append(' '.join(text))\n",
    "            q.append(change_into_hashtags(text))\n",
    "    \n",
    "    return q\n",
    "\n",
    "def change_into_hashtags(text):\n",
    "    return '#'+''.join(text).lower()"
   ]
  },
  {
   "cell_type": "code",
   "execution_count": 110,
   "metadata": {},
   "outputs": [
    {
     "name": "stdout",
     "output_type": "stream",
     "text": [
      "['Klenteng Sam Poo Kong', '#klentengsampookong', 'Sam Poo Kong', '#sampookong']\n",
      "['Kawasan Simpang Lima', '#kawasansimpanglima', 'Simpang Lima', '#simpanglima']\n",
      "['Brown Canyon Semarang', '#browncanyonsemarang', 'Brown Canyon', '#browncanyon']\n",
      "['Pantai Marina', '#pantaimarina']\n",
      "['Kawasan Pecinan Semarang', '#kawasanpecinansemarang', 'Pecinan Semarang', '#pecinansemarang', 'Pecinan', '#pecinan']\n",
      "['Balai Merapi Prpp Semarang', '#balaimerapiprppsemarang', 'Balai Merapi Prpp', '#balaimerapiprpp']\n",
      "['Anjungan Wisata Bandara A. Yani Semarang', '#anjunganwisatabandaraa.yanisemarang', 'Anjungan Wisata Bandara A. Yani', '#anjunganwisatabandaraa.yani']\n",
      "['Taman Bendungan Plered', '#tamanbendunganplered']\n",
      "['Kampoeng Djadhoel Semarang', '#kampoengdjadhoelsemarang', 'Kampoeng Djadhoel', '#kampoengdjadhoel']\n",
      "['Sunrise Avenue Imagination Semarang', '#sunriseavenueimaginationsemarang', 'Sunrise Avenue Imagination', '#sunriseavenueimagination']\n",
      "['Semarang Kreatif Galeri', '#semarangkreatifgaleri', 'Kreatif Galeri', '#kreatifgaleri']\n",
      "['Taman Kasmaran Semarang', '#tamankasmaransemarang', 'Taman Kasmaran', '#tamankasmaran']\n",
      "['Lawang Sewu', '#lawangsewu']\n",
      "['Pantai Cipta', '#pantaicipta']\n",
      "['Pantai Trimulyo', '#pantaitrimulyo']\n",
      "['Anjungan Kabupaten Pekalongan Puri Maerokoco', '#anjungankabupatenpekalonganpurimaerokoco']\n"
     ]
    }
   ],
   "source": [
    "query = []\n",
    "for att in attractions:\n",
    "    generate = generate_query(att, 'semarang')\n",
    "    query.append(generate)\n",
    "\n",
    "for _ in query:\n",
    "    print(_)"
   ]
  },
  {
   "cell_type": "code",
   "execution_count": 111,
   "metadata": {
    "collapsed": true
   },
   "outputs": [],
   "source": [
    "jakarta = ['Jakarta Aquarium', 'Monumen Nasional', 'Taman Impian Jaya Ancol', 'Panorama JTB Wisma Keiai', 'Monumen Pancasila Sakti', 'Museum Nasional', 'Taman Suropati', 'Perkampungan Budaya Betawi', 'Danau PKP', 'Escape Hunt Jakarta', 'Museum Mandiri', 'PT. Taman Wisata Candi Borobudur Prambanan Ratu Boko', 'Kolam Pancing Telaga Damai', 'Kebun Binatang Ragunan', 'Gedung Arsip Mandiri', 'Gang Kancil RAYA', 'Cibugary Farm - Wisata Edukasi Cibugary', 'Bus Cipta Karunia | Info Bus Murah', 'Galeri Nasional Indonesia', 'Pemancingan Galatama Sodara Cibubur']"
   ]
  },
  {
   "cell_type": "code",
   "execution_count": 112,
   "metadata": {},
   "outputs": [
    {
     "name": "stdout",
     "output_type": "stream",
     "text": [
      "['Jakarta Aquarium', '#jakartaaquarium', 'Aquarium', '#aquarium']\n",
      "['Monumen Nasional', '#monumennasional']\n",
      "['Taman Impian Jaya Ancol', '#tamanimpianjayaancol']\n",
      "['Panorama Jtb Wisma Keiai', '#panoramajtbwismakeiai']\n",
      "['Monumen Pancasila Sakti', '#monumenpancasilasakti']\n",
      "['Museum Nasional', '#museumnasional']\n",
      "['Taman Suropati', '#tamansuropati']\n",
      "['Perkampungan Budaya Betawi', '#perkampunganbudayabetawi']\n",
      "['Danau Pkp', '#danaupkp']\n",
      "['Escape Hunt Jakarta', '#escapehuntjakarta', 'Escape Hunt', '#escapehunt']\n",
      "['Museum Mandiri', '#museummandiri']\n",
      "['Pt. Taman Wisata Candi Borobudur Prambanan Ratu Boko', '#pt.tamanwisatacandiborobudurprambananratuboko']\n",
      "['Kolam Pancing Telaga Damai', '#kolampancingtelagadamai']\n",
      "['Kebun Binatang Ragunan', '#kebunbinatangragunan']\n",
      "['Gedung Arsip Mandiri', '#gedungarsipmandiri']\n",
      "['Gang Kancil Raya', '#gangkancilraya']\n",
      "['Cibugary Farm ', '#cibugaryfarm']\n",
      "['Bus Cipta Karunia ', '#busciptakarunia']\n",
      "['Galeri Nasional Indonesia', '#galerinasionalindonesia']\n",
      "['Pemancingan Galatama Sodara Cibubur', '#pemancingangalatamasodaracibubur']\n"
     ]
    }
   ],
   "source": [
    "qjakarta = []\n",
    "for att in jakarta:\n",
    "    generate = generate_query(att, 'jakarta')\n",
    "    qjakarta.append(generate)\n",
    "\n",
    "for _ in qjakarta:\n",
    "    print(_)"
   ]
  },
  {
   "cell_type": "code",
   "execution_count": 113,
   "metadata": {
    "collapsed": true
   },
   "outputs": [],
   "source": [
    "bandung = ['American Tourister', 'Tebing Keraton', 'Curug Cimahi Rainbow Waterfalls Bandung', 'Gedung Sate', 'Patuha Ecotourism And Natural Attractions', 'Taman Photography', 'Bandung Science Center', 'Vinstages Station', 'Dusun Bambu', 'Chinatown Bandung', 'Bird & Bromelia Pavilion', 'Prasasti Curug Omas', 'Kebun Binatang Bandung Jawa Barat', 'Terminal Wisata Grafika Cikole', 'Kota Mini Lembang', 'Sentra Budidaya Cacing Lembang']"
   ]
  },
  {
   "cell_type": "code",
   "execution_count": 114,
   "metadata": {},
   "outputs": [
    {
     "name": "stdout",
     "output_type": "stream",
     "text": [
      "['American Tourister', '#americantourister']\n",
      "['Tebing Keraton', '#tebingkeraton']\n",
      "['Curug Cimahi Rainbow Waterfalls Bandung', '#curugcimahirainbowwaterfallsbandung', 'Curug Cimahi Rainbow Waterfalls', '#curugcimahirainbowwaterfalls']\n",
      "['Gedung Sate', '#gedungsate']\n",
      "['Patuha Ecotourism And Natural Attractions', '#patuhaecotourismandnaturalattractions']\n",
      "['Taman Photography', '#tamanphotography']\n",
      "['Bandung Science Center', '#bandungsciencecenter', 'Science Center', '#sciencecenter']\n",
      "['Vinstages Station', '#vinstagesstation']\n",
      "['Dusun Bambu', '#dusunbambu']\n",
      "['Chinatown Bandung', '#chinatownbandung', 'Chinatown', '#chinatown']\n",
      "['Bird & Bromelia Pavilion', '#bird&bromeliapavilion']\n",
      "['Prasasti Curug Omas', '#prasasticurugomas']\n",
      "['Kebun Binatang Bandung Jawa Barat', '#kebunbinatangbandungjawabarat', 'Kebun Binatang Jawa Barat', '#kebunbinatangjawabarat']\n",
      "['Terminal Wisata Grafika Cikole', '#terminalwisatagrafikacikole']\n",
      "['Kota Mini Lembang', '#kotaminilembang']\n",
      "['Sentra Budidaya Cacing Lembang', '#sentrabudidayacacinglembang']\n"
     ]
    }
   ],
   "source": [
    "qbandung = []\n",
    "for att in bandung:\n",
    "    generate = generate_query(att, 'bandung')\n",
    "    qbandung.append(generate)\n",
    "\n",
    "for _ in qbandung:\n",
    "    print(_)"
   ]
  },
  {
   "cell_type": "code",
   "execution_count": 127,
   "metadata": {},
   "outputs": [
    {
     "name": "stdout",
     "output_type": "stream",
     "text": [
      "['\"American Tourister\"', '\"#americantourister\"']\n",
      "\"American Tourister\" OR \"#americantourister\" -filter:retweet\n"
     ]
    }
   ],
   "source": [
    "# print list.index('curly')    ## 2\n",
    "query = ['American Tourister', '#americantourister']\n",
    "for _ in query:\n",
    "    query[query.index(_)] = '\"'+ _ + '\"'\n",
    "    \n",
    "print(query)\n",
    "concat = ' OR '.join(query) + ' -filter:retweet'\n",
    "print(concat)"
   ]
  },
  {
   "cell_type": "code",
   "execution_count": 144,
   "metadata": {
    "collapsed": true
   },
   "outputs": [],
   "source": [
    "import numpy as np\n",
    "import pandas as pd"
   ]
  },
  {
   "cell_type": "code",
   "execution_count": 145,
   "metadata": {
    "collapsed": true
   },
   "outputs": [],
   "source": [
    "df = pd.DataFrame({'a': []})"
   ]
  },
  {
   "cell_type": "code",
   "execution_count": 152,
   "metadata": {},
   "outputs": [],
   "source": [
    "df = df.append({'a': ''}, ignore_index=True)"
   ]
  },
  {
   "cell_type": "code",
   "execution_count": 187,
   "metadata": {},
   "outputs": [
    {
     "data": {
      "text/html": [
       "<div>\n",
       "<style>\n",
       "    .dataframe thead tr:only-child th {\n",
       "        text-align: right;\n",
       "    }\n",
       "\n",
       "    .dataframe thead th {\n",
       "        text-align: left;\n",
       "    }\n",
       "\n",
       "    .dataframe tbody tr th {\n",
       "        vertical-align: top;\n",
       "    }\n",
       "</style>\n",
       "<table border=\"1\" class=\"dataframe\">\n",
       "  <thead>\n",
       "    <tr style=\"text-align: right;\">\n",
       "      <th></th>\n",
       "      <th>a</th>\n",
       "    </tr>\n",
       "  </thead>\n",
       "  <tbody>\n",
       "  </tbody>\n",
       "</table>\n",
       "</div>"
      ],
      "text/plain": [
       "Empty DataFrame\n",
       "Columns: [a]\n",
       "Index: []"
      ]
     },
     "execution_count": 187,
     "metadata": {},
     "output_type": "execute_result"
    }
   ],
   "source": [
    "df_attractions = pd.DataFrame({'a': []})\n",
    "df_attractions"
   ]
  },
  {
   "cell_type": "code",
   "execution_count": 193,
   "metadata": {},
   "outputs": [
    {
     "name": "stdout",
     "output_type": "stream",
     "text": [
      "Empty DataFrame\n",
      "Columns: [a]\n",
      "Index: []\n",
      "             a\n",
      "0  ini tweet 1\n",
      "             a\n",
      "0  ini tweet 2\n",
      "             a\n",
      "0  ini tweet 1\n"
     ]
    }
   ],
   "source": [
    "df_attractions = pd.DataFrame({'a': []})\n",
    "print(df_attractions)\n",
    "df_tweet = pd.DataFrame({'a': ['ini tweet 1']})\n",
    "print(df_tweet)\n",
    "df_tweet2 = pd.DataFrame({'a': ['ini tweet 2']})\n",
    "print(df_tweet2)\n",
    "\n",
    "df_attractions = df_attractions.append(df_tweet, ignore_index=True)\n",
    "# df_attractions = pd.merge([df_attractions, df_tweet, df_tweet2])\n",
    "print(df_attractions)"
   ]
  },
  {
   "cell_type": "code",
   "execution_count": null,
   "metadata": {
    "collapsed": true
   },
   "outputs": [],
   "source": []
  }
 ],
 "metadata": {
  "kernelspec": {
   "display_name": "Python 3",
   "language": "python",
   "name": "python3"
  },
  "language_info": {
   "codemirror_mode": {
    "name": "ipython",
    "version": 3
   },
   "file_extension": ".py",
   "mimetype": "text/x-python",
   "name": "python",
   "nbconvert_exporter": "python",
   "pygments_lexer": "ipython3",
   "version": "3.6.1"
  }
 },
 "nbformat": 4,
 "nbformat_minor": 2
}
