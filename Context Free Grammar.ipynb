{
 "cells": [
  {
   "cell_type": "code",
   "execution_count": 1,
   "metadata": {},
   "outputs": [],
   "source": [
    "from nltk.parse.generate import generate, demo_grammar"
   ]
  },
  {
   "cell_type": "code",
   "execution_count": 2,
   "metadata": {},
   "outputs": [],
   "source": [
    "from nltk import CFG"
   ]
  },
  {
   "cell_type": "code",
   "execution_count": 3,
   "metadata": {},
   "outputs": [
    {
     "name": "stdout",
     "output_type": "stream",
     "text": [
      "\n",
      "  S -> NP VP\n",
      "  NP -> Det N\n",
      "  PP -> P NP\n",
      "  VP -> 'slept' | 'saw' NP | 'walked' PP\n",
      "  Det -> 'the' | 'a'\n",
      "  N -> 'man' | 'park' | 'dog'\n",
      "  P -> 'in' | 'with'\n",
      "\n"
     ]
    }
   ],
   "source": [
    "print(demo_grammar)"
   ]
  },
  {
   "cell_type": "code",
   "execution_count": 4,
   "metadata": {},
   "outputs": [],
   "source": [
    "grammar = CFG.fromstring(demo_grammar)"
   ]
  },
  {
   "cell_type": "code",
   "execution_count": 5,
   "metadata": {},
   "outputs": [
    {
     "name": "stdout",
     "output_type": "stream",
     "text": [
      "Grammar with 13 productions (start state = S)\n",
      "    S -> NP VP\n",
      "    NP -> Det N\n",
      "    PP -> P NP\n",
      "    VP -> 'slept'\n",
      "    VP -> 'saw' NP\n",
      "    VP -> 'walked' PP\n",
      "    Det -> 'the'\n",
      "    Det -> 'a'\n",
      "    N -> 'man'\n",
      "    N -> 'park'\n",
      "    N -> 'dog'\n",
      "    P -> 'in'\n",
      "    P -> 'with'\n"
     ]
    }
   ],
   "source": [
    "print(grammar)"
   ]
  },
  {
   "cell_type": "code",
   "execution_count": 6,
   "metadata": {},
   "outputs": [
    {
     "name": "stdout",
     "output_type": "stream",
     "text": [
      "the man slept\n",
      "the man saw the man\n",
      "the man saw the park\n",
      "the man saw the dog\n",
      "the man saw a man\n",
      "the man saw a park\n",
      "the man saw a dog\n",
      "the man walked in the man\n",
      "the man walked in the park\n",
      "the man walked in the dog\n"
     ]
    }
   ],
   "source": [
    "for sentence in generate(grammar, n=10):\n",
    "    print(' '.join(sentence))"
   ]
  },
  {
   "cell_type": "code",
   "execution_count": 7,
   "metadata": {},
   "outputs": [
    {
     "name": "stdout",
     "output_type": "stream",
     "text": [
      "the man slept\n",
      "the park slept\n",
      "the dog slept\n",
      "a man slept\n",
      "a park slept\n",
      "a dog slept\n"
     ]
    }
   ],
   "source": [
    "for sentence in generate(grammar, depth=4):\n",
    "    print(' '.join(sentence))"
   ]
  },
  {
   "cell_type": "code",
   "execution_count": 8,
   "metadata": {},
   "outputs": [
    {
     "data": {
      "text/plain": [
       "114"
      ]
     },
     "execution_count": 8,
     "metadata": {},
     "output_type": "execute_result"
    }
   ],
   "source": [
    "len(list(generate(grammar)))"
   ]
  },
  {
   "cell_type": "code",
   "execution_count": 9,
   "metadata": {},
   "outputs": [
    {
     "name": "stdout",
     "output_type": "stream",
     "text": [
      "the man slept\n",
      "the man saw the man\n",
      "the man saw the park\n",
      "the man saw the dog\n",
      "the man saw a man\n",
      "the man saw a park\n",
      "the man saw a dog\n",
      "the man walked in the man\n",
      "the man walked in the park\n",
      "the man walked in the dog\n",
      "the man walked in a man\n",
      "the man walked in a park\n",
      "the man walked in a dog\n",
      "the man walked with the man\n",
      "the man walked with the park\n",
      "the man walked with the dog\n",
      "the man walked with a man\n",
      "the man walked with a park\n",
      "the man walked with a dog\n",
      "the park slept\n",
      "the park saw the man\n",
      "the park saw the park\n",
      "the park saw the dog\n",
      "the park saw a man\n",
      "the park saw a park\n",
      "the park saw a dog\n",
      "the park walked in the man\n",
      "the park walked in the park\n",
      "the park walked in the dog\n",
      "the park walked in a man\n",
      "the park walked in a park\n",
      "the park walked in a dog\n",
      "the park walked with the man\n",
      "the park walked with the park\n",
      "the park walked with the dog\n",
      "the park walked with a man\n",
      "the park walked with a park\n",
      "the park walked with a dog\n",
      "the dog slept\n",
      "the dog saw the man\n",
      "the dog saw the park\n",
      "the dog saw the dog\n",
      "the dog saw a man\n",
      "the dog saw a park\n",
      "the dog saw a dog\n",
      "the dog walked in the man\n",
      "the dog walked in the park\n",
      "the dog walked in the dog\n",
      "the dog walked in a man\n",
      "the dog walked in a park\n",
      "the dog walked in a dog\n",
      "the dog walked with the man\n",
      "the dog walked with the park\n",
      "the dog walked with the dog\n",
      "the dog walked with a man\n",
      "the dog walked with a park\n",
      "the dog walked with a dog\n",
      "a man slept\n",
      "a man saw the man\n",
      "a man saw the park\n",
      "a man saw the dog\n",
      "a man saw a man\n",
      "a man saw a park\n",
      "a man saw a dog\n",
      "a man walked in the man\n",
      "a man walked in the park\n",
      "a man walked in the dog\n",
      "a man walked in a man\n",
      "a man walked in a park\n",
      "a man walked in a dog\n",
      "a man walked with the man\n",
      "a man walked with the park\n",
      "a man walked with the dog\n",
      "a man walked with a man\n",
      "a man walked with a park\n",
      "a man walked with a dog\n",
      "a park slept\n",
      "a park saw the man\n",
      "a park saw the park\n",
      "a park saw the dog\n",
      "a park saw a man\n",
      "a park saw a park\n",
      "a park saw a dog\n",
      "a park walked in the man\n",
      "a park walked in the park\n",
      "a park walked in the dog\n",
      "a park walked in a man\n",
      "a park walked in a park\n",
      "a park walked in a dog\n",
      "a park walked with the man\n",
      "a park walked with the park\n",
      "a park walked with the dog\n",
      "a park walked with a man\n",
      "a park walked with a park\n",
      "a park walked with a dog\n",
      "a dog slept\n",
      "a dog saw the man\n",
      "a dog saw the park\n",
      "a dog saw the dog\n",
      "a dog saw a man\n",
      "a dog saw a park\n",
      "a dog saw a dog\n",
      "a dog walked in the man\n",
      "a dog walked in the park\n",
      "a dog walked in the dog\n",
      "a dog walked in a man\n",
      "a dog walked in a park\n",
      "a dog walked in a dog\n",
      "a dog walked with the man\n",
      "a dog walked with the park\n",
      "a dog walked with the dog\n",
      "a dog walked with a man\n",
      "a dog walked with a park\n",
      "a dog walked with a dog\n"
     ]
    }
   ],
   "source": [
    "for sentence in generate(grammar):\n",
    "    print(' '.join(sentence))"
   ]
  },
  {
   "cell_type": "code",
   "execution_count": null,
   "metadata": {},
   "outputs": [],
   "source": []
  }
 ],
 "metadata": {
  "kernelspec": {
   "display_name": "Python 3",
   "language": "python",
   "name": "python3"
  },
  "language_info": {
   "codemirror_mode": {
    "name": "ipython",
    "version": 3
   },
   "file_extension": ".py",
   "mimetype": "text/x-python",
   "name": "python",
   "nbconvert_exporter": "python",
   "pygments_lexer": "ipython3",
   "version": "3.6.1"
  }
 },
 "nbformat": 4,
 "nbformat_minor": 2
}
