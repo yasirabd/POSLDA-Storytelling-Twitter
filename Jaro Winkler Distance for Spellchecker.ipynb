{
 "cells": [
  {
   "cell_type": "code",
   "execution_count": 1,
   "metadata": {
    "collapsed": true
   },
   "outputs": [],
   "source": [
    "from pyjarowinkler import distance\n",
    "import operator\n",
    "import time"
   ]
  },
  {
   "cell_type": "code",
   "execution_count": 2,
   "metadata": {
    "collapsed": true
   },
   "outputs": [],
   "source": [
    "fin = open(\"kamus.txt\", encoding='utf8')\n",
    "kamus = fin.readlines()\n",
    "kamus = [item.rstrip('\\n') for item in kamus]\n",
    "fin.close()"
   ]
  },
  {
   "cell_type": "code",
   "execution_count": 3,
   "metadata": {},
   "outputs": [
    {
     "name": "stdout",
     "output_type": "stream",
     "text": [
      "0.62\n"
     ]
    }
   ],
   "source": [
    "result = distance.get_jaro_distance('yg', 'yang', winkler=True, scaling=0.1)\n",
    "print(result)"
   ]
  },
  {
   "cell_type": "code",
   "execution_count": null,
   "metadata": {},
   "outputs": [],
   "source": [
    "start_time = time.clock()\n",
    "result2norm = []\n",
    "i = 1\n",
    "for tweet in result2:\n",
    "    tweet_time = time.clock()\n",
    "    temp_kalimat = []\n",
    "    print(\"Tweet\", i)\n",
    "    for token in tweet:\n",
    "        temp_kata = {'max': 0, 'kata': ''}\n",
    "        temp_kata['kata'] = token\n",
    "        for k in kamus:\n",
    "            result = distance.get_jaro_distance(token, k, winkler=True, scaling=0.1)\n",
    "            if result > temp_kata['max']:\n",
    "                temp_kata['max'] = result\n",
    "                temp_kata['kata'] = k\n",
    "                print(token, temp_kata['kata'], \"distance:\", result)\n",
    "        temp_kalimat.append(temp_kata['kata'])\n",
    "    result2norm.append(temp_kalimat)\n",
    "    print(\"Tweet\", i, \" selesai dalam\",time.clock() - tweet_time, \"seconds\")\n",
    "    i += 1\n",
    "print(time.clock() - start_time, \"seconds\")"
   ]
  },
  {
   "cell_type": "code",
   "execution_count": null,
   "metadata": {
    "collapsed": true
   },
   "outputs": [],
   "source": []
  }
 ],
 "metadata": {
  "kernelspec": {
   "display_name": "Python 3",
   "language": "python",
   "name": "python3"
  },
  "language_info": {
   "codemirror_mode": {
    "name": "ipython",
    "version": 3
   },
   "file_extension": ".py",
   "mimetype": "text/x-python",
   "name": "python",
   "nbconvert_exporter": "python",
   "pygments_lexer": "ipython3",
   "version": "3.6.1"
  }
 },
 "nbformat": 4,
 "nbformat_minor": 2
}
