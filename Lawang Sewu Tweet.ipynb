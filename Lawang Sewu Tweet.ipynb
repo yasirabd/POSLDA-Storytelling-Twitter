{
 "cells": [
  {
   "cell_type": "code",
   "execution_count": 1,
   "metadata": {},
   "outputs": [],
   "source": [
    "import pandas as pd\n",
    "import numpy as np"
   ]
  },
  {
   "cell_type": "code",
   "execution_count": 2,
   "metadata": {},
   "outputs": [
    {
     "data": {
      "text/plain": [
       "10"
      ]
     },
     "execution_count": 2,
     "metadata": {},
     "output_type": "execute_result"
    }
   ],
   "source": [
    "document = [\"Lawang-Sewu memiliki sistem pendingin air di bawah lantai, dan di atap. Itulah fungsi utama basement #lawangsewu\",\n",
    "            \"lawang-sewu berada di ujung Bodjongweg atau yang sekarang dikenal dengan nama Jalan Pemuda\",\n",
    "            \"lawang-sewu pernah digunakan sebagai penjara bawah tanah oleh serdadu Jepang.\",\n",
    "            \"lawang-sewu merupakan landmark Kota Semarang yang paling dikenal para turis baik lokal maupun asing\",\n",
    "            \"Lawang-Sewu adalah salah satu bangunan bersejarah yang dibangun oleh pemerintahan kolonial Belanda, pada 27 Februari 1904.\",\n",
    "            \"lawang-sewu dulu menjadi lokasi pertempuran yang hebat antara pemuda Angkatan Muda Kereta Api melawan Kempetai dan Kidobutai Jepang\",\n",
    "            \"Masyarakat setempat menyebutnya Lawang-Sewu (Seribu Pintu) dikarenakan bangunan tersebut memiliki pintu yang sangat banyak.\",\n",
    "            \"Lawang-Sewu dibangun pada tahun 1904 dan selesai pada tahun 1907. Terletak di bundaran Tugu Muda yang dahulu disebut Wilhelminaplein.\",\n",
    "            \"Lawang-Sewu tempo doeloe. Ada kereta api lewat juga di depannya.\",\n",
    "            \"di lantai dua terdapat aula besar yg dulu digunakan sebagai ruang pesta. Di sudut aula terpasang wastafel yg sudah ada sejak pertma kali lawang-sewu dibangun.\"]\n",
    "len(document)"
   ]
  },
  {
   "cell_type": "markdown",
   "metadata": {},
   "source": [
    "# Preprocessing"
   ]
  },
  {
   "cell_type": "code",
   "execution_count": 3,
   "metadata": {},
   "outputs": [],
   "source": [
    "# import\n",
    "from preprocess.normalize import Normalize\n",
    "from preprocess.tokenize import Tokenize\n",
    "from preprocess.symspell import SymSpell"
   ]
  },
  {
   "cell_type": "code",
   "execution_count": 4,
   "metadata": {},
   "outputs": [
    {
     "name": "stdout",
     "output_type": "stream",
     "text": [
      "Loading dictionary...\n",
      "Processing dictionary...\n",
      "Copied 94811 words to master dictionary...\n",
      "Copied 679534 hashes to master dictionary...\n"
     ]
    }
   ],
   "source": [
    "# initialize\n",
    "normalizer = Normalize()\n",
    "tokenizer = Tokenize()\n",
    "symspell = SymSpell(max_dictionary_edit_distance=3)\n",
    "symspell.load_complete_model_from_json('preprocess\\data\\corpus_complete_model.json', encoding=\"ISO-8859-1\")"
   ]
  },
  {
   "cell_type": "code",
   "execution_count": 5,
   "metadata": {},
   "outputs": [],
   "source": [
    "# do process\n",
    "doc_preprocessed = []\n",
    "\n",
    "for tweet in document:\n",
    "    # normalize\n",
    "    tweet_norm = normalizer.remove_ascii_unicode(tweet)\n",
    "    tweet_norm = normalizer.remove_rt_fav(tweet_norm)\n",
    "    tweet_norm = normalizer.lower_text(tweet_norm)\n",
    "    tweet_norm = normalizer.remove_newline(tweet_norm)\n",
    "    tweet_norm = normalizer.remove_url(tweet_norm)\n",
    "    tweet_norm = normalizer.remove_emoticon(tweet_norm)\n",
    "    tweet_norm = normalizer.remove_hashtag_mention(tweet_norm)\n",
    "    tweet_norm = normalizer.remove_punctuation(tweet_norm)\n",
    "    \n",
    "    # tokenize\n",
    "    tweet_tok = tokenizer.WordTokenize(tweet_norm, removepunct=True)\n",
    "    \n",
    "    # spell correction\n",
    "    temp = []\n",
    "    for token in tweet_tok:\n",
    "        suggestion = symspell.lookup(phrase=token, verbosity=1, max_edit_distance=3)\n",
    "\n",
    "        # option if there is no suggestion\n",
    "        if len(suggestion) > 0:\n",
    "            get_suggestion = str(suggestion[0]).split(':')[0]\n",
    "            temp.append(get_suggestion)\n",
    "        else:\n",
    "            temp.append(token)\n",
    "    tweet_prepared = ' '.join(temp)\n",
    "    \n",
    "    doc_preprocessed.append(tweet_prepared)"
   ]
  },
  {
   "cell_type": "code",
   "execution_count": 6,
   "metadata": {},
   "outputs": [
    {
     "name": "stdout",
     "output_type": "stream",
     "text": [
      "lawang-sewu memiliki sistem pendingin air di bawah lantai dan di atap itulah fungsi utama basement\n",
      "lawang-sewu berada di ujung bodjongweg atau yang sekarang dikenal dengan nama jalan pemuda\n",
      "lawang-sewu pernah digunakan sebagai penjara bawah tanah oleh serdadu jepang\n",
      "lawang-sewu merupakan landmark kota semarang yang paling dikenal para turis baik lokal maupun asing\n",
      "lawang-sewu adalah salah satu bangunan bersejarah yang dibangun oleh pemerintahan kolonial belanda pada 27 februari 1904\n",
      "lawang-sewu dulu menjadi lokasi pertempuran yang hebat antara pemuda angkatan muda kereta api melawan kempetai dan kidobutai jepang\n",
      "masyarakat setempat menyebutnya lawang-sewu seribu pintu dikarenakan bangunan tersebut memiliki pintu yang sangat banyak\n",
      "lawang-sewu dibangun pada tahun 1904 dan selesai pada tahun 907 terletak di bundaran tugu muda yang dahulu disebut wilhelminaplein\n",
      "lawang-sewu tempo doeloe ada kereta api lewat juga di depannya\n",
      "di lantai dua terdapat aula besar di dulu digunakan sebagai ruang pesta di sudut aula terpasang wastafel di sudah ada sejak pertama kali lawang-sewu dibangun\n"
     ]
    }
   ],
   "source": [
    "for _ in doc_preprocessed:\n",
    "    print(_)"
   ]
  },
  {
   "cell_type": "markdown",
   "metadata": {},
   "source": [
    "# POSLDA"
   ]
  },
  {
   "cell_type": "markdown",
   "metadata": {},
   "source": [
    "## HMM Tagger"
   ]
  },
  {
   "cell_type": "code",
   "execution_count": 7,
   "metadata": {},
   "outputs": [],
   "source": [
    "# import\n",
    "from hmmtagger.tagger import MainTagger\n",
    "from tokenization import *"
   ]
  },
  {
   "cell_type": "code",
   "execution_count": 8,
   "metadata": {},
   "outputs": [],
   "source": [
    "# initialize\n",
    "tagger = MainTagger(\"resource/Lexicon.trn\", \"resource/Ngram.trn\", 0, 3, 3, 0, 0, False, 0.2, 0, 500.0, 1)"
   ]
  },
  {
   "cell_type": "code",
   "execution_count": 9,
   "metadata": {},
   "outputs": [],
   "source": [
    "# do process\n",
    "doc_tagged = []\n",
    "\n",
    "for tweet in doc_preprocessed:\n",
    "    if len(tweet) == 0: continue\n",
    "    out = sentence_extraction(cleaning(tweet))\n",
    "\n",
    "    join_token = []\n",
    "    for o in out:\n",
    "        strtag = \" \".join(tokenisasi_kalimat(o)).strip()\n",
    "        join_token.extend(tagger.taggingStr(strtag))\n",
    "    doc_tagged.append(' '.join(join_token))"
   ]
  },
  {
   "cell_type": "code",
   "execution_count": 10,
   "metadata": {},
   "outputs": [
    {
     "data": {
      "text/plain": [
       "['lawang-sewu/NN memiliki/VBT sistem/NN pendingin/NN air/NN di/IN bawah/NN lantai/NN dan/CC di/IN atap/IN itulah/DT fungsi/NN utama/JJ basement/NN',\n",
       " 'lawang-sewu/NN berada/VBI di/IN ujung/VBT bodjongweg/NN atau/CC yang/SC sekarang/NN dikenal/VBT dengan/IN nama/NN jalan/NN pemuda/NN',\n",
       " 'lawang-sewu/NN pernah/RB digunakan/VBT sebagai/IN penjara/NN bawah/NN tanah/NN oleh/IN serdadu/NN jepang/NN',\n",
       " 'lawang-sewu/NN merupakan/VBT landmark/NN kota/NN semarang/NN yang/SC paling/RB dikenal/VBT para/DT turis/NN baik/JJ lokal/NN maupun/CC asing/JJ',\n",
       " 'lawang-sewu/NN adalah/VBT salah/JJ satu/CDP bangunan/NN bersejarah/VBI yang/SC dibangun/VBT oleh/IN pemerintahan/NN kolonial/JJ belanda/NN pada/IN 27/CDP februari/NN 1904/CDP',\n",
       " 'lawang-sewu/NN dulu/RB menjadi/VBT lokasi/NN pertempuran/NN yang/SC hebat/JJ antara/IN pemuda/NN angkatan/NN muda/JJ kereta/NN api/NN melawan/VBT kempetai/NN dan/CC kidobutai/NN jepang/NN',\n",
       " 'masyarakat/NN setempat/NN menyebutnya/VBT lawang-sewu/NN seribu/NN pintu/NN dikarenakan/VBT bangunan/NN tersebut/DT memiliki/VBT pintu/NN yang/SC sangat/RB banyak/JJ',\n",
       " 'lawang-sewu/NN dibangun/VBT pada/IN tahun/NN 1904/CDP dan/CC selesai/NN pada/IN tahun/NN 907/CDP terletak/VBI di/IN bundaran/NN tugu/NN muda/JJ yang/SC dahulu/JJ disebut/VBT wilhelminaplein/NN',\n",
       " 'lawang-sewu/NN tempo/NN doeloe/NN ada/VBI kereta/NN api/NN lewat/NN juga/RB di/IN depannya/NN',\n",
       " 'di/IN lantai/NN dua/CDP terdapat/VBT aula/NN besar/JJ di/IN dulu/RB digunakan/VBT sebagai/IN ruang/NN pesta/NN di/IN sudut/NNP aula/NN terpasang/VBI wastafel/NN di/IN sudah/MD ada/VBI sejak/IN pertama/CDO kali/NN lawang-sewu/NN dibangun/VBT']"
      ]
     },
     "execution_count": 10,
     "metadata": {},
     "output_type": "execute_result"
    }
   ],
   "source": [
    "doc_tagged"
   ]
  },
  {
   "cell_type": "markdown",
   "metadata": {},
   "source": [
    "## Kelas Tag"
   ]
  },
  {
   "cell_type": "code",
   "execution_count": 11,
   "metadata": {},
   "outputs": [],
   "source": [
    "# define\n",
    "Ccon = ['JJ', 'NN','NNP', 'NNG', 'VBI', 'VBT']\n",
    "Cfnc = ['OP', 'CP', 'GM', ';', ':', '\"', '.',\n",
    "         ',', '-', '...', 'RB', 'IN', 'MD', 'CC',\n",
    "         'SC', 'DT', 'UH', 'CDO', 'CDC', 'CDP', 'CDI',\n",
    "         'PRP', 'WP', 'PRN', 'PRL', 'NEG', 'SYM', 'RP', 'FW']"
   ]
  },
  {
   "cell_type": "code",
   "execution_count": 12,
   "metadata": {},
   "outputs": [],
   "source": [
    "# do process\n",
    "doc_classified = []\n",
    "\n",
    "for tweet in doc_tagged:\n",
    "    tweet_split = tweet.split(' ')\n",
    "    \n",
    "    temp = {\"Content\": [], \"Function\": []}\n",
    "    con = []\n",
    "    fnc = []\n",
    "    \n",
    "    for token in tweet_split:\n",
    "        word = token.split('/', 1)[0]\n",
    "        tag = token.split('/', 1)[1]\n",
    "        \n",
    "        if tag in Ccon:\n",
    "            con.append(token)\n",
    "        elif tag in Cfnc:\n",
    "            fnc.append(token)\n",
    "            \n",
    "    temp[\"Content\"].append(' '.join(con))\n",
    "    temp[\"Function\"].append(' '.join(fnc))\n",
    "    \n",
    "    doc_classified.append(temp)"
   ]
  },
  {
   "cell_type": "code",
   "execution_count": 13,
   "metadata": {},
   "outputs": [
    {
     "data": {
      "text/plain": [
       "[{'Content': ['lawang-sewu/NN memiliki/VBT sistem/NN pendingin/NN air/NN bawah/NN lantai/NN fungsi/NN utama/JJ basement/NN'],\n",
       "  'Function': ['di/IN dan/CC di/IN atap/IN itulah/DT']},\n",
       " {'Content': ['lawang-sewu/NN berada/VBI ujung/VBT bodjongweg/NN sekarang/NN dikenal/VBT nama/NN jalan/NN pemuda/NN'],\n",
       "  'Function': ['di/IN atau/CC yang/SC dengan/IN']},\n",
       " {'Content': ['lawang-sewu/NN digunakan/VBT penjara/NN bawah/NN tanah/NN serdadu/NN jepang/NN'],\n",
       "  'Function': ['pernah/RB sebagai/IN oleh/IN']},\n",
       " {'Content': ['lawang-sewu/NN merupakan/VBT landmark/NN kota/NN semarang/NN dikenal/VBT turis/NN baik/JJ lokal/NN asing/JJ'],\n",
       "  'Function': ['yang/SC paling/RB para/DT maupun/CC']},\n",
       " {'Content': ['lawang-sewu/NN adalah/VBT salah/JJ bangunan/NN bersejarah/VBI dibangun/VBT pemerintahan/NN kolonial/JJ belanda/NN februari/NN'],\n",
       "  'Function': ['satu/CDP yang/SC oleh/IN pada/IN 27/CDP 1904/CDP']},\n",
       " {'Content': ['lawang-sewu/NN menjadi/VBT lokasi/NN pertempuran/NN hebat/JJ pemuda/NN angkatan/NN muda/JJ kereta/NN api/NN melawan/VBT kempetai/NN kidobutai/NN jepang/NN'],\n",
       "  'Function': ['dulu/RB yang/SC antara/IN dan/CC']},\n",
       " {'Content': ['masyarakat/NN setempat/NN menyebutnya/VBT lawang-sewu/NN seribu/NN pintu/NN dikarenakan/VBT bangunan/NN memiliki/VBT pintu/NN banyak/JJ'],\n",
       "  'Function': ['tersebut/DT yang/SC sangat/RB']},\n",
       " {'Content': ['lawang-sewu/NN dibangun/VBT tahun/NN selesai/NN tahun/NN terletak/VBI bundaran/NN tugu/NN muda/JJ dahulu/JJ disebut/VBT wilhelminaplein/NN'],\n",
       "  'Function': ['pada/IN 1904/CDP dan/CC pada/IN 907/CDP di/IN yang/SC']},\n",
       " {'Content': ['lawang-sewu/NN tempo/NN doeloe/NN ada/VBI kereta/NN api/NN lewat/NN depannya/NN'],\n",
       "  'Function': ['juga/RB di/IN']},\n",
       " {'Content': ['lantai/NN terdapat/VBT aula/NN besar/JJ digunakan/VBT ruang/NN pesta/NN sudut/NNP aula/NN terpasang/VBI wastafel/NN ada/VBI kali/NN lawang-sewu/NN dibangun/VBT'],\n",
       "  'Function': ['di/IN dua/CDP di/IN dulu/RB sebagai/IN di/IN di/IN sudah/MD sejak/IN pertama/CDO']}]"
      ]
     },
     "execution_count": 13,
     "metadata": {},
     "output_type": "execute_result"
    }
   ],
   "source": [
    "doc_classified"
   ]
  },
  {
   "cell_type": "code",
   "execution_count": 14,
   "metadata": {},
   "outputs": [
    {
     "name": "stdout",
     "output_type": "stream",
     "text": [
      "['lawang-sewu/NN memiliki/VBT sistem/NN pendingin/NN air/NN bawah/NN lantai/NN fungsi/NN utama/JJ basement/NN', 'lawang-sewu/NN berada/VBI ujung/VBT bodjongweg/NN sekarang/NN dikenal/VBT nama/NN jalan/NN pemuda/NN', 'lawang-sewu/NN digunakan/VBT penjara/NN bawah/NN tanah/NN serdadu/NN jepang/NN', 'lawang-sewu/NN merupakan/VBT landmark/NN kota/NN semarang/NN dikenal/VBT turis/NN baik/JJ lokal/NN asing/JJ', 'lawang-sewu/NN adalah/VBT salah/JJ bangunan/NN bersejarah/VBI dibangun/VBT pemerintahan/NN kolonial/JJ belanda/NN februari/NN', 'lawang-sewu/NN menjadi/VBT lokasi/NN pertempuran/NN hebat/JJ pemuda/NN angkatan/NN muda/JJ kereta/NN api/NN melawan/VBT kempetai/NN kidobutai/NN jepang/NN', 'masyarakat/NN setempat/NN menyebutnya/VBT lawang-sewu/NN seribu/NN pintu/NN dikarenakan/VBT bangunan/NN memiliki/VBT pintu/NN banyak/JJ', 'lawang-sewu/NN dibangun/VBT tahun/NN selesai/NN tahun/NN terletak/VBI bundaran/NN tugu/NN muda/JJ dahulu/JJ disebut/VBT wilhelminaplein/NN', 'lawang-sewu/NN tempo/NN doeloe/NN ada/VBI kereta/NN api/NN lewat/NN depannya/NN', 'lantai/NN terdapat/VBT aula/NN besar/JJ digunakan/VBT ruang/NN pesta/NN sudut/NNP aula/NN terpasang/VBI wastafel/NN ada/VBI kali/NN lawang-sewu/NN dibangun/VBT']\n",
      "\n",
      "[['lawang-sewu', 'memiliki', 'sistem', 'pendingin', 'air', 'bawah', 'lantai', 'fungsi', 'utama', 'basement'], ['lawang-sewu', 'berada', 'ujung', 'bodjongweg', 'sekarang', 'dikenal', 'nama', 'jalan', 'pemuda'], ['lawang-sewu', 'digunakan', 'penjara', 'bawah', 'tanah', 'serdadu', 'jepang'], ['lawang-sewu', 'merupakan', 'landmark', 'kota', 'semarang', 'dikenal', 'turis', 'baik', 'lokal', 'asing'], ['lawang-sewu', 'adalah', 'salah', 'bangunan', 'bersejarah', 'dibangun', 'pemerintahan', 'kolonial', 'belanda', 'februari'], ['lawang-sewu', 'menjadi', 'lokasi', 'pertempuran', 'hebat', 'pemuda', 'angkatan', 'muda', 'kereta', 'api', 'melawan', 'kempetai', 'kidobutai', 'jepang'], ['masyarakat', 'setempat', 'menyebutnya', 'lawang-sewu', 'seribu', 'pintu', 'dikarenakan', 'bangunan', 'memiliki', 'pintu', 'banyak'], ['lawang-sewu', 'dibangun', 'tahun', 'selesai', 'tahun', 'terletak', 'bundaran', 'tugu', 'muda', 'dahulu', 'disebut', 'wilhelminaplein'], ['lawang-sewu', 'tempo', 'doeloe', 'ada', 'kereta', 'api', 'lewat', 'depannya'], ['lantai', 'terdapat', 'aula', 'besar', 'digunakan', 'ruang', 'pesta', 'sudut', 'aula', 'terpasang', 'wastafel', 'ada', 'kali', 'lawang-sewu', 'dibangun']]\n"
     ]
    }
   ],
   "source": [
    "# split document content and function\n",
    "doc_content = []\n",
    "for tweet in doc_classified:\n",
    "    doc_content.append(''.join(tweet['Content']))\n",
    "\n",
    "print(doc_content)\n",
    "print()\n",
    "\n",
    "# split tag and word\n",
    "doc_prepared = []\n",
    "for tweet in doc_content:\n",
    "    tweet_split = tweet.split(' ')\n",
    "    \n",
    "    temp = []\n",
    "    for token in tweet_split:\n",
    "        word = token.split('/', 1)[0]\n",
    "        temp.append(word)\n",
    "    \n",
    "    doc_prepared.append(temp)\n",
    "\n",
    "print(doc_prepared)"
   ]
  },
  {
   "cell_type": "markdown",
   "metadata": {},
   "source": [
    "## LDA"
   ]
  },
  {
   "cell_type": "code",
   "execution_count": 15,
   "metadata": {},
   "outputs": [],
   "source": [
    "# import\n",
    "from lda.ldamodel import LdaModel"
   ]
  },
  {
   "cell_type": "code",
   "execution_count": 16,
   "metadata": {},
   "outputs": [
    {
     "name": "stdout",
     "output_type": "stream",
     "text": [
      "80\n",
      "Wall time: 5.54 s\n"
     ]
    }
   ],
   "source": [
    "%%time\n",
    "# iniatialize\n",
    "k = 4\n",
    "alpha = 0.01\n",
    "beta = 0.01\n",
    "iterations = 1000\n",
    "\n",
    "# do process\n",
    "lda = LdaModel(doc_prepared, k, alpha, beta, iterations)"
   ]
  },
  {
   "cell_type": "code",
   "execution_count": 17,
   "metadata": {},
   "outputs": [],
   "source": [
    "result = lda.get_topic_word_pwz(doc_content)\n",
    "\n",
    "df_lda = pd.DataFrame(result, columns=['Topik', 'Kata', 'PWZ'])"
   ]
  },
  {
   "cell_type": "code",
   "execution_count": 18,
   "metadata": {},
   "outputs": [
    {
     "data": {
      "text/html": [
       "<div>\n",
       "<style scoped>\n",
       "    .dataframe tbody tr th:only-of-type {\n",
       "        vertical-align: middle;\n",
       "    }\n",
       "\n",
       "    .dataframe tbody tr th {\n",
       "        vertical-align: top;\n",
       "    }\n",
       "\n",
       "    .dataframe thead th {\n",
       "        text-align: right;\n",
       "    }\n",
       "</style>\n",
       "<table border=\"1\" class=\"dataframe\">\n",
       "  <thead>\n",
       "    <tr style=\"text-align: right;\">\n",
       "      <th></th>\n",
       "      <th>Topik</th>\n",
       "      <th>Kata</th>\n",
       "      <th>PWZ</th>\n",
       "    </tr>\n",
       "  </thead>\n",
       "  <tbody>\n",
       "    <tr>\n",
       "      <th>0</th>\n",
       "      <td>0</td>\n",
       "      <td>lawang-sewu/NN</td>\n",
       "      <td>0.086494</td>\n",
       "    </tr>\n",
       "    <tr>\n",
       "      <th>1</th>\n",
       "      <td>0</td>\n",
       "      <td>bangunan/NN</td>\n",
       "      <td>0.057759</td>\n",
       "    </tr>\n",
       "    <tr>\n",
       "      <th>2</th>\n",
       "      <td>0</td>\n",
       "      <td>dibangun/VBT</td>\n",
       "      <td>0.057759</td>\n",
       "    </tr>\n",
       "    <tr>\n",
       "      <th>3</th>\n",
       "      <td>0</td>\n",
       "      <td>pintu/NN</td>\n",
       "      <td>0.057759</td>\n",
       "    </tr>\n",
       "    <tr>\n",
       "      <th>4</th>\n",
       "      <td>0</td>\n",
       "      <td>tahun/NN</td>\n",
       "      <td>0.057759</td>\n",
       "    </tr>\n",
       "  </tbody>\n",
       "</table>\n",
       "</div>"
      ],
      "text/plain": [
       "   Topik            Kata       PWZ\n",
       "0      0  lawang-sewu/NN  0.086494\n",
       "1      0     bangunan/NN  0.057759\n",
       "2      0    dibangun/VBT  0.057759\n",
       "3      0        pintu/NN  0.057759\n",
       "4      0        tahun/NN  0.057759"
      ]
     },
     "execution_count": 18,
     "metadata": {},
     "output_type": "execute_result"
    }
   ],
   "source": [
    "df_lda.head()"
   ]
  },
  {
   "cell_type": "code",
   "execution_count": 19,
   "metadata": {},
   "outputs": [
    {
     "name": "stdout",
     "output_type": "stream",
     "text": [
      "0.101007\n",
      "0.067450\n",
      "0.067450\n",
      "0.067450\n",
      "0.067450\n",
      "0.033893\n",
      "0.033893\n",
      "0.033893\n",
      "0.033893\n",
      "0.033893\n",
      "0.033893\n",
      "0.033893\n",
      "0.033893\n",
      "0.033893\n",
      "0.033893\n"
     ]
    }
   ],
   "source": [
    "print(df_lda[df_lda['Topik']==2]['PWZ'].to_string(index=False))"
   ]
  },
  {
   "cell_type": "code",
   "execution_count": 20,
   "metadata": {},
   "outputs": [
    {
     "data": {
      "text/plain": [
       "3.9722691941716524"
      ]
     },
     "execution_count": 20,
     "metadata": {},
     "output_type": "execute_result"
    }
   ],
   "source": [
    "lda.perplexity()"
   ]
  },
  {
   "cell_type": "markdown",
   "metadata": {},
   "source": [
    "# Grammar"
   ]
  },
  {
   "cell_type": "code",
   "execution_count": 21,
   "metadata": {},
   "outputs": [],
   "source": [
    "from collections import defaultdict\n",
    "\n",
    "dict_ldapwz = defaultdict(list)"
   ]
  },
  {
   "cell_type": "code",
   "execution_count": 22,
   "metadata": {},
   "outputs": [],
   "source": [
    "for idx, row in df_lda.iterrows():\n",
    "    dict_ldapwz[row['Topik']].append([row['Kata'], row['PWZ']])"
   ]
  },
  {
   "cell_type": "code",
   "execution_count": 23,
   "metadata": {},
   "outputs": [
    {
     "data": {
      "text/plain": [
       "defaultdict(list,\n",
       "            {0: [['lawang-sewu/NN', 0.08649425287356322],\n",
       "              ['bangunan/NN', 0.05775862068965517],\n",
       "              ['dibangun/VBT', 0.05775862068965517],\n",
       "              ['pintu/NN', 0.05775862068965517],\n",
       "              ['tahun/NN', 0.05775862068965517],\n",
       "              ['muda/JJ', 0.05775862068965517],\n",
       "              ['salah/JJ', 0.029022988505747128],\n",
       "              ['belanda/NN', 0.029022988505747128],\n",
       "              ['februari/NN', 0.029022988505747128],\n",
       "              ['seribu/NN', 0.029022988505747128],\n",
       "              ['memiliki/VBT', 0.029022988505747128],\n",
       "              ['wilhelminaplein/NN', 0.029022988505747128],\n",
       "              ['adalah/VBT', 0.029022988505747128],\n",
       "              ['bersejarah/VBI', 0.029022988505747128],\n",
       "              ['pemerintahan/NN', 0.029022988505747128]],\n",
       "             1: [['lawang-sewu/NN', 0.07499999999999998],\n",
       "              ['jepang/NN', 0.07499999999999998],\n",
       "              ['kereta/NN', 0.07499999999999998],\n",
       "              ['api/NN', 0.07499999999999998],\n",
       "              ['pemuda/NN', 0.07499999999999998],\n",
       "              ['lokasi/NN', 0.037686567164179105],\n",
       "              ['angkatan/NN', 0.037686567164179105],\n",
       "              ['kempetai/NN', 0.037686567164179105],\n",
       "              ['kidobutai/NN', 0.037686567164179105],\n",
       "              ['doeloe/NN', 0.037686567164179105],\n",
       "              ['lewat/NN', 0.037686567164179105],\n",
       "              ['depannya/NN', 0.037686567164179105],\n",
       "              ['serdadu/NN', 0.037686567164179105],\n",
       "              ['menjadi/VBT', 0.037686567164179105],\n",
       "              ['melawan/VBT', 0.037686567164179105]],\n",
       "             2: [['lawang-sewu/NN', 0.10100671140939596],\n",
       "              ['lantai/NN', 0.0674496644295302],\n",
       "              ['bawah/NN', 0.0674496644295302],\n",
       "              ['aula/NN', 0.0674496644295302],\n",
       "              ['digunakan/VBT', 0.0674496644295302],\n",
       "              ['pendingin/NN', 0.03389261744966443],\n",
       "              ['utama/JJ', 0.03389261744966443],\n",
       "              ['ada/VBI', 0.03389261744966443],\n",
       "              ['sistem/NN', 0.03389261744966443],\n",
       "              ['terdapat/VBT', 0.03389261744966443],\n",
       "              ['besar/JJ', 0.03389261744966443],\n",
       "              ['pesta/NN', 0.03389261744966443],\n",
       "              ['tanah/NN', 0.03389261744966443],\n",
       "              ['kali/NN', 0.03389261744966443],\n",
       "              ['air/NN', 0.03389261744966443]],\n",
       "             3: [['lawang-sewu/NN', 0.11292134831460672],\n",
       "              ['dikenal/VBT', 0.11292134831460672],\n",
       "              ['merupakan/VBT', 0.056741573033707866],\n",
       "              ['turis/NN', 0.056741573033707866],\n",
       "              ['lokal/NN', 0.056741573033707866],\n",
       "              ['landmark/NN', 0.056741573033707866],\n",
       "              ['kota/NN', 0.056741573033707866],\n",
       "              ['asing/JJ', 0.056741573033707866],\n",
       "              ['baik/JJ', 0.056741573033707866],\n",
       "              ['semarang/NN', 0.056741573033707866],\n",
       "              ['jalan/NN', 0.056741573033707866],\n",
       "              ['ujung/VBT', 0.056741573033707866],\n",
       "              ['nama/NN', 0.056741573033707866],\n",
       "              ['bodjongweg/NN', 0.056741573033707866],\n",
       "              ['berada/VBI', 0.056741573033707866]]})"
      ]
     },
     "execution_count": 23,
     "metadata": {},
     "output_type": "execute_result"
    }
   ],
   "source": [
    "dict_ldapwz"
   ]
  },
  {
   "cell_type": "code",
   "execution_count": 24,
   "metadata": {},
   "outputs": [],
   "source": [
    "from grammar import CFG"
   ]
  },
  {
   "cell_type": "code",
   "execution_count": 29,
   "metadata": {},
   "outputs": [],
   "source": [
    "cfg = CFG()\n",
    "\n",
    "dict_story = cfg.create_sentences_from_data(dict(dict_ldapwz))"
   ]
  },
  {
   "cell_type": "code",
   "execution_count": 30,
   "metadata": {},
   "outputs": [
    {
     "data": {
      "text/plain": [
       "{0: ['seribu yang salah muda',\n",
       "  'tahun muda salah',\n",
       "  'wilhelminaplein yang muda muda',\n",
       "  'pintu muda terdapat bangunan',\n",
       "  'pintu muda merupakan pintu muda',\n",
       "  'bangunan yang muda bersejarah',\n",
       "  'pemerintahan bersejarah'],\n",
       " 1: ['api memiliki kempetai',\n",
       "  'lawang-sewu melawan kereta di kempetai',\n",
       "  'kidobutai terdapat kempetai',\n",
       "  'kempetai terdapat doeloe',\n",
       "  'lokasi sebagai lewat sebagai kempetai',\n",
       "  'angkatan yaitu lawang-sewu',\n",
       "  'jepang memiliki depannya'],\n",
       " 2: ['aula mempunyai lantai dan lawang-sewu',\n",
       "  'lawang-sewu besar besar',\n",
       "  'kali yang utama sebagai pesta dan sistem',\n",
       "  'air yang besar yaitu bawah',\n",
       "  'sistem yang utama ada',\n",
       "  'lantai yang besar yaitu bawah dan lawang-sewu',\n",
       "  'bawah merupakan aula dan lawang-sewu'],\n",
       " 3: ['bodjongweg yang asing baik',\n",
       "  'jalan sebagai bodjongweg yang asing',\n",
       "  'nama baik dikenal lokal',\n",
       "  'jalan asing',\n",
       "  'landmark yang asing merupakan turis',\n",
       "  'lawang-sewu berada',\n",
       "  'bodjongweg sebagai semarang dan bodjongweg']}"
      ]
     },
     "execution_count": 30,
     "metadata": {},
     "output_type": "execute_result"
    }
   ],
   "source": [
    "dict_story"
   ]
  },
  {
   "cell_type": "code",
   "execution_count": null,
   "metadata": {},
   "outputs": [],
   "source": []
  }
 ],
 "metadata": {
  "kernelspec": {
   "display_name": "Python 3",
   "language": "python",
   "name": "python3"
  },
  "language_info": {
   "codemirror_mode": {
    "name": "ipython",
    "version": 3
   },
   "file_extension": ".py",
   "mimetype": "text/x-python",
   "name": "python",
   "nbconvert_exporter": "python",
   "pygments_lexer": "ipython3",
   "version": "3.6.1"
  }
 },
 "nbformat": 4,
 "nbformat_minor": 2
}
