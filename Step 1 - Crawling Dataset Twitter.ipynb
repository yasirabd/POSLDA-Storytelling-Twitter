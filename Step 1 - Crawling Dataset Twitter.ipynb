{
 "cells": [
  {
   "cell_type": "code",
   "execution_count": 1,
   "metadata": {},
   "outputs": [],
   "source": [
    "import tweepy\n",
    "import time\n",
    "import sys\n",
    "import csv\n",
    "from datetime import datetime, timedelta\n",
    "\n",
    "# latitude = -7.059035     # geographical centre of search\n",
    "# longitude = 110.443972   # geographical centre of search\n",
    "latitude = -0.885296\n",
    "longitude = 119.863314\n",
    "max_range = 110          # search range in kilometres\n",
    "days_before = 11\n",
    "outfile = \"pantai_talise_tweets.csv\"\n",
    "\n",
    "consumer_key = 'JH8yplw1cyy6VCuu7bZTIaaMG'\n",
    "consumer_secret = 'HwKOAbZLUUPIHjcS8ulK2mNyJRmeHSXmK9bQUuyUnT9CSAYJc9'\n",
    "access_token = '477563933-f6iCy9TdX9CgJanbyz37qzYXOgWTPmpJEYIqMjRS'\n",
    "access_secret = 'LvhDkE7BB8y09wPaZhT8qhzIShQl7OgDUrA5gJggVHOen'"
   ]
  },
  {
   "cell_type": "code",
   "execution_count": 2,
   "metadata": {},
   "outputs": [],
   "source": [
    "auth = tweepy.OAuthHandler(consumer_key, consumer_secret)\n",
    "auth.set_access_token(access_token, access_secret)\n",
    "\n",
    "api = tweepy.API(auth)"
   ]
  },
  {
   "cell_type": "code",
   "execution_count": 3,
   "metadata": {},
   "outputs": [
    {
     "data": {
      "text/plain": [
       "53"
      ]
     },
     "execution_count": 3,
     "metadata": {},
     "output_type": "execute_result"
    }
   ],
   "source": [
    "csvfile = open(outfile, \"w\", newline='', encoding='utf-8')\n",
    "csvwriter = csv.writer(csvfile)\n",
    "\n",
    "row = [ \"id_user\", \"username\", \"created_at\", \"latitude\", \"longitude\", \"text\" ]\n",
    "csvwriter.writerow(row)"
   ]
  },
  {
   "cell_type": "code",
   "execution_count": 4,
   "metadata": {},
   "outputs": [],
   "source": [
    "travel_query = \"wisata OR liburan OR piknik OR travel OR #travel OR #liburan OR #wisata OR #explore OR #vacation OR #traveler\"\n",
    "culinary_query = \"kuliner OR makan OR minum OR #kuliner OR #food OR #foodies OR #culinary OR warung OR restoran\"\n",
    "\n",
    "coba_query = '\"Kelok 9\" -filter:retweet'\n",
    "\n",
    "search_query = travel_query + \" -filter:retweet\""
   ]
  },
  {
   "cell_type": "code",
   "execution_count": 5,
   "metadata": {},
   "outputs": [],
   "source": [
    "# terbatas hanya untuk 23 query\n",
    "# terbatas \n",
    "coba_query = '\"lawang sewu\" OR \"kota lama\" OR \"tbrs\" OR \"maerakaca\" OR \"pantai marina\" OR \\\n",
    "              \"simpang lima\" OR \"curug lawe\" OR \"sidomukti\" OR \"eling bening\" OR \"prpp\" OR \\\n",
    "              \"kopeng\" OR \"ronggowarsito\" OR \"palagan ambarawa\" OR \"bukit cinta\" OR \"tugu muda\" OR \\\n",
    "              \"sampokong\" OR \"tanjung emas\" OR \"pondok kopi\" OR \"bantir\" OR \"banyubiru\" OR \\\n",
    "              \"bandungan\" OR \"watugong\" OR \"getasan\" \\\n",
    "              -filter:retweet'\n",
    "pantai_query = '\"pantai marina\" OR \"pantai maron\" OR \"\"'\n",
    "pantai_talise_query = 'pantai talise'"
   ]
  },
  {
   "cell_type": "code",
   "execution_count": 6,
   "metadata": {},
   "outputs": [
    {
     "name": "stdout",
     "output_type": "stream",
     "text": [
      "got 1 results\n",
      "got 2 results\n",
      "got 3 results\n",
      "got 4 results\n",
      "got 5 results\n",
      "got 6 results\n",
      "got 7 results\n",
      "got 8 results\n",
      "got 9 results\n",
      "got 10 results\n",
      "got 11 results\n",
      "got 12 results\n",
      "got 13 results\n",
      "got 14 results\n",
      "Wall time: 1.21 s\n"
     ]
    }
   ],
   "source": [
    "%%time\n",
    "\n",
    "result_count = 0\n",
    "now = datetime.today()\n",
    "date_before = now - timedelta(days=days_before)\n",
    "\n",
    "c = tweepy.Cursor(api.search,\n",
    "                  q=pantai_talise_query,\n",
    "                  tweet_mode='extended',\n",
    "                  count=100,\n",
    "                  show_user=True,\n",
    "                  geocode = \"%f,%f,%dkm\" % (latitude, longitude, max_range)).items()\n",
    "# c = tweepy.Cursor(api.search,\n",
    "#                   q=pantai_talise_query,\n",
    "#                   tweet_mode='extended',\n",
    "#                   show_user=True,\n",
    "#                   count=100).items()\n",
    "\n",
    "while True:\n",
    "    try:\n",
    "        tweet = c.next()\n",
    "        if (not tweet.retweeted) and ('RT @' not in tweet.full_text):\n",
    "            # get tweets maximum before x days\n",
    "#             if tweet.created_at < date_before:\n",
    "#                 break\n",
    "            \n",
    "            if tweet.geo:\n",
    "                csvwriter.writerow([tweet.user.id, tweet.user.screen_name, tweet.created_at, \n",
    "                                   tweet.geo['coordinates'][0], tweet.geo['coordinates'][1], tweet.full_text.encode('utf-8', 'ignore').decode('utf-8', 'ignore')])\n",
    "                result_count += 1\n",
    "                print (\"got %d results\" % result_count)\n",
    "            else:\n",
    "                csvwriter.writerow([tweet.user.id, tweet.user.screen_name, tweet.created_at, \n",
    "                                    None, None, tweet.full_text.encode('utf-8', 'ignore').decode('utf-8', 'ignore')])\n",
    "                result_count += 1\n",
    "                print (\"got %d results\" % result_count)\n",
    "\n",
    "    except tweepy.TweepError as e:\n",
    "        print(e)\n",
    "        print(\"sleeping\")\n",
    "        time.sleep(15 * 60)\n",
    "        continue\n",
    "    except StopIteration:\n",
    "        break\n",
    "csvfile.close()"
   ]
  },
  {
   "cell_type": "code",
   "execution_count": 7,
   "metadata": {},
   "outputs": [
    {
     "ename": "UnicodeEncodeError",
     "evalue": "'charmap' codec can't encode character '\\ufffc' in position 65: character maps to <undefined>",
     "output_type": "error",
     "traceback": [
      "\u001b[1;31m---------------------------------------------------------------------------\u001b[0m",
      "\u001b[1;31mUnicodeEncodeError\u001b[0m                        Traceback (most recent call last)",
      "\u001b[1;32m<ipython-input-7-0fae7d8d3ab5>\u001b[0m in \u001b[0;36m<module>\u001b[1;34m()\u001b[0m\n\u001b[0;32m     16\u001b[0m         \u001b[0mf\u001b[0m\u001b[1;33m.\u001b[0m\u001b[0mwrite\u001b[0m\u001b[1;33m(\u001b[0m\u001b[0ma\u001b[0m\u001b[1;33m.\u001b[0m\u001b[0mtext\u001b[0m \u001b[1;33m+\u001b[0m \u001b[1;34m\"\\n\"\u001b[0m\u001b[1;33m)\u001b[0m\u001b[1;33m\u001b[0m\u001b[0m\n\u001b[0;32m     17\u001b[0m     \u001b[1;32melse\u001b[0m\u001b[1;33m:\u001b[0m\u001b[1;33m\u001b[0m\u001b[0m\n\u001b[1;32m---> 18\u001b[1;33m         \u001b[0mf\u001b[0m\u001b[1;33m.\u001b[0m\u001b[0mwrite\u001b[0m\u001b[1;33m(\u001b[0m\u001b[0mli\u001b[0m\u001b[1;33m.\u001b[0m\u001b[0mtext\u001b[0m \u001b[1;33m+\u001b[0m \u001b[1;34m\"\\n\"\u001b[0m\u001b[1;33m)\u001b[0m\u001b[1;33m\u001b[0m\u001b[0m\n\u001b[0m\u001b[0;32m     19\u001b[0m \u001b[0mf\u001b[0m\u001b[1;33m.\u001b[0m\u001b[0mclose\u001b[0m\u001b[1;33m(\u001b[0m\u001b[1;33m)\u001b[0m\u001b[1;33m\u001b[0m\u001b[0m\n",
      "\u001b[1;32mc:\\users\\yasir\\anaconda3\\lib\\encodings\\cp1252.py\u001b[0m in \u001b[0;36mencode\u001b[1;34m(self, input, final)\u001b[0m\n\u001b[0;32m     17\u001b[0m \u001b[1;32mclass\u001b[0m \u001b[0mIncrementalEncoder\u001b[0m\u001b[1;33m(\u001b[0m\u001b[0mcodecs\u001b[0m\u001b[1;33m.\u001b[0m\u001b[0mIncrementalEncoder\u001b[0m\u001b[1;33m)\u001b[0m\u001b[1;33m:\u001b[0m\u001b[1;33m\u001b[0m\u001b[0m\n\u001b[0;32m     18\u001b[0m     \u001b[1;32mdef\u001b[0m \u001b[0mencode\u001b[0m\u001b[1;33m(\u001b[0m\u001b[0mself\u001b[0m\u001b[1;33m,\u001b[0m \u001b[0minput\u001b[0m\u001b[1;33m,\u001b[0m \u001b[0mfinal\u001b[0m\u001b[1;33m=\u001b[0m\u001b[1;32mFalse\u001b[0m\u001b[1;33m)\u001b[0m\u001b[1;33m:\u001b[0m\u001b[1;33m\u001b[0m\u001b[0m\n\u001b[1;32m---> 19\u001b[1;33m         \u001b[1;32mreturn\u001b[0m \u001b[0mcodecs\u001b[0m\u001b[1;33m.\u001b[0m\u001b[0mcharmap_encode\u001b[0m\u001b[1;33m(\u001b[0m\u001b[0minput\u001b[0m\u001b[1;33m,\u001b[0m\u001b[0mself\u001b[0m\u001b[1;33m.\u001b[0m\u001b[0merrors\u001b[0m\u001b[1;33m,\u001b[0m\u001b[0mencoding_table\u001b[0m\u001b[1;33m)\u001b[0m\u001b[1;33m[\u001b[0m\u001b[1;36m0\u001b[0m\u001b[1;33m]\u001b[0m\u001b[1;33m\u001b[0m\u001b[0m\n\u001b[0m\u001b[0;32m     20\u001b[0m \u001b[1;33m\u001b[0m\u001b[0m\n\u001b[0;32m     21\u001b[0m \u001b[1;32mclass\u001b[0m \u001b[0mIncrementalDecoder\u001b[0m\u001b[1;33m(\u001b[0m\u001b[0mcodecs\u001b[0m\u001b[1;33m.\u001b[0m\u001b[0mIncrementalDecoder\u001b[0m\u001b[1;33m)\u001b[0m\u001b[1;33m:\u001b[0m\u001b[1;33m\u001b[0m\u001b[0m\n",
      "\u001b[1;31mUnicodeEncodeError\u001b[0m: 'charmap' codec can't encode character '\\ufffc' in position 65: character maps to <undefined>"
     ]
    }
   ],
   "source": [
    "from bs4 import BeautifulSoup\n",
    "import requests\n",
    "\n",
    "url = \"https://id.wikipedia.org/wiki/Daftar_tempat_wisata_di_Indonesia\"\n",
    "source = requests.get(url)\n",
    "plain_text = source.text\n",
    "\n",
    "soup = BeautifulSoup(plain_text, \"html.parser\")\n",
    "\n",
    "f = open(\"list_wisata.txt\", \"w\")\n",
    "\n",
    "for li in soup.findAll('li'):\n",
    "    a = li.find(\"a\", title=True)\n",
    "    \n",
    "    if a:\n",
    "        f.write(a.text + \"\\n\")\n",
    "    else:\n",
    "        f.write(li.text + \"\\n\")\n",
    "f.close()"
   ]
  },
  {
   "cell_type": "code",
   "execution_count": null,
   "metadata": {},
   "outputs": [],
   "source": [
    "with open('list_wisata.txt', 'r') as file:\n",
    "    list_wisata = [repr(line.rstrip()) for line in file]\n",
    "join_lw = ' OR '.join(list_wisata)"
   ]
  }
 ],
 "metadata": {
  "kernelspec": {
   "display_name": "Python 3",
   "language": "python",
   "name": "python3"
  },
  "language_info": {
   "codemirror_mode": {
    "name": "ipython",
    "version": 3
   },
   "file_extension": ".py",
   "mimetype": "text/x-python",
   "name": "python",
   "nbconvert_exporter": "python",
   "pygments_lexer": "ipython3",
   "version": "3.6.1"
  }
 },
 "nbformat": 4,
 "nbformat_minor": 2
}
