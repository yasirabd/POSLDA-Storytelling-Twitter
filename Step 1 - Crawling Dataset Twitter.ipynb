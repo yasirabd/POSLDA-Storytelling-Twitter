{
 "cells": [
  {
   "cell_type": "code",
   "execution_count": 1,
   "metadata": {
    "collapsed": true
   },
   "outputs": [],
   "source": [
    "import tweepy\n",
    "import time\n",
    "import sys\n",
    "import csv\n",
    "from datetime import datetime, timedelta\n",
    "\n",
    "latitude = -7.059035     # geographical centre of search\n",
    "longitude = 110.443972   # geographical centre of search\n",
    "max_range = 30          # search range in kilometres\n",
    "days_before = 3\n",
    "outfile = \"c_tweets.csv\"\n",
    "\n",
    "consumer_key = 'JH8yplw1cyy6VCuu7bZTIaaMG'\n",
    "consumer_secret = 'HwKOAbZLUUPIHjcS8ulK2mNyJRmeHSXmK9bQUuyUnT9CSAYJc9'\n",
    "access_token = '477563933-f6iCy9TdX9CgJanbyz37qzYXOgWTPmpJEYIqMjRS'\n",
    "access_secret = 'LvhDkE7BB8y09wPaZhT8qhzIShQl7OgDUrA5gJggVHOen'"
   ]
  },
  {
   "cell_type": "code",
   "execution_count": 2,
   "metadata": {
    "collapsed": true
   },
   "outputs": [],
   "source": [
    "auth = tweepy.OAuthHandler(consumer_key, consumer_secret)\n",
    "auth.set_access_token(access_token, access_secret)\n",
    "\n",
    "api = tweepy.API(auth)"
   ]
  },
  {
   "cell_type": "code",
   "execution_count": 3,
   "metadata": {},
   "outputs": [
    {
     "data": {
      "text/plain": [
       "53"
      ]
     },
     "execution_count": 3,
     "metadata": {},
     "output_type": "execute_result"
    }
   ],
   "source": [
    "csvfile = open(outfile, \"w\", newline='', encoding='utf-8')\n",
    "csvwriter = csv.writer(csvfile)\n",
    "\n",
    "row = [ \"id_user\", \"username\", \"created_at\", \"latitude\", \"longitude\", \"text\" ]\n",
    "csvwriter.writerow(row)"
   ]
  },
  {
   "cell_type": "code",
   "execution_count": 4,
   "metadata": {
    "collapsed": true
   },
   "outputs": [],
   "source": [
    "travel_query = \"wisata OR liburan OR piknik OR travel OR #travel OR #liburan OR #wisata OR #explore OR #vacation OR #traveler\"\n",
    "culinary_query = \"kuliner OR makan OR minum OR #kuliner OR #food OR #foodies OR #culinary OR warung OR restoran\"\n",
    "\n",
    "coba_query = '\"Kelok 9\" -filter:retweet'\n",
    "\n",
    "search_query = travel_query + \" -filter:retweet\""
   ]
  },
  {
   "cell_type": "code",
   "execution_count": 5,
   "metadata": {
    "collapsed": true
   },
   "outputs": [],
   "source": [
    "# terbatas hanya untuk 23 query\n",
    "# terbatas \n",
    "coba_query = '\"lawang sewu\" OR \"kota lama\" OR \"tbrs\" OR \"maerakaca\" OR \"pantai marina\" OR \\\n",
    "              \"simpang lima\" OR \"curug lawe\" OR \"sidomukti\" OR \"eling bening\" OR \"prpp\" OR \\\n",
    "              \"kopeng\" OR \"ronggowarsito\" OR \"palagan ambarawa\" OR \"bukit cinta\" OR \"tugu muda\" OR \\\n",
    "              \"sampokong\" OR \"tanjung emas\" OR \"pondok kopi\" OR \"bantir\" OR \"banyubiru\" OR \\\n",
    "              \"bandungan\" OR \"watugong\" OR \"getasan\" \\\n",
    "              -filter:retweet'\n",
    "pantai_query = '\"pantai marina\" OR \"pantai maron\" OR \"\"'"
   ]
  },
  {
   "cell_type": "code",
   "execution_count": 18,
   "metadata": {},
   "outputs": [
    {
     "name": "stdout",
     "output_type": "stream",
     "text": [
      "got 1 results\n",
      "got 2 results\n",
      "got 3 results\n",
      "got 4 results\n",
      "got 5 results\n",
      "got 6 results\n",
      "got 7 results\n",
      "got 8 results\n",
      "got 9 results\n",
      "got 10 results\n",
      "got 11 results\n",
      "got 12 results\n",
      "got 13 results\n",
      "got 14 results\n",
      "got 15 results\n",
      "got 16 results\n",
      "got 17 results\n",
      "got 18 results\n",
      "got 19 results\n",
      "got 20 results\n",
      "got 21 results\n",
      "got 22 results\n",
      "got 23 results\n",
      "got 24 results\n",
      "got 25 results\n",
      "got 26 results\n",
      "got 27 results\n",
      "got 28 results\n",
      "got 29 results\n",
      "got 30 results\n",
      "got 31 results\n",
      "got 32 results\n",
      "got 33 results\n",
      "got 34 results\n",
      "got 35 results\n",
      "got 36 results\n",
      "got 37 results\n",
      "got 38 results\n",
      "got 39 results\n",
      "got 40 results\n",
      "got 41 results\n",
      "got 42 results\n",
      "got 43 results\n",
      "got 44 results\n",
      "got 45 results\n",
      "got 46 results\n",
      "got 47 results\n",
      "got 48 results\n",
      "got 49 results\n",
      "got 50 results\n",
      "got 51 results\n",
      "got 52 results\n",
      "got 53 results\n",
      "got 54 results\n",
      "got 55 results\n",
      "got 56 results\n",
      "got 57 results\n",
      "got 58 results\n",
      "got 59 results\n",
      "got 60 results\n",
      "got 61 results\n",
      "got 62 results\n",
      "got 63 results\n",
      "got 64 results\n",
      "got 65 results\n",
      "got 66 results\n",
      "got 67 results\n",
      "got 68 results\n",
      "got 69 results\n",
      "got 70 results\n",
      "got 71 results\n",
      "got 72 results\n",
      "got 73 results\n",
      "got 74 results\n",
      "got 75 results\n",
      "got 76 results\n",
      "got 77 results\n",
      "got 78 results\n",
      "got 79 results\n",
      "got 80 results\n",
      "got 81 results\n",
      "got 82 results\n",
      "got 83 results\n",
      "got 84 results\n",
      "got 85 results\n",
      "got 86 results\n",
      "got 87 results\n",
      "got 88 results\n",
      "got 89 results\n",
      "got 90 results\n",
      "got 91 results\n",
      "got 92 results\n",
      "got 93 results\n",
      "got 94 results\n",
      "got 95 results\n",
      "got 96 results\n",
      "got 97 results\n",
      "got 98 results\n",
      "got 99 results\n",
      "got 100 results\n",
      "got 101 results\n",
      "got 102 results\n",
      "got 103 results\n",
      "got 104 results\n",
      "got 105 results\n",
      "got 106 results\n",
      "got 107 results\n",
      "got 108 results\n",
      "got 109 results\n",
      "got 110 results\n",
      "got 111 results\n",
      "got 112 results\n",
      "got 113 results\n",
      "got 114 results\n",
      "got 115 results\n",
      "got 116 results\n",
      "Wall time: 7.78 s\n"
     ]
    }
   ],
   "source": [
    "%%time\n",
    "\n",
    "result_count = 0\n",
    "now = datetime.today()\n",
    "date_before = now - timedelta(days=days_before)\n",
    "\n",
    "c = tweepy.Cursor(api.search,\n",
    "                  q=coba_query,\n",
    "                  tweet_mode='extended',\n",
    "                  geocode = \"%f,%f,%dkm\" % (latitude, longitude, max_range)).items()\n",
    "\n",
    "while True:\n",
    "    try:\n",
    "        tweet = c.next()\n",
    "        if (not tweet.retweeted) and ('RT @' not in tweet.full_text):\n",
    "            # get tweets maximum before x days\n",
    "            if tweet.created_at < date_before:\n",
    "                break\n",
    "            \n",
    "            if tweet.geo:\n",
    "                csvwriter.writerow([tweet.user.id, tweet.user.screen_name, tweet.created_at, \n",
    "                                   tweet.geo['coordinates'][0], tweet.geo['coordinates'][1], tweet.full_text.encode('utf-8', 'ignore').decode('utf-8', 'ignore')])\n",
    "                result_count += 1\n",
    "                print (\"got %d results\" % result_count)\n",
    "            else:\n",
    "                csvwriter.writerow([tweet.user.id, tweet.user.screen_name, tweet.created_at, \n",
    "                                    None, None, tweet.full_text.encode('utf-8', 'ignore').decode('utf-8', 'ignore')])\n",
    "                result_count += 1\n",
    "                print (\"got %d results\" % result_count)\n",
    "\n",
    "    except tweepy.TweepError as e:\n",
    "        print(e)\n",
    "        print(\"sleeping\")\n",
    "        time.sleep(15 * 60)\n",
    "        continue\n",
    "    except StopIteration:\n",
    "        break\n",
    "csvfile.close()"
   ]
  },
  {
   "cell_type": "code",
   "execution_count": null,
   "metadata": {
    "collapsed": true
   },
   "outputs": [],
   "source": [
    "from bs4 import BeautifulSoup\n",
    "import requests\n",
    "\n",
    "url = \"https://id.wikipedia.org/wiki/Daftar_tempat_wisata_di_Indonesia\"\n",
    "source = requests.get(url)\n",
    "plain_text = source.text\n",
    "\n",
    "soup = BeautifulSoup(plain_text, \"html.parser\")\n",
    "\n",
    "f = open(\"list_wisata.txt\", \"w\")\n",
    "\n",
    "for li in soup.findAll('li'):\n",
    "    a = li.find(\"a\", title=True)\n",
    "    \n",
    "    if a:\n",
    "        f.write(a.text + \"\\n\")\n",
    "    else:\n",
    "        f.write(li.text + \"\\n\")\n",
    "f.close()"
   ]
  },
  {
   "cell_type": "code",
   "execution_count": null,
   "metadata": {
    "collapsed": true
   },
   "outputs": [],
   "source": [
    "with open('list_wisata.txt', 'r') as file:\n",
    "    list_wisata = [repr(line.rstrip()) for line in file]\n",
    "join_lw = ' OR '.join(list_wisata)"
   ]
  }
 ],
 "metadata": {
  "kernelspec": {
   "display_name": "Python 3",
   "language": "python",
   "name": "python3"
  },
  "language_info": {
   "codemirror_mode": {
    "name": "ipython",
    "version": 3
   },
   "file_extension": ".py",
   "mimetype": "text/x-python",
   "name": "python",
   "nbconvert_exporter": "python",
   "pygments_lexer": "ipython3",
   "version": "3.6.1"
  }
 },
 "nbformat": 4,
 "nbformat_minor": 2
}
