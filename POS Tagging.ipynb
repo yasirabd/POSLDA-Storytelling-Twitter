{
 "cells": [
  {
   "cell_type": "code",
   "execution_count": 1,
   "metadata": {},
   "outputs": [
    {
     "name": "stdout",
     "output_type": "stream",
     "text": [
      "saya/PRP suka/VBI sekali/NN memakan/VBT bakso/NN 5/CDP buah/NN ./.\n"
     ]
    }
   ],
   "source": [
    "s = ['saya/PRP', 'suka/VBI', 'sekali/NN', 'memakan/VBT', 'bakso/NN', '5/CDP', 'buah/NN', './.']\n",
    "a = ' '.join(s)\n",
    "print(a)"
   ]
  },
  {
   "cell_type": "code",
   "execution_count": 7,
   "metadata": {},
   "outputs": [
    {
     "name": "stdout",
     "output_type": "stream",
     "text": [
      "<BracketParseCorpusReader in 'C:\\\\Users\\\\yasir\\\\AppData\\\\Roaming\\\\nltk_data\\\\corpora\\\\treebank\\\\combined'>\n",
      "3000\n",
      "[[('Pierre', 'NNP'), ('Vinken', 'NNP'), (',', ','), ('61', 'CD'), ('years', 'NNS'), ('old', 'JJ'), (',', ','), ('will', 'MD'), ('join', 'VB'), ('the', 'DT'), ('board', 'NN'), ('as', 'IN'), ('a', 'DT'), ('nonexecutive', 'JJ'), ('director', 'NN'), ('Nov.', 'NNP'), ('29', 'CD'), ('.', '.')], [('Mr.', 'NNP'), ('Vinken', 'NNP'), ('is', 'VBZ'), ('chairman', 'NN'), ('of', 'IN'), ('Elsevier', 'NNP'), ('N.V.', 'NNP'), (',', ','), ('the', 'DT'), ('Dutch', 'NNP'), ('publishing', 'VBG'), ('group', 'NN'), ('.', '.')], ...]\n"
     ]
    }
   ],
   "source": [
    "# Import the toolkit and tags\n",
    "import nltk\n",
    "from nltk.corpus import treebank\n",
    "\n",
    "# Train data - pretagged\n",
    "print(treebank)\n",
    "train_data = treebank.tagged_sents()[:3000]\n",
    "\n",
    "print(len(train_data))\n",
    "print(train_data)"
   ]
  },
  {
   "cell_type": "code",
   "execution_count": 6,
   "metadata": {},
   "outputs": [
    {
     "name": "stdout",
     "output_type": "stream",
     "text": [
      "<HiddenMarkovModelTagger 46 states and 10779 output symbols>\n",
      "[('today', 'NN'), ('is', 'VBZ'), ('a', 'DT'), ('good', 'JJ'), ('day', 'NN'), ('.', '.')]\n",
      "[('Joe', 'NNP'), ('met', 'VBD'), ('Joanne', 'NNP'), ('in', 'IN'), ('Delhi', 'NNP'), ('.', 'NNP')]\n",
      "[('Chicago', 'NNP'), ('is', 'VBZ'), ('the', 'DT'), ('birthplace', 'NNP'), ('of', 'NNP'), ('Ginny', 'NNP')]\n"
     ]
    }
   ],
   "source": [
    "# Import HMM module\n",
    "from nltk.tag import hmm\n",
    "\n",
    "# Setup a trainer with default(None) values\n",
    "# And train with the data\n",
    "trainer = hmm.HiddenMarkovModelTrainer()\n",
    "tagger = trainer.train_supervised(train_data)\n",
    "\n",
    "print (tagger)\n",
    "# Prints the basic data about the tagger\n",
    "\n",
    "print (tagger.tag(\"today is a good day .\".split()))\n",
    "\n",
    "print (tagger.tag(\"Joe met Joanne in Delhi .\".split()))\n",
    "\n",
    "print (tagger.tag(\"Chicago is the birthplace of Ginny\".split()))"
   ]
  },
  {
   "cell_type": "code",
   "execution_count": 1,
   "metadata": {},
   "outputs": [],
   "source": [
    "a = [['at sama poo keong temple heng he temple pic'],\n",
    "     ['sama poo keong m poo keong shines inyinnbo dag also known gedung batu temple'],\n",
    "     ['10 00 wib lalin simp sama poo keong terpantau ramai lancar di al pamularsih selalu utamakan keselamatan lam berkendara aling']]"
   ]
  },
  {
   "cell_type": "code",
   "execution_count": 6,
   "metadata": {},
   "outputs": [
    {
     "name": "stdout",
     "output_type": "stream",
     "text": [
      "['at sama poo keong temple heng he temple pic']\n",
      "['sama poo keong m poo keong shines inyinnbo dag also known gedung batu temple']\n",
      "['10 00 wib lalin simp sama poo keong terpantau ramai lancar di al pamularsih selalu utamakan keselamatan lam berkendara aling']\n",
      "['at sama poo keong temple heng he temple pic', 'sama poo keong m poo keong shines inyinnbo dag also known gedung batu temple', '10 00 wib lalin simp sama poo keong terpantau ramai lancar di al pamularsih selalu utamakan keselamatan lam berkendara aling']\n"
     ]
    }
   ],
   "source": [
    "b = []\n",
    "for t in a:\n",
    "    print(t)  \n",
    "    for f in t:\n",
    "        b.append(f)\n",
    "print(b)"
   ]
  },
  {
   "cell_type": "code",
   "execution_count": 27,
   "metadata": {},
   "outputs": [
    {
     "name": "stdout",
     "output_type": "stream",
     "text": [
      "fas\n",
      "fas\n",
      "aa\n",
      "\n",
      "['fas', 'fas', 'aa', '']\n"
     ]
    }
   ],
   "source": [
    "asal = [[1, ['fas']], [2, ['fas']], [3, ['aa']], [4, []]]\n",
    "b = []\n",
    "for t in asal:\n",
    "    tw = ''.join(t[1])\n",
    "    print(tw)\n",
    "    b.append(tw)\n",
    "    \n",
    "print(b)"
   ]
  },
  {
   "cell_type": "code",
   "execution_count": 29,
   "metadata": {},
   "outputs": [
    {
     "name": "stdout",
     "output_type": "stream",
     "text": [
      "afa\n",
      "afaf\n"
     ]
    }
   ],
   "source": [
    "a, b = 'afa', 'afaf'\n",
    "print(a)\n",
    "print(b)"
   ]
  },
  {
   "cell_type": "code",
   "execution_count": null,
   "metadata": {},
   "outputs": [],
   "source": []
  }
 ],
 "metadata": {
  "kernelspec": {
   "display_name": "Python 3",
   "language": "python",
   "name": "python3"
  },
  "language_info": {
   "codemirror_mode": {
    "name": "ipython",
    "version": 3
   },
   "file_extension": ".py",
   "mimetype": "text/x-python",
   "name": "python",
   "nbconvert_exporter": "python",
   "pygments_lexer": "ipython3",
   "version": "3.6.1"
  }
 },
 "nbformat": 4,
 "nbformat_minor": 2
}
