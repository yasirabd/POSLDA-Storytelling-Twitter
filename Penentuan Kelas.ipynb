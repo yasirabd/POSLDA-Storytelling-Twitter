{
 "cells": [
  {
   "cell_type": "code",
   "execution_count": 44,
   "metadata": {},
   "outputs": [],
   "source": [
    "tweet = ['terima/VBT kasih/NN data/NN kami/PRP sampaikan/VBT selain/NN shelter/NN balaikota/NN terdapat/VBT bebas/JJ titik/NN shelter/NN transit/NN point/NN antara/IN lain/JJ shelter/NN imam/NN bonjol/NN julius/NN shelter/NN simpang/NN lima/CDP shelter/NN shelter/NN elizabeth/NN jalur/NN trans/NN semarang/NN di/IN melalui/VBT jalan/NN pemuda/NN aga/IN koridor/NN 17/CDP bisa/MD terkoneksi/VBT',\n",
    "         'can/NN i/NN just/NN skip/NN the/FW days/NN to/FW the/FW next/NN holiday/NN please/NN ps/NN mind/NN the/FW cheeks/FW thank/FW you/FW louis/NN kinine/NN hotel/NN simpang/NN lima/CDP',\n",
    "         'di/IN boyolali/NN wakwak/NN simpang/NN lima/CDP',\n",
    "         'at/IN monumen/NN simpang/NN lima/CDP gumul/NN pic/NN',\n",
    "         'simpang/NN lima/CDP semarang/NN gemerlap/JJ di/IN malam/NN hari/NN']"
   ]
  },
  {
   "cell_type": "code",
   "execution_count": 45,
   "metadata": {},
   "outputs": [],
   "source": [
    "Ccon = ['JJ', 'NN','NNP', 'NNG', 'VBI', 'VBT', 'FW']\n",
    "Cfunc = ['OP', 'CP', 'GM', ';', ':', '\"', '.', \n",
    "         ',', '-', '...', 'RB', 'IN', 'MD', 'CC',\n",
    "         'SC', 'DT', 'UH', 'CDO', 'CDC', 'CDP', 'CDI',\n",
    "         'PRP', 'WP', 'PRN', 'PRL', 'NEG', 'SYM', 'RP']"
   ]
  },
  {
   "cell_type": "code",
   "execution_count": 46,
   "metadata": {},
   "outputs": [],
   "source": [
    "doc = []\n",
    "for t in tweet:\n",
    "    doc.append(t.split(' '))"
   ]
  },
  {
   "cell_type": "code",
   "execution_count": 47,
   "metadata": {},
   "outputs": [],
   "source": [
    "from collections import defaultdict\n",
    "con = {}\n",
    "func = defaultdict(list)"
   ]
  },
  {
   "cell_type": "code",
   "execution_count": 48,
   "metadata": {},
   "outputs": [],
   "source": [
    "import nltk.tag"
   ]
  },
  {
   "cell_type": "code",
   "execution_count": 49,
   "metadata": {},
   "outputs": [
    {
     "name": "stdout",
     "output_type": "stream",
     "text": [
      "['JJ', 'NN', 'NNP', 'NNG', 'VBI', 'VBT', 'FW']\n"
     ]
    }
   ],
   "source": [
    "print(Ccon)"
   ]
  },
  {
   "cell_type": "code",
   "execution_count": 67,
   "metadata": {},
   "outputs": [
    {
     "name": "stdout",
     "output_type": "stream",
     "text": [
      "['terima/VBT kasih/NN data/NN sampaikan/VBT selain/NN shelter/NN balaikota/NN terdapat/VBT bebas/JJ titik/NN shelter/NN transit/NN point/NN lain/JJ shelter/NN imam/NN bonjol/NN julius/NN shelter/NN simpang/NN shelter/NN shelter/NN elizabeth/NN jalur/NN trans/NN semarang/NN melalui/VBT jalan/NN pemuda/NN koridor/NN terkoneksi/VBT']\n",
      "['can/NN i/NN just/NN skip/NN the/FW days/NN to/FW the/FW next/NN holiday/NN please/NN ps/NN mind/NN the/FW cheeks/FW thank/FW you/FW louis/NN kinine/NN hotel/NN simpang/NN']\n",
      "['boyolali/NN wakwak/NN simpang/NN']\n",
      "['monumen/NN simpang/NN gumul/NN pic/NN']\n",
      "['simpang/NN semarang/NN gemerlap/JJ malam/NN hari/NN']\n"
     ]
    }
   ],
   "source": [
    "docs = []\n",
    "for d in doc:\n",
    "    doc_complete = {\"con\": [], \"func\": []}\n",
    "    con = []\n",
    "    func = []\n",
    "    for word in d:\n",
    "        w = word.split('/', 1)[0]\n",
    "        tag = word.split('/', 1)[1] \n",
    "        if tag in Ccon:\n",
    "            con.append(word)\n",
    "        elif tag in Cfunc:\n",
    "            func.append(word)\n",
    "    doc_complete[\"con\"].append(' '.join(con))\n",
    "    doc_complete[\"func\"].append(' '.join(func))\n",
    "    docs.append(doc_complete)\n",
    "    \n",
    "# print(docs)\n",
    "for _ in docs:\n",
    "    print(_[\"con\"])"
   ]
  },
  {
   "cell_type": "code",
   "execution_count": 71,
   "metadata": {},
   "outputs": [],
   "source": [
    "a = [[3, {'con': ['boyolali/NN wakwak/NN simpang/NN'], 'func': ['di/IN lima/CDP']}],\n",
    "     [4, {'con': ['monumen/NN simpang/NN gumul/NN pic/NN'], 'func': ['at/IN lima/CDP']}],\n",
    "     [5, {'con': ['simpang/NN semarang/NN gemerlap/JJ malam/NN hari/NN'], 'func': ['lima/CDP di/IN']}]]"
   ]
  },
  {
   "cell_type": "code",
   "execution_count": 72,
   "metadata": {},
   "outputs": [
    {
     "name": "stdout",
     "output_type": "stream",
     "text": [
      "['boyolali/NN wakwak/NN simpang/NN']\n",
      "['monumen/NN simpang/NN gumul/NN pic/NN']\n",
      "['simpang/NN semarang/NN gemerlap/JJ malam/NN hari/NN']\n"
     ]
    }
   ],
   "source": [
    "for aa in a:\n",
    "    id, tweet = aa[0], aa[1]\n",
    "    con, func = tweet[\"con\"], tweet[\"func\"]\n",
    "    print(con)"
   ]
  },
  {
   "cell_type": "code",
   "execution_count": null,
   "metadata": {},
   "outputs": [],
   "source": []
  }
 ],
 "metadata": {
  "kernelspec": {
   "display_name": "Python 3",
   "language": "python",
   "name": "python3"
  },
  "language_info": {
   "codemirror_mode": {
    "name": "ipython",
    "version": 3
   },
   "file_extension": ".py",
   "mimetype": "text/x-python",
   "name": "python",
   "nbconvert_exporter": "python",
   "pygments_lexer": "ipython3",
   "version": "3.6.1"
  }
 },
 "nbformat": 4,
 "nbformat_minor": 2
}
